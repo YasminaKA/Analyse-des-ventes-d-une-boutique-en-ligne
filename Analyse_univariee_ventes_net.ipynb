{
 "cells": [
  {
   "cell_type": "markdown",
   "id": "6d610e95",
   "metadata": {},
   "source": [
    "PROJET 5 : OPTIMISEZ LA GESTION DES DONNEES D'UNE BOUTIQUE "
   ]
  },
  {
   "cell_type": "markdown",
   "id": "8e813899",
   "metadata": {},
   "source": [
    "# IMPORTATION DES LIBRAIRIES ET DES DONNEES\n"
   ]
  },
  {
   "cell_type": "code",
   "execution_count": 1,
   "id": "70ba4e9d",
   "metadata": {},
   "outputs": [],
   "source": [
    "import pandas as pd\n",
    "import numpy as np\n",
    "import matplotlib.pyplot as plt\n",
    "import seaborn as sns\n",
    "import scipy.stats as stats\n",
    "from scipy.stats import zscore "
   ]
  },
  {
   "cell_type": "code",
   "execution_count": 2,
   "id": "eb77fc3e",
   "metadata": {},
   "outputs": [
    {
     "name": "stderr",
     "output_type": "stream",
     "text": [
      "C:\\Users\\BDS CREATIONS\\anaconda3\\lib\\site-packages\\openpyxl\\worksheet\\_reader.py:312: UserWarning: Unknown extension is not supported and will be removed\n",
      "  warn(msg)\n"
     ]
    }
   ],
   "source": [
    "erp = pd.read_excel('erp.xlsx')\n",
    "web = pd.read_excel('web.xlsx')\n",
    "liaison = pd.read_excel('liaison.xlsx')"
   ]
  },
  {
   "cell_type": "markdown",
   "id": "a08a31d7",
   "metadata": {},
   "source": [
    "# EXPLORER LES FICHIERS"
   ]
  },
  {
   "cell_type": "markdown",
   "id": "9879da5e",
   "metadata": {},
   "source": [
    "### Afficher l'en-tête avec df.head()"
   ]
  },
  {
   "cell_type": "code",
   "execution_count": 3,
   "id": "6aae371a",
   "metadata": {},
   "outputs": [
    {
     "data": {
      "text/html": [
       "<div>\n",
       "<style scoped>\n",
       "    .dataframe tbody tr th:only-of-type {\n",
       "        vertical-align: middle;\n",
       "    }\n",
       "\n",
       "    .dataframe tbody tr th {\n",
       "        vertical-align: top;\n",
       "    }\n",
       "\n",
       "    .dataframe thead th {\n",
       "        text-align: right;\n",
       "    }\n",
       "</style>\n",
       "<table border=\"1\" class=\"dataframe\">\n",
       "  <thead>\n",
       "    <tr style=\"text-align: right;\">\n",
       "      <th></th>\n",
       "      <th>product_id</th>\n",
       "      <th>onsale_web</th>\n",
       "      <th>price</th>\n",
       "      <th>stock_quantity</th>\n",
       "      <th>stock_status</th>\n",
       "    </tr>\n",
       "  </thead>\n",
       "  <tbody>\n",
       "    <tr>\n",
       "      <th>0</th>\n",
       "      <td>3847</td>\n",
       "      <td>1</td>\n",
       "      <td>24.2</td>\n",
       "      <td>0</td>\n",
       "      <td>outofstock</td>\n",
       "    </tr>\n",
       "    <tr>\n",
       "      <th>1</th>\n",
       "      <td>3849</td>\n",
       "      <td>1</td>\n",
       "      <td>34.3</td>\n",
       "      <td>0</td>\n",
       "      <td>outofstock</td>\n",
       "    </tr>\n",
       "    <tr>\n",
       "      <th>2</th>\n",
       "      <td>3850</td>\n",
       "      <td>1</td>\n",
       "      <td>20.8</td>\n",
       "      <td>0</td>\n",
       "      <td>outofstock</td>\n",
       "    </tr>\n",
       "    <tr>\n",
       "      <th>3</th>\n",
       "      <td>4032</td>\n",
       "      <td>1</td>\n",
       "      <td>14.1</td>\n",
       "      <td>0</td>\n",
       "      <td>outofstock</td>\n",
       "    </tr>\n",
       "    <tr>\n",
       "      <th>4</th>\n",
       "      <td>4039</td>\n",
       "      <td>1</td>\n",
       "      <td>46.0</td>\n",
       "      <td>0</td>\n",
       "      <td>outofstock</td>\n",
       "    </tr>\n",
       "  </tbody>\n",
       "</table>\n",
       "</div>"
      ],
      "text/plain": [
       "   product_id  onsale_web  price  stock_quantity stock_status\n",
       "0        3847           1   24.2               0   outofstock\n",
       "1        3849           1   34.3               0   outofstock\n",
       "2        3850           1   20.8               0   outofstock\n",
       "3        4032           1   14.1               0   outofstock\n",
       "4        4039           1   46.0               0   outofstock"
      ]
     },
     "execution_count": 3,
     "metadata": {},
     "output_type": "execute_result"
    }
   ],
   "source": [
    "erp.head()"
   ]
  },
  {
   "cell_type": "markdown",
   "id": "c5ac6782",
   "metadata": {},
   "source": [
    "### Afficher toutes les informations avec df.info()"
   ]
  },
  {
   "cell_type": "code",
   "execution_count": 4,
   "id": "2c136c32",
   "metadata": {},
   "outputs": [
    {
     "name": "stdout",
     "output_type": "stream",
     "text": [
      "<class 'pandas.core.frame.DataFrame'>\n",
      "RangeIndex: 825 entries, 0 to 824\n",
      "Data columns (total 5 columns):\n",
      " #   Column          Non-Null Count  Dtype  \n",
      "---  ------          --------------  -----  \n",
      " 0   product_id      825 non-null    int64  \n",
      " 1   onsale_web      825 non-null    int64  \n",
      " 2   price           825 non-null    float64\n",
      " 3   stock_quantity  825 non-null    int64  \n",
      " 4   stock_status    825 non-null    object \n",
      "dtypes: float64(1), int64(3), object(1)\n",
      "memory usage: 32.4+ KB\n"
     ]
    }
   ],
   "source": [
    "erp.info()"
   ]
  },
  {
   "cell_type": "markdown",
   "id": "1b41fe03",
   "metadata": {},
   "source": [
    "### Détecter les valeurs manquantes avec df.isnull().sum() ou df.isna().sum()"
   ]
  },
  {
   "cell_type": "code",
   "execution_count": 5,
   "id": "cc7b3861",
   "metadata": {},
   "outputs": [
    {
     "data": {
      "text/plain": [
       "product_id        0\n",
       "onsale_web        0\n",
       "price             0\n",
       "stock_quantity    0\n",
       "stock_status      0\n",
       "dtype: int64"
      ]
     },
     "execution_count": 5,
     "metadata": {},
     "output_type": "execute_result"
    }
   ],
   "source": [
    "erp.isnull().sum()"
   ]
  },
  {
   "cell_type": "code",
   "execution_count": 7,
   "id": "f9bc3897",
   "metadata": {},
   "outputs": [
    {
     "data": {
      "text/plain": [
       "product_id        0\n",
       "onsale_web        0\n",
       "price             0\n",
       "stock_quantity    0\n",
       "stock_status      0\n",
       "dtype: int64"
      ]
     },
     "execution_count": 7,
     "metadata": {},
     "output_type": "execute_result"
    }
   ],
   "source": [
    "erp.isna().sum()"
   ]
  },
  {
   "cell_type": "markdown",
   "id": "ef1dea62",
   "metadata": {},
   "source": [
    "### Fonction pour détecter les null : num_missing"
   ]
  },
  {
   "cell_type": "code",
   "execution_count": 8,
   "id": "b56b3564",
   "metadata": {},
   "outputs": [
    {
     "name": "stdout",
     "output_type": "stream",
     "text": [
      "product_id        0\n",
      "onsale_web        0\n",
      "price             0\n",
      "stock_quantity    0\n",
      "stock_status      0\n",
      "dtype: int64\n"
     ]
    }
   ],
   "source": [
    "def num_missing(x) : \n",
    "    return sum(x.isnull())\n",
    "\n",
    "print(erp.apply(num_missing, axis = 0))"
   ]
  },
  {
   "cell_type": "markdown",
   "id": "cb4c7512",
   "metadata": {},
   "source": [
    "### Détecter les valeurs en double avec df.duplicated"
   ]
  },
  {
   "cell_type": "code",
   "execution_count": 9,
   "id": "2ba61c7d",
   "metadata": {},
   "outputs": [
    {
     "data": {
      "text/plain": [
       "0"
      ]
     },
     "execution_count": 9,
     "metadata": {},
     "output_type": "execute_result"
    }
   ],
   "source": [
    "erp.duplicated().sum()"
   ]
  },
  {
   "cell_type": "markdown",
   "id": "6415c82c",
   "metadata": {},
   "source": [
    "### Fonction pour détecter les valeurs répétées : nb_occurences"
   ]
  },
  {
   "cell_type": "code",
   "execution_count": 10,
   "id": "7aa6bfcd",
   "metadata": {},
   "outputs": [
    {
     "name": "stdout",
     "output_type": "stream",
     "text": [
      "product_id          0\n",
      "onsale_web        823\n",
      "price             444\n",
      "stock_quantity    697\n",
      "stock_status      823\n",
      "dtype: int64\n"
     ]
    }
   ],
   "source": [
    "def nb_occurences(x):\n",
    "    return sum(x.duplicated())\n",
    "\n",
    "print(erp.apply(nb_occurences, axis=0))"
   ]
  },
  {
   "cell_type": "markdown",
   "id": "93f1e504",
   "metadata": {},
   "source": [
    "### Fonction pour identifier le nb de valeurs uniques : val_unique"
   ]
  },
  {
   "cell_type": "code",
   "execution_count": 11,
   "id": "6cfb771d",
   "metadata": {},
   "outputs": [
    {
     "name": "stdout",
     "output_type": "stream",
     "text": [
      "product_id        825\n",
      "onsale_web          2\n",
      "price             381\n",
      "stock_quantity    128\n",
      "stock_status        2\n",
      "dtype: int64\n"
     ]
    }
   ],
   "source": [
    "def val_unique(x):\n",
    "    return (x.nunique())\n",
    "\n",
    "print(erp.apply(val_unique, axis=0))"
   ]
  },
  {
   "cell_type": "markdown",
   "id": "3fe59dcb",
   "metadata": {},
   "source": [
    "### Fonction pour vérifier que la clé est unique : unicite_cle"
   ]
  },
  {
   "cell_type": "code",
   "execution_count": 12,
   "id": "c773c532",
   "metadata": {},
   "outputs": [
    {
     "name": "stdout",
     "output_type": "stream",
     "text": [
      "La clé est unique.\n"
     ]
    }
   ],
   "source": [
    "def unicite_cle(x) : \n",
    "    if len(x.unique()) == (x.count()) : \n",
    "        print('La clé est unique.')\n",
    "    else :\n",
    "        print('la clé nest pas unique')\n",
    "\n",
    "x = erp.product_id\n",
    "    \n",
    "unicite_cle(x)"
   ]
  },
  {
   "cell_type": "markdown",
   "id": "5628ddd4",
   "metadata": {},
   "source": [
    "## WEB"
   ]
  },
  {
   "cell_type": "markdown",
   "id": "b2ce63c6",
   "metadata": {},
   "source": [
    "### Afficher l'en-tête avec df.head"
   ]
  },
  {
   "cell_type": "code",
   "execution_count": 13,
   "id": "df36cda4",
   "metadata": {},
   "outputs": [
    {
     "data": {
      "text/html": [
       "<div>\n",
       "<style scoped>\n",
       "    .dataframe tbody tr th:only-of-type {\n",
       "        vertical-align: middle;\n",
       "    }\n",
       "\n",
       "    .dataframe tbody tr th {\n",
       "        vertical-align: top;\n",
       "    }\n",
       "\n",
       "    .dataframe thead th {\n",
       "        text-align: right;\n",
       "    }\n",
       "</style>\n",
       "<table border=\"1\" class=\"dataframe\">\n",
       "  <thead>\n",
       "    <tr style=\"text-align: right;\">\n",
       "      <th></th>\n",
       "      <th>sku</th>\n",
       "      <th>virtual</th>\n",
       "      <th>downloadable</th>\n",
       "      <th>rating_count</th>\n",
       "      <th>average_rating</th>\n",
       "      <th>total_sales</th>\n",
       "      <th>tax_status</th>\n",
       "      <th>tax_class</th>\n",
       "      <th>post_author</th>\n",
       "      <th>post_date</th>\n",
       "      <th>...</th>\n",
       "      <th>post_name</th>\n",
       "      <th>post_modified</th>\n",
       "      <th>post_modified_gmt</th>\n",
       "      <th>post_content_filtered</th>\n",
       "      <th>post_parent</th>\n",
       "      <th>guid</th>\n",
       "      <th>menu_order</th>\n",
       "      <th>post_type</th>\n",
       "      <th>post_mime_type</th>\n",
       "      <th>comment_count</th>\n",
       "    </tr>\n",
       "  </thead>\n",
       "  <tbody>\n",
       "    <tr>\n",
       "      <th>0</th>\n",
       "      <td>bon-cadeau-25-euros</td>\n",
       "      <td>0</td>\n",
       "      <td>0</td>\n",
       "      <td>0</td>\n",
       "      <td>0.0</td>\n",
       "      <td>10.0</td>\n",
       "      <td>taxable</td>\n",
       "      <td>NaN</td>\n",
       "      <td>1.0</td>\n",
       "      <td>2018-06-01 13:53:46</td>\n",
       "      <td>...</td>\n",
       "      <td>bon-cadeau-de-25-euros</td>\n",
       "      <td>2018-06-01 14:13:57</td>\n",
       "      <td>2018-06-01 12:13:57</td>\n",
       "      <td>NaN</td>\n",
       "      <td>0.0</td>\n",
       "      <td>https://www.bottle-neck.fr/?post_type=product&amp;...</td>\n",
       "      <td>0.0</td>\n",
       "      <td>product</td>\n",
       "      <td>NaN</td>\n",
       "      <td>0.0</td>\n",
       "    </tr>\n",
       "    <tr>\n",
       "      <th>1</th>\n",
       "      <td>15298</td>\n",
       "      <td>0</td>\n",
       "      <td>0</td>\n",
       "      <td>0</td>\n",
       "      <td>0.0</td>\n",
       "      <td>6.0</td>\n",
       "      <td>taxable</td>\n",
       "      <td>NaN</td>\n",
       "      <td>2.0</td>\n",
       "      <td>2018-02-08 12:58:52</td>\n",
       "      <td>...</td>\n",
       "      <td>pierre-jean-villa-saint-joseph-preface-2018</td>\n",
       "      <td>2019-12-30 09:30:29</td>\n",
       "      <td>2019-12-30 08:30:29</td>\n",
       "      <td>NaN</td>\n",
       "      <td>0.0</td>\n",
       "      <td>https://www.bottle-neck.fr/?post_type=product&amp;...</td>\n",
       "      <td>0.0</td>\n",
       "      <td>product</td>\n",
       "      <td>NaN</td>\n",
       "      <td>0.0</td>\n",
       "    </tr>\n",
       "    <tr>\n",
       "      <th>2</th>\n",
       "      <td>15296</td>\n",
       "      <td>0</td>\n",
       "      <td>0</td>\n",
       "      <td>0</td>\n",
       "      <td>0.0</td>\n",
       "      <td>0.0</td>\n",
       "      <td>taxable</td>\n",
       "      <td>NaN</td>\n",
       "      <td>2.0</td>\n",
       "      <td>2018-02-08 13:49:41</td>\n",
       "      <td>...</td>\n",
       "      <td>pierre-jean-villa-saint-joseph-tilde-2017</td>\n",
       "      <td>2019-12-21 09:00:17</td>\n",
       "      <td>2019-12-21 08:00:17</td>\n",
       "      <td>NaN</td>\n",
       "      <td>0.0</td>\n",
       "      <td>https://www.bottle-neck.fr/?post_type=product&amp;...</td>\n",
       "      <td>0.0</td>\n",
       "      <td>product</td>\n",
       "      <td>NaN</td>\n",
       "      <td>0.0</td>\n",
       "    </tr>\n",
       "    <tr>\n",
       "      <th>3</th>\n",
       "      <td>15300</td>\n",
       "      <td>0</td>\n",
       "      <td>0</td>\n",
       "      <td>0</td>\n",
       "      <td>0.0</td>\n",
       "      <td>0.0</td>\n",
       "      <td>taxable</td>\n",
       "      <td>NaN</td>\n",
       "      <td>2.0</td>\n",
       "      <td>2018-02-08 14:08:36</td>\n",
       "      <td>...</td>\n",
       "      <td>pierre-jean-villa-croze-hermitage-accroche-coe...</td>\n",
       "      <td>2020-06-26 18:15:03</td>\n",
       "      <td>2020-06-26 16:15:03</td>\n",
       "      <td>NaN</td>\n",
       "      <td>0.0</td>\n",
       "      <td>https://www.bottle-neck.fr/?post_type=product&amp;...</td>\n",
       "      <td>0.0</td>\n",
       "      <td>product</td>\n",
       "      <td>NaN</td>\n",
       "      <td>0.0</td>\n",
       "    </tr>\n",
       "    <tr>\n",
       "      <th>4</th>\n",
       "      <td>19814</td>\n",
       "      <td>0</td>\n",
       "      <td>0</td>\n",
       "      <td>0</td>\n",
       "      <td>0.0</td>\n",
       "      <td>3.0</td>\n",
       "      <td>taxable</td>\n",
       "      <td>NaN</td>\n",
       "      <td>2.0</td>\n",
       "      <td>2018-02-09 14:01:05</td>\n",
       "      <td>...</td>\n",
       "      <td>pierre-jean-villa-igp-gamine-2018</td>\n",
       "      <td>2020-01-04 16:36:01</td>\n",
       "      <td>2020-01-04 15:36:01</td>\n",
       "      <td>NaN</td>\n",
       "      <td>0.0</td>\n",
       "      <td>https://www.bottle-neck.fr/?post_type=product&amp;...</td>\n",
       "      <td>0.0</td>\n",
       "      <td>product</td>\n",
       "      <td>NaN</td>\n",
       "      <td>0.0</td>\n",
       "    </tr>\n",
       "  </tbody>\n",
       "</table>\n",
       "<p>5 rows × 28 columns</p>\n",
       "</div>"
      ],
      "text/plain": [
       "                   sku  virtual  downloadable  rating_count  average_rating  \\\n",
       "0  bon-cadeau-25-euros        0             0             0             0.0   \n",
       "1                15298        0             0             0             0.0   \n",
       "2                15296        0             0             0             0.0   \n",
       "3                15300        0             0             0             0.0   \n",
       "4                19814        0             0             0             0.0   \n",
       "\n",
       "   total_sales tax_status  tax_class  post_author           post_date  ...  \\\n",
       "0         10.0    taxable        NaN          1.0 2018-06-01 13:53:46  ...   \n",
       "1          6.0    taxable        NaN          2.0 2018-02-08 12:58:52  ...   \n",
       "2          0.0    taxable        NaN          2.0 2018-02-08 13:49:41  ...   \n",
       "3          0.0    taxable        NaN          2.0 2018-02-08 14:08:36  ...   \n",
       "4          3.0    taxable        NaN          2.0 2018-02-09 14:01:05  ...   \n",
       "\n",
       "                                           post_name       post_modified  \\\n",
       "0                             bon-cadeau-de-25-euros 2018-06-01 14:13:57   \n",
       "1        pierre-jean-villa-saint-joseph-preface-2018 2019-12-30 09:30:29   \n",
       "2          pierre-jean-villa-saint-joseph-tilde-2017 2019-12-21 09:00:17   \n",
       "3  pierre-jean-villa-croze-hermitage-accroche-coe... 2020-06-26 18:15:03   \n",
       "4                  pierre-jean-villa-igp-gamine-2018 2020-01-04 16:36:01   \n",
       "\n",
       "    post_modified_gmt post_content_filtered post_parent  \\\n",
       "0 2018-06-01 12:13:57                   NaN         0.0   \n",
       "1 2019-12-30 08:30:29                   NaN         0.0   \n",
       "2 2019-12-21 08:00:17                   NaN         0.0   \n",
       "3 2020-06-26 16:15:03                   NaN         0.0   \n",
       "4 2020-01-04 15:36:01                   NaN         0.0   \n",
       "\n",
       "                                                guid menu_order  post_type  \\\n",
       "0  https://www.bottle-neck.fr/?post_type=product&...        0.0    product   \n",
       "1  https://www.bottle-neck.fr/?post_type=product&...        0.0    product   \n",
       "2  https://www.bottle-neck.fr/?post_type=product&...        0.0    product   \n",
       "3  https://www.bottle-neck.fr/?post_type=product&...        0.0    product   \n",
       "4  https://www.bottle-neck.fr/?post_type=product&...        0.0    product   \n",
       "\n",
       "  post_mime_type comment_count  \n",
       "0            NaN           0.0  \n",
       "1            NaN           0.0  \n",
       "2            NaN           0.0  \n",
       "3            NaN           0.0  \n",
       "4            NaN           0.0  \n",
       "\n",
       "[5 rows x 28 columns]"
      ]
     },
     "execution_count": 13,
     "metadata": {},
     "output_type": "execute_result"
    }
   ],
   "source": [
    "web.head()"
   ]
  },
  {
   "cell_type": "markdown",
   "id": "694adc85",
   "metadata": {},
   "source": [
    "### Afficher toutes les informations avec df.info()\n"
   ]
  },
  {
   "cell_type": "code",
   "execution_count": 15,
   "id": "9910e9a1",
   "metadata": {},
   "outputs": [
    {
     "name": "stdout",
     "output_type": "stream",
     "text": [
      "<class 'pandas.core.frame.DataFrame'>\n",
      "RangeIndex: 1513 entries, 0 to 1512\n",
      "Data columns (total 28 columns):\n",
      " #   Column                 Non-Null Count  Dtype         \n",
      "---  ------                 --------------  -----         \n",
      " 0   sku                    1428 non-null   object        \n",
      " 1   virtual                1513 non-null   int64         \n",
      " 2   downloadable           1513 non-null   int64         \n",
      " 3   rating_count           1513 non-null   int64         \n",
      " 4   average_rating         1430 non-null   float64       \n",
      " 5   total_sales            1430 non-null   float64       \n",
      " 6   tax_status             716 non-null    object        \n",
      " 7   tax_class              0 non-null      float64       \n",
      " 8   post_author            1430 non-null   float64       \n",
      " 9   post_date              1430 non-null   datetime64[ns]\n",
      " 10  post_date_gmt          1430 non-null   datetime64[ns]\n",
      " 11  post_content           0 non-null      float64       \n",
      " 12  post_title             1430 non-null   object        \n",
      " 13  post_excerpt           716 non-null    object        \n",
      " 14  post_status            1430 non-null   object        \n",
      " 15  comment_status         1430 non-null   object        \n",
      " 16  ping_status            1430 non-null   object        \n",
      " 17  post_password          0 non-null      float64       \n",
      " 18  post_name              1430 non-null   object        \n",
      " 19  post_modified          1430 non-null   datetime64[ns]\n",
      " 20  post_modified_gmt      1430 non-null   datetime64[ns]\n",
      " 21  post_content_filtered  0 non-null      float64       \n",
      " 22  post_parent            1430 non-null   float64       \n",
      " 23  guid                   1430 non-null   object        \n",
      " 24  menu_order             1430 non-null   float64       \n",
      " 25  post_type              1430 non-null   object        \n",
      " 26  post_mime_type         714 non-null    object        \n",
      " 27  comment_count          1430 non-null   float64       \n",
      "dtypes: datetime64[ns](4), float64(10), int64(3), object(11)\n",
      "memory usage: 331.1+ KB\n"
     ]
    }
   ],
   "source": [
    "web.info()"
   ]
  },
  {
   "cell_type": "markdown",
   "id": "379b9300",
   "metadata": {},
   "source": [
    "### Renommer une colonne df.rename\n"
   ]
  },
  {
   "cell_type": "code",
   "execution_count": 16,
   "id": "901175a7",
   "metadata": {},
   "outputs": [],
   "source": [
    "web.rename(columns={'sku' : 'id_web'}, inplace = True)"
   ]
  },
  {
   "cell_type": "markdown",
   "id": "c41d7883",
   "metadata": {},
   "source": [
    "### Utilisation de la fonction unicite_cle pour vérifier  si la clé primaire est unique"
   ]
  },
  {
   "cell_type": "code",
   "execution_count": 17,
   "id": "909bc576",
   "metadata": {},
   "outputs": [
    {
     "name": "stdout",
     "output_type": "stream",
     "text": [
      "la clé nest pas unique\n"
     ]
    }
   ],
   "source": [
    "x = web.id_web\n",
    "unicite_cle(x)"
   ]
  },
  {
   "cell_type": "markdown",
   "id": "acb615a0",
   "metadata": {},
   "source": [
    "### Utilisation de la fonction num_missing pour détecter les valeurs manquantes"
   ]
  },
  {
   "cell_type": "code",
   "execution_count": 18,
   "id": "2c95c6f6",
   "metadata": {},
   "outputs": [
    {
     "name": "stdout",
     "output_type": "stream",
     "text": [
      "id_web                     85\n",
      "virtual                     0\n",
      "downloadable                0\n",
      "rating_count                0\n",
      "average_rating             83\n",
      "total_sales                83\n",
      "tax_status                797\n",
      "tax_class                1513\n",
      "post_author                83\n",
      "post_date                  83\n",
      "post_date_gmt              83\n",
      "post_content             1513\n",
      "post_title                 83\n",
      "post_excerpt              797\n",
      "post_status                83\n",
      "comment_status             83\n",
      "ping_status                83\n",
      "post_password            1513\n",
      "post_name                  83\n",
      "post_modified              83\n",
      "post_modified_gmt          83\n",
      "post_content_filtered    1513\n",
      "post_parent                83\n",
      "guid                       83\n",
      "menu_order                 83\n",
      "post_type                  83\n",
      "post_mime_type            799\n",
      "comment_count              83\n",
      "dtype: int64\n"
     ]
    }
   ],
   "source": [
    "print(web.apply(num_missing, axis=0))"
   ]
  },
  {
   "cell_type": "markdown",
   "id": "ef51db09",
   "metadata": {},
   "source": [
    "### Traitement des valeurs manquantes"
   ]
  },
  {
   "cell_type": "markdown",
   "id": "85e9a87f",
   "metadata": {},
   "source": [
    "#### Afficher toutes les valeurs manquantes "
   ]
  },
  {
   "cell_type": "code",
   "execution_count": 19,
   "id": "6a78b361",
   "metadata": {},
   "outputs": [
    {
     "data": {
      "text/html": [
       "<div>\n",
       "<style scoped>\n",
       "    .dataframe tbody tr th:only-of-type {\n",
       "        vertical-align: middle;\n",
       "    }\n",
       "\n",
       "    .dataframe tbody tr th {\n",
       "        vertical-align: top;\n",
       "    }\n",
       "\n",
       "    .dataframe thead th {\n",
       "        text-align: right;\n",
       "    }\n",
       "</style>\n",
       "<table border=\"1\" class=\"dataframe\">\n",
       "  <thead>\n",
       "    <tr style=\"text-align: right;\">\n",
       "      <th></th>\n",
       "      <th>id_web</th>\n",
       "      <th>virtual</th>\n",
       "      <th>downloadable</th>\n",
       "      <th>rating_count</th>\n",
       "      <th>average_rating</th>\n",
       "      <th>total_sales</th>\n",
       "      <th>tax_status</th>\n",
       "      <th>tax_class</th>\n",
       "      <th>post_author</th>\n",
       "      <th>post_date</th>\n",
       "      <th>...</th>\n",
       "      <th>post_name</th>\n",
       "      <th>post_modified</th>\n",
       "      <th>post_modified_gmt</th>\n",
       "      <th>post_content_filtered</th>\n",
       "      <th>post_parent</th>\n",
       "      <th>guid</th>\n",
       "      <th>menu_order</th>\n",
       "      <th>post_type</th>\n",
       "      <th>post_mime_type</th>\n",
       "      <th>comment_count</th>\n",
       "    </tr>\n",
       "  </thead>\n",
       "  <tbody>\n",
       "    <tr>\n",
       "      <th>178</th>\n",
       "      <td>NaN</td>\n",
       "      <td>0</td>\n",
       "      <td>0</td>\n",
       "      <td>0</td>\n",
       "      <td>NaN</td>\n",
       "      <td>NaN</td>\n",
       "      <td>NaN</td>\n",
       "      <td>NaN</td>\n",
       "      <td>NaN</td>\n",
       "      <td>NaT</td>\n",
       "      <td>...</td>\n",
       "      <td>NaN</td>\n",
       "      <td>NaT</td>\n",
       "      <td>NaT</td>\n",
       "      <td>NaN</td>\n",
       "      <td>NaN</td>\n",
       "      <td>NaN</td>\n",
       "      <td>NaN</td>\n",
       "      <td>NaN</td>\n",
       "      <td>NaN</td>\n",
       "      <td>NaN</td>\n",
       "    </tr>\n",
       "    <tr>\n",
       "      <th>179</th>\n",
       "      <td>NaN</td>\n",
       "      <td>0</td>\n",
       "      <td>0</td>\n",
       "      <td>0</td>\n",
       "      <td>NaN</td>\n",
       "      <td>NaN</td>\n",
       "      <td>NaN</td>\n",
       "      <td>NaN</td>\n",
       "      <td>NaN</td>\n",
       "      <td>NaT</td>\n",
       "      <td>...</td>\n",
       "      <td>NaN</td>\n",
       "      <td>NaT</td>\n",
       "      <td>NaT</td>\n",
       "      <td>NaN</td>\n",
       "      <td>NaN</td>\n",
       "      <td>NaN</td>\n",
       "      <td>NaN</td>\n",
       "      <td>NaN</td>\n",
       "      <td>NaN</td>\n",
       "      <td>NaN</td>\n",
       "    </tr>\n",
       "    <tr>\n",
       "      <th>227</th>\n",
       "      <td>NaN</td>\n",
       "      <td>0</td>\n",
       "      <td>0</td>\n",
       "      <td>0</td>\n",
       "      <td>NaN</td>\n",
       "      <td>NaN</td>\n",
       "      <td>NaN</td>\n",
       "      <td>NaN</td>\n",
       "      <td>NaN</td>\n",
       "      <td>NaT</td>\n",
       "      <td>...</td>\n",
       "      <td>NaN</td>\n",
       "      <td>NaT</td>\n",
       "      <td>NaT</td>\n",
       "      <td>NaN</td>\n",
       "      <td>NaN</td>\n",
       "      <td>NaN</td>\n",
       "      <td>NaN</td>\n",
       "      <td>NaN</td>\n",
       "      <td>NaN</td>\n",
       "      <td>NaN</td>\n",
       "    </tr>\n",
       "    <tr>\n",
       "      <th>230</th>\n",
       "      <td>NaN</td>\n",
       "      <td>0</td>\n",
       "      <td>0</td>\n",
       "      <td>0</td>\n",
       "      <td>NaN</td>\n",
       "      <td>NaN</td>\n",
       "      <td>NaN</td>\n",
       "      <td>NaN</td>\n",
       "      <td>NaN</td>\n",
       "      <td>NaT</td>\n",
       "      <td>...</td>\n",
       "      <td>NaN</td>\n",
       "      <td>NaT</td>\n",
       "      <td>NaT</td>\n",
       "      <td>NaN</td>\n",
       "      <td>NaN</td>\n",
       "      <td>NaN</td>\n",
       "      <td>NaN</td>\n",
       "      <td>NaN</td>\n",
       "      <td>NaN</td>\n",
       "      <td>NaN</td>\n",
       "    </tr>\n",
       "    <tr>\n",
       "      <th>231</th>\n",
       "      <td>NaN</td>\n",
       "      <td>0</td>\n",
       "      <td>0</td>\n",
       "      <td>0</td>\n",
       "      <td>NaN</td>\n",
       "      <td>NaN</td>\n",
       "      <td>NaN</td>\n",
       "      <td>NaN</td>\n",
       "      <td>NaN</td>\n",
       "      <td>NaT</td>\n",
       "      <td>...</td>\n",
       "      <td>NaN</td>\n",
       "      <td>NaT</td>\n",
       "      <td>NaT</td>\n",
       "      <td>NaN</td>\n",
       "      <td>NaN</td>\n",
       "      <td>NaN</td>\n",
       "      <td>NaN</td>\n",
       "      <td>NaN</td>\n",
       "      <td>NaN</td>\n",
       "      <td>NaN</td>\n",
       "    </tr>\n",
       "    <tr>\n",
       "      <th>...</th>\n",
       "      <td>...</td>\n",
       "      <td>...</td>\n",
       "      <td>...</td>\n",
       "      <td>...</td>\n",
       "      <td>...</td>\n",
       "      <td>...</td>\n",
       "      <td>...</td>\n",
       "      <td>...</td>\n",
       "      <td>...</td>\n",
       "      <td>...</td>\n",
       "      <td>...</td>\n",
       "      <td>...</td>\n",
       "      <td>...</td>\n",
       "      <td>...</td>\n",
       "      <td>...</td>\n",
       "      <td>...</td>\n",
       "      <td>...</td>\n",
       "      <td>...</td>\n",
       "      <td>...</td>\n",
       "      <td>...</td>\n",
       "      <td>...</td>\n",
       "    </tr>\n",
       "    <tr>\n",
       "      <th>792</th>\n",
       "      <td>NaN</td>\n",
       "      <td>0</td>\n",
       "      <td>0</td>\n",
       "      <td>0</td>\n",
       "      <td>NaN</td>\n",
       "      <td>NaN</td>\n",
       "      <td>NaN</td>\n",
       "      <td>NaN</td>\n",
       "      <td>NaN</td>\n",
       "      <td>NaT</td>\n",
       "      <td>...</td>\n",
       "      <td>NaN</td>\n",
       "      <td>NaT</td>\n",
       "      <td>NaT</td>\n",
       "      <td>NaN</td>\n",
       "      <td>NaN</td>\n",
       "      <td>NaN</td>\n",
       "      <td>NaN</td>\n",
       "      <td>NaN</td>\n",
       "      <td>NaN</td>\n",
       "      <td>NaN</td>\n",
       "    </tr>\n",
       "    <tr>\n",
       "      <th>793</th>\n",
       "      <td>NaN</td>\n",
       "      <td>0</td>\n",
       "      <td>0</td>\n",
       "      <td>0</td>\n",
       "      <td>NaN</td>\n",
       "      <td>NaN</td>\n",
       "      <td>NaN</td>\n",
       "      <td>NaN</td>\n",
       "      <td>NaN</td>\n",
       "      <td>NaT</td>\n",
       "      <td>...</td>\n",
       "      <td>NaN</td>\n",
       "      <td>NaT</td>\n",
       "      <td>NaT</td>\n",
       "      <td>NaN</td>\n",
       "      <td>NaN</td>\n",
       "      <td>NaN</td>\n",
       "      <td>NaN</td>\n",
       "      <td>NaN</td>\n",
       "      <td>NaN</td>\n",
       "      <td>NaN</td>\n",
       "    </tr>\n",
       "    <tr>\n",
       "      <th>794</th>\n",
       "      <td>NaN</td>\n",
       "      <td>0</td>\n",
       "      <td>0</td>\n",
       "      <td>0</td>\n",
       "      <td>NaN</td>\n",
       "      <td>NaN</td>\n",
       "      <td>NaN</td>\n",
       "      <td>NaN</td>\n",
       "      <td>NaN</td>\n",
       "      <td>NaT</td>\n",
       "      <td>...</td>\n",
       "      <td>NaN</td>\n",
       "      <td>NaT</td>\n",
       "      <td>NaT</td>\n",
       "      <td>NaN</td>\n",
       "      <td>NaN</td>\n",
       "      <td>NaN</td>\n",
       "      <td>NaN</td>\n",
       "      <td>NaN</td>\n",
       "      <td>NaN</td>\n",
       "      <td>NaN</td>\n",
       "    </tr>\n",
       "    <tr>\n",
       "      <th>795</th>\n",
       "      <td>NaN</td>\n",
       "      <td>0</td>\n",
       "      <td>0</td>\n",
       "      <td>0</td>\n",
       "      <td>NaN</td>\n",
       "      <td>NaN</td>\n",
       "      <td>NaN</td>\n",
       "      <td>NaN</td>\n",
       "      <td>NaN</td>\n",
       "      <td>NaT</td>\n",
       "      <td>...</td>\n",
       "      <td>NaN</td>\n",
       "      <td>NaT</td>\n",
       "      <td>NaT</td>\n",
       "      <td>NaN</td>\n",
       "      <td>NaN</td>\n",
       "      <td>NaN</td>\n",
       "      <td>NaN</td>\n",
       "      <td>NaN</td>\n",
       "      <td>NaN</td>\n",
       "      <td>NaN</td>\n",
       "    </tr>\n",
       "    <tr>\n",
       "      <th>796</th>\n",
       "      <td>NaN</td>\n",
       "      <td>0</td>\n",
       "      <td>0</td>\n",
       "      <td>0</td>\n",
       "      <td>NaN</td>\n",
       "      <td>NaN</td>\n",
       "      <td>NaN</td>\n",
       "      <td>NaN</td>\n",
       "      <td>NaN</td>\n",
       "      <td>NaT</td>\n",
       "      <td>...</td>\n",
       "      <td>NaN</td>\n",
       "      <td>NaT</td>\n",
       "      <td>NaT</td>\n",
       "      <td>NaN</td>\n",
       "      <td>NaN</td>\n",
       "      <td>NaN</td>\n",
       "      <td>NaN</td>\n",
       "      <td>NaN</td>\n",
       "      <td>NaN</td>\n",
       "      <td>NaN</td>\n",
       "    </tr>\n",
       "  </tbody>\n",
       "</table>\n",
       "<p>85 rows × 28 columns</p>\n",
       "</div>"
      ],
      "text/plain": [
       "    id_web  virtual  downloadable  rating_count  average_rating  total_sales  \\\n",
       "178    NaN        0             0             0             NaN          NaN   \n",
       "179    NaN        0             0             0             NaN          NaN   \n",
       "227    NaN        0             0             0             NaN          NaN   \n",
       "230    NaN        0             0             0             NaN          NaN   \n",
       "231    NaN        0             0             0             NaN          NaN   \n",
       "..     ...      ...           ...           ...             ...          ...   \n",
       "792    NaN        0             0             0             NaN          NaN   \n",
       "793    NaN        0             0             0             NaN          NaN   \n",
       "794    NaN        0             0             0             NaN          NaN   \n",
       "795    NaN        0             0             0             NaN          NaN   \n",
       "796    NaN        0             0             0             NaN          NaN   \n",
       "\n",
       "    tax_status  tax_class  post_author post_date  ... post_name  \\\n",
       "178        NaN        NaN          NaN       NaT  ...       NaN   \n",
       "179        NaN        NaN          NaN       NaT  ...       NaN   \n",
       "227        NaN        NaN          NaN       NaT  ...       NaN   \n",
       "230        NaN        NaN          NaN       NaT  ...       NaN   \n",
       "231        NaN        NaN          NaN       NaT  ...       NaN   \n",
       "..         ...        ...          ...       ...  ...       ...   \n",
       "792        NaN        NaN          NaN       NaT  ...       NaN   \n",
       "793        NaN        NaN          NaN       NaT  ...       NaN   \n",
       "794        NaN        NaN          NaN       NaT  ...       NaN   \n",
       "795        NaN        NaN          NaN       NaT  ...       NaN   \n",
       "796        NaN        NaN          NaN       NaT  ...       NaN   \n",
       "\n",
       "     post_modified post_modified_gmt post_content_filtered post_parent guid  \\\n",
       "178            NaT               NaT                   NaN         NaN  NaN   \n",
       "179            NaT               NaT                   NaN         NaN  NaN   \n",
       "227            NaT               NaT                   NaN         NaN  NaN   \n",
       "230            NaT               NaT                   NaN         NaN  NaN   \n",
       "231            NaT               NaT                   NaN         NaN  NaN   \n",
       "..             ...               ...                   ...         ...  ...   \n",
       "792            NaT               NaT                   NaN         NaN  NaN   \n",
       "793            NaT               NaT                   NaN         NaN  NaN   \n",
       "794            NaT               NaT                   NaN         NaN  NaN   \n",
       "795            NaT               NaT                   NaN         NaN  NaN   \n",
       "796            NaT               NaT                   NaN         NaN  NaN   \n",
       "\n",
       "    menu_order  post_type post_mime_type comment_count  \n",
       "178        NaN        NaN            NaN           NaN  \n",
       "179        NaN        NaN            NaN           NaN  \n",
       "227        NaN        NaN            NaN           NaN  \n",
       "230        NaN        NaN            NaN           NaN  \n",
       "231        NaN        NaN            NaN           NaN  \n",
       "..         ...        ...            ...           ...  \n",
       "792        NaN        NaN            NaN           NaN  \n",
       "793        NaN        NaN            NaN           NaN  \n",
       "794        NaN        NaN            NaN           NaN  \n",
       "795        NaN        NaN            NaN           NaN  \n",
       "796        NaN        NaN            NaN           NaN  \n",
       "\n",
       "[85 rows x 28 columns]"
      ]
     },
     "execution_count": 19,
     "metadata": {},
     "output_type": "execute_result"
    }
   ],
   "source": [
    "web_val_missing = web.loc[web['id_web'].isnull(),:]\n",
    "web_val_missing"
   ]
  },
  {
   "cell_type": "code",
   "execution_count": 20,
   "id": "cbc4b611",
   "metadata": {},
   "outputs": [
    {
     "name": "stdout",
     "output_type": "stream",
     "text": [
      "id_web                   85\n",
      "virtual                   0\n",
      "downloadable              0\n",
      "rating_count              0\n",
      "average_rating           83\n",
      "total_sales              83\n",
      "tax_status               83\n",
      "tax_class                85\n",
      "post_author              83\n",
      "post_date                83\n",
      "post_date_gmt            83\n",
      "post_content             85\n",
      "post_title               83\n",
      "post_excerpt             83\n",
      "post_status              83\n",
      "comment_status           83\n",
      "ping_status              83\n",
      "post_password            85\n",
      "post_name                83\n",
      "post_modified            83\n",
      "post_modified_gmt        83\n",
      "post_content_filtered    85\n",
      "post_parent              83\n",
      "guid                     83\n",
      "menu_order               83\n",
      "post_type                83\n",
      "post_mime_type           85\n",
      "comment_count            83\n",
      "dtype: int64\n"
     ]
    }
   ],
   "source": [
    "print(web_val_missing.apply(num_missing, axis = 0))\n",
    "\n",
    "# 85 id_web sont manquants"
   ]
  },
  {
   "cell_type": "markdown",
   "id": "32e0ea74",
   "metadata": {},
   "source": [
    "85 id_web sont null. Sur les 85 id_web null, nous avons 83 valeurs manquantes dans quasiment tous les autres champs. Etudions les 2 valeurs informées. "
   ]
  },
  {
   "cell_type": "code",
   "execution_count": 21,
   "id": "fa898b7c",
   "metadata": {},
   "outputs": [
    {
     "name": "stdout",
     "output_type": "stream",
     "text": [
      "<class 'pandas.core.frame.DataFrame'>\n",
      "Int64Index: 85 entries, 178 to 796\n",
      "Data columns (total 28 columns):\n",
      " #   Column                 Non-Null Count  Dtype         \n",
      "---  ------                 --------------  -----         \n",
      " 0   id_web                 0 non-null      object        \n",
      " 1   virtual                85 non-null     int64         \n",
      " 2   downloadable           85 non-null     int64         \n",
      " 3   rating_count           85 non-null     int64         \n",
      " 4   average_rating         2 non-null      float64       \n",
      " 5   total_sales            2 non-null      float64       \n",
      " 6   tax_status             2 non-null      object        \n",
      " 7   tax_class              0 non-null      float64       \n",
      " 8   post_author            2 non-null      float64       \n",
      " 9   post_date              2 non-null      datetime64[ns]\n",
      " 10  post_date_gmt          2 non-null      datetime64[ns]\n",
      " 11  post_content           0 non-null      float64       \n",
      " 12  post_title             2 non-null      object        \n",
      " 13  post_excerpt           2 non-null      object        \n",
      " 14  post_status            2 non-null      object        \n",
      " 15  comment_status         2 non-null      object        \n",
      " 16  ping_status            2 non-null      object        \n",
      " 17  post_password          0 non-null      float64       \n",
      " 18  post_name              2 non-null      object        \n",
      " 19  post_modified          2 non-null      datetime64[ns]\n",
      " 20  post_modified_gmt      2 non-null      datetime64[ns]\n",
      " 21  post_content_filtered  0 non-null      float64       \n",
      " 22  post_parent            2 non-null      float64       \n",
      " 23  guid                   2 non-null      object        \n",
      " 24  menu_order             2 non-null      float64       \n",
      " 25  post_type              2 non-null      object        \n",
      " 26  post_mime_type         0 non-null      object        \n",
      " 27  comment_count          2 non-null      float64       \n",
      "dtypes: datetime64[ns](4), float64(10), int64(3), object(11)\n",
      "memory usage: 19.3+ KB\n"
     ]
    }
   ],
   "source": [
    "web_val_missing.info()"
   ]
  },
  {
   "cell_type": "code",
   "execution_count": 22,
   "id": "9112fef7",
   "metadata": {},
   "outputs": [
    {
     "data": {
      "text/html": [
       "<div>\n",
       "<style scoped>\n",
       "    .dataframe tbody tr th:only-of-type {\n",
       "        vertical-align: middle;\n",
       "    }\n",
       "\n",
       "    .dataframe tbody tr th {\n",
       "        vertical-align: top;\n",
       "    }\n",
       "\n",
       "    .dataframe thead th {\n",
       "        text-align: right;\n",
       "    }\n",
       "</style>\n",
       "<table border=\"1\" class=\"dataframe\">\n",
       "  <thead>\n",
       "    <tr style=\"text-align: right;\">\n",
       "      <th></th>\n",
       "      <th>id_web</th>\n",
       "      <th>virtual</th>\n",
       "      <th>downloadable</th>\n",
       "      <th>rating_count</th>\n",
       "      <th>average_rating</th>\n",
       "      <th>total_sales</th>\n",
       "      <th>tax_status</th>\n",
       "      <th>tax_class</th>\n",
       "      <th>post_author</th>\n",
       "      <th>post_date</th>\n",
       "      <th>...</th>\n",
       "      <th>post_name</th>\n",
       "      <th>post_modified</th>\n",
       "      <th>post_modified_gmt</th>\n",
       "      <th>post_content_filtered</th>\n",
       "      <th>post_parent</th>\n",
       "      <th>guid</th>\n",
       "      <th>menu_order</th>\n",
       "      <th>post_type</th>\n",
       "      <th>post_mime_type</th>\n",
       "      <th>comment_count</th>\n",
       "    </tr>\n",
       "  </thead>\n",
       "  <tbody>\n",
       "    <tr>\n",
       "      <th>470</th>\n",
       "      <td>NaN</td>\n",
       "      <td>0</td>\n",
       "      <td>0</td>\n",
       "      <td>0</td>\n",
       "      <td>0.0</td>\n",
       "      <td>0.0</td>\n",
       "      <td>taxable</td>\n",
       "      <td>NaN</td>\n",
       "      <td>2.0</td>\n",
       "      <td>2018-07-31 12:07:23</td>\n",
       "      <td>...</td>\n",
       "      <td>pierre-jean-villa-cote-rotie-fongeant-2017</td>\n",
       "      <td>2019-11-02 13:24:15</td>\n",
       "      <td>2019-11-02 12:24:15</td>\n",
       "      <td>NaN</td>\n",
       "      <td>0.0</td>\n",
       "      <td>https://www.bottle-neck.fr/?post_type=product&amp;...</td>\n",
       "      <td>0.0</td>\n",
       "      <td>product</td>\n",
       "      <td>NaN</td>\n",
       "      <td>0.0</td>\n",
       "    </tr>\n",
       "    <tr>\n",
       "      <th>471</th>\n",
       "      <td>NaN</td>\n",
       "      <td>0</td>\n",
       "      <td>0</td>\n",
       "      <td>0</td>\n",
       "      <td>0.0</td>\n",
       "      <td>0.0</td>\n",
       "      <td>taxable</td>\n",
       "      <td>NaN</td>\n",
       "      <td>2.0</td>\n",
       "      <td>2018-08-08 11:23:43</td>\n",
       "      <td>...</td>\n",
       "      <td>pierre-jean-villa-condrieu-suspendu-2018</td>\n",
       "      <td>2019-11-02 13:24:01</td>\n",
       "      <td>2019-11-02 12:24:01</td>\n",
       "      <td>NaN</td>\n",
       "      <td>0.0</td>\n",
       "      <td>https://www.bottle-neck.fr/?post_type=product&amp;...</td>\n",
       "      <td>0.0</td>\n",
       "      <td>product</td>\n",
       "      <td>NaN</td>\n",
       "      <td>0.0</td>\n",
       "    </tr>\n",
       "  </tbody>\n",
       "</table>\n",
       "<p>2 rows × 28 columns</p>\n",
       "</div>"
      ],
      "text/plain": [
       "    id_web  virtual  downloadable  rating_count  average_rating  total_sales  \\\n",
       "470    NaN        0             0             0             0.0          0.0   \n",
       "471    NaN        0             0             0             0.0          0.0   \n",
       "\n",
       "    tax_status  tax_class  post_author           post_date  ...  \\\n",
       "470    taxable        NaN          2.0 2018-07-31 12:07:23  ...   \n",
       "471    taxable        NaN          2.0 2018-08-08 11:23:43  ...   \n",
       "\n",
       "                                      post_name       post_modified  \\\n",
       "470  pierre-jean-villa-cote-rotie-fongeant-2017 2019-11-02 13:24:15   \n",
       "471    pierre-jean-villa-condrieu-suspendu-2018 2019-11-02 13:24:01   \n",
       "\n",
       "      post_modified_gmt post_content_filtered post_parent  \\\n",
       "470 2019-11-02 12:24:15                   NaN         0.0   \n",
       "471 2019-11-02 12:24:01                   NaN         0.0   \n",
       "\n",
       "                                                  guid menu_order  post_type  \\\n",
       "470  https://www.bottle-neck.fr/?post_type=product&...        0.0    product   \n",
       "471  https://www.bottle-neck.fr/?post_type=product&...        0.0    product   \n",
       "\n",
       "    post_mime_type comment_count  \n",
       "470            NaN           0.0  \n",
       "471            NaN           0.0  \n",
       "\n",
       "[2 rows x 28 columns]"
      ]
     },
     "execution_count": 22,
     "metadata": {},
     "output_type": "execute_result"
    }
   ],
   "source": [
    "web_val_missing.loc[web_val_missing['average_rating'].notnull(),:]\n",
    "# voici les deux valeurs dont nous avons qq informations mais dont le id_web est nul"
   ]
  },
  {
   "cell_type": "markdown",
   "id": "a7e2fef2",
   "metadata": {},
   "source": [
    "Voici les deux valeurs dont certains champs sont renseignés. \n",
    "\n",
    "Que faire : \n",
    "   > - se rapprocher des collègues pour obtenir les informations manquantes,\n",
    "   > - modifier le df dans le cas où les collègues nous renseignent,\n",
    "   > - sans indications à propos de ces deux produits, créer un  nouveau DF sans ces datas mais garder le DF original que nous pourrons éventuellement modifier dans le cas où de nouvelles informations nous seraient transmises. \n"
   ]
  },
  {
   "cell_type": "markdown",
   "id": "4341be19",
   "metadata": {},
   "source": [
    "#### Suppression des valeurs manquantes"
   ]
  },
  {
   "cell_type": "code",
   "execution_count": 23,
   "id": "f04cccce",
   "metadata": {},
   "outputs": [],
   "source": [
    "web_withoutnull = web[web['id_web'].notnull()]"
   ]
  },
  {
   "cell_type": "code",
   "execution_count": 24,
   "id": "b3e697a7",
   "metadata": {},
   "outputs": [
    {
     "data": {
      "text/plain": [
       "(1428, 28)"
      ]
     },
     "execution_count": 24,
     "metadata": {},
     "output_type": "execute_result"
    }
   ],
   "source": [
    "web_withoutnull.shape"
   ]
  },
  {
   "cell_type": "code",
   "execution_count": 25,
   "id": "ef0936ca",
   "metadata": {},
   "outputs": [
    {
     "name": "stdout",
     "output_type": "stream",
     "text": [
      "la clé nest pas unique\n"
     ]
    }
   ],
   "source": [
    "x = web_withoutnull.id_web\n",
    "unicite_cle(x)\n",
    "# la clé n'est tjs pas unique malgré la suppression des null"
   ]
  },
  {
   "cell_type": "code",
   "execution_count": 26,
   "id": "946d38d2",
   "metadata": {},
   "outputs": [
    {
     "name": "stdout",
     "output_type": "stream",
     "text": [
      "id_web                      0\n",
      "virtual                     0\n",
      "downloadable                0\n",
      "rating_count                0\n",
      "average_rating              0\n",
      "total_sales                 0\n",
      "tax_status                714\n",
      "tax_class                1428\n",
      "post_author                 0\n",
      "post_date                   0\n",
      "post_date_gmt               0\n",
      "post_content             1428\n",
      "post_title                  0\n",
      "post_excerpt              714\n",
      "post_status                 0\n",
      "comment_status              0\n",
      "ping_status                 0\n",
      "post_password            1428\n",
      "post_name                   0\n",
      "post_modified               0\n",
      "post_modified_gmt           0\n",
      "post_content_filtered    1428\n",
      "post_parent                 0\n",
      "guid                        0\n",
      "menu_order                  0\n",
      "post_type                   0\n",
      "post_mime_type            714\n",
      "comment_count               0\n",
      "dtype: int64\n"
     ]
    }
   ],
   "source": [
    "print(web_withoutnull.apply(num_missing))"
   ]
  },
  {
   "cell_type": "markdown",
   "id": "f9154436",
   "metadata": {},
   "source": [
    "### Utilisation de la fonction nb_occurences pour détecter les valeurs répétées"
   ]
  },
  {
   "cell_type": "code",
   "execution_count": 27,
   "id": "3d14b5bf",
   "metadata": {},
   "outputs": [
    {
     "name": "stdout",
     "output_type": "stream",
     "text": [
      "id_web                    714\n",
      "virtual                  1427\n",
      "downloadable             1427\n",
      "rating_count             1427\n",
      "average_rating           1427\n",
      "total_sales              1387\n",
      "tax_status               1426\n",
      "tax_class                1427\n",
      "post_author              1426\n",
      "post_date                 714\n",
      "post_date_gmt             714\n",
      "post_content             1427\n",
      "post_title                717\n",
      "post_excerpt              750\n",
      "post_status              1427\n",
      "comment_status           1427\n",
      "ping_status              1427\n",
      "post_password            1427\n",
      "post_name                 714\n",
      "post_modified             841\n",
      "post_modified_gmt         841\n",
      "post_content_filtered    1427\n",
      "post_parent              1427\n",
      "guid                        0\n",
      "menu_order               1427\n",
      "post_type                1426\n",
      "post_mime_type           1426\n",
      "comment_count            1427\n",
      "dtype: int64\n"
     ]
    }
   ],
   "source": [
    "print(web_withoutnull.apply(nb_occurences))"
   ]
  },
  {
   "cell_type": "markdown",
   "id": "e681f443",
   "metadata": {},
   "source": [
    "### Traitement des valeurs dupliquées"
   ]
  },
  {
   "cell_type": "code",
   "execution_count": 28,
   "id": "75a4b012",
   "metadata": {},
   "outputs": [
    {
     "data": {
      "text/html": [
       "<div>\n",
       "<style scoped>\n",
       "    .dataframe tbody tr th:only-of-type {\n",
       "        vertical-align: middle;\n",
       "    }\n",
       "\n",
       "    .dataframe tbody tr th {\n",
       "        vertical-align: top;\n",
       "    }\n",
       "\n",
       "    .dataframe thead th {\n",
       "        text-align: right;\n",
       "    }\n",
       "</style>\n",
       "<table border=\"1\" class=\"dataframe\">\n",
       "  <thead>\n",
       "    <tr style=\"text-align: right;\">\n",
       "      <th></th>\n",
       "      <th>id_web</th>\n",
       "      <th>virtual</th>\n",
       "      <th>downloadable</th>\n",
       "      <th>rating_count</th>\n",
       "      <th>average_rating</th>\n",
       "      <th>total_sales</th>\n",
       "      <th>tax_status</th>\n",
       "      <th>tax_class</th>\n",
       "      <th>post_author</th>\n",
       "      <th>post_date</th>\n",
       "      <th>...</th>\n",
       "      <th>post_name</th>\n",
       "      <th>post_modified</th>\n",
       "      <th>post_modified_gmt</th>\n",
       "      <th>post_content_filtered</th>\n",
       "      <th>post_parent</th>\n",
       "      <th>guid</th>\n",
       "      <th>menu_order</th>\n",
       "      <th>post_type</th>\n",
       "      <th>post_mime_type</th>\n",
       "      <th>comment_count</th>\n",
       "    </tr>\n",
       "  </thead>\n",
       "  <tbody>\n",
       "    <tr>\n",
       "      <th>799</th>\n",
       "      <td>15298</td>\n",
       "      <td>0</td>\n",
       "      <td>0</td>\n",
       "      <td>0</td>\n",
       "      <td>0.0</td>\n",
       "      <td>6.0</td>\n",
       "      <td>NaN</td>\n",
       "      <td>NaN</td>\n",
       "      <td>2.0</td>\n",
       "      <td>2018-02-08 12:58:52</td>\n",
       "      <td>...</td>\n",
       "      <td>pierre-jean-villa-saint-joseph-preface-2018</td>\n",
       "      <td>2019-12-30 09:30:29</td>\n",
       "      <td>2019-12-30 08:30:29</td>\n",
       "      <td>NaN</td>\n",
       "      <td>0.0</td>\n",
       "      <td>https://www.bottle-neck.fr/wp-content/uploads/...</td>\n",
       "      <td>0.0</td>\n",
       "      <td>attachment</td>\n",
       "      <td>image/jpeg</td>\n",
       "      <td>0.0</td>\n",
       "    </tr>\n",
       "    <tr>\n",
       "      <th>800</th>\n",
       "      <td>15296</td>\n",
       "      <td>0</td>\n",
       "      <td>0</td>\n",
       "      <td>0</td>\n",
       "      <td>0.0</td>\n",
       "      <td>0.0</td>\n",
       "      <td>NaN</td>\n",
       "      <td>NaN</td>\n",
       "      <td>2.0</td>\n",
       "      <td>2018-02-08 13:49:41</td>\n",
       "      <td>...</td>\n",
       "      <td>pierre-jean-villa-saint-joseph-tilde-2017</td>\n",
       "      <td>2019-12-21 09:00:17</td>\n",
       "      <td>2019-12-21 08:00:17</td>\n",
       "      <td>NaN</td>\n",
       "      <td>0.0</td>\n",
       "      <td>https://www.bottle-neck.fr/wp-content/uploads/...</td>\n",
       "      <td>0.0</td>\n",
       "      <td>attachment</td>\n",
       "      <td>image/jpeg</td>\n",
       "      <td>0.0</td>\n",
       "    </tr>\n",
       "    <tr>\n",
       "      <th>801</th>\n",
       "      <td>15300</td>\n",
       "      <td>0</td>\n",
       "      <td>0</td>\n",
       "      <td>0</td>\n",
       "      <td>0.0</td>\n",
       "      <td>0.0</td>\n",
       "      <td>NaN</td>\n",
       "      <td>NaN</td>\n",
       "      <td>2.0</td>\n",
       "      <td>2018-02-08 14:08:36</td>\n",
       "      <td>...</td>\n",
       "      <td>pierre-jean-villa-croze-hermitage-accroche-coe...</td>\n",
       "      <td>2020-06-26 18:15:03</td>\n",
       "      <td>2020-06-26 16:15:03</td>\n",
       "      <td>NaN</td>\n",
       "      <td>0.0</td>\n",
       "      <td>https://www.bottle-neck.fr/wp-content/uploads/...</td>\n",
       "      <td>0.0</td>\n",
       "      <td>attachment</td>\n",
       "      <td>image/jpeg</td>\n",
       "      <td>0.0</td>\n",
       "    </tr>\n",
       "    <tr>\n",
       "      <th>802</th>\n",
       "      <td>19814</td>\n",
       "      <td>0</td>\n",
       "      <td>0</td>\n",
       "      <td>0</td>\n",
       "      <td>0.0</td>\n",
       "      <td>3.0</td>\n",
       "      <td>NaN</td>\n",
       "      <td>NaN</td>\n",
       "      <td>2.0</td>\n",
       "      <td>2018-02-09 14:01:05</td>\n",
       "      <td>...</td>\n",
       "      <td>pierre-jean-villa-igp-gamine-2018</td>\n",
       "      <td>2020-01-04 16:36:01</td>\n",
       "      <td>2020-01-04 15:36:01</td>\n",
       "      <td>NaN</td>\n",
       "      <td>0.0</td>\n",
       "      <td>https://www.bottle-neck.fr/wp-content/uploads/...</td>\n",
       "      <td>0.0</td>\n",
       "      <td>attachment</td>\n",
       "      <td>image/jpeg</td>\n",
       "      <td>0.0</td>\n",
       "    </tr>\n",
       "    <tr>\n",
       "      <th>803</th>\n",
       "      <td>19815</td>\n",
       "      <td>0</td>\n",
       "      <td>0</td>\n",
       "      <td>0</td>\n",
       "      <td>0.0</td>\n",
       "      <td>0.0</td>\n",
       "      <td>NaN</td>\n",
       "      <td>NaN</td>\n",
       "      <td>2.0</td>\n",
       "      <td>2018-02-12 09:04:37</td>\n",
       "      <td>...</td>\n",
       "      <td>pierre-jean-villa-cote-rotie-carmina-2017</td>\n",
       "      <td>2020-01-04 16:36:10</td>\n",
       "      <td>2020-01-04 15:36:10</td>\n",
       "      <td>NaN</td>\n",
       "      <td>0.0</td>\n",
       "      <td>https://www.bottle-neck.fr/wp-content/uploads/...</td>\n",
       "      <td>0.0</td>\n",
       "      <td>attachment</td>\n",
       "      <td>image/jpeg</td>\n",
       "      <td>0.0</td>\n",
       "    </tr>\n",
       "  </tbody>\n",
       "</table>\n",
       "<p>5 rows × 28 columns</p>\n",
       "</div>"
      ],
      "text/plain": [
       "    id_web  virtual  downloadable  rating_count  average_rating  total_sales  \\\n",
       "799  15298        0             0             0             0.0          6.0   \n",
       "800  15296        0             0             0             0.0          0.0   \n",
       "801  15300        0             0             0             0.0          0.0   \n",
       "802  19814        0             0             0             0.0          3.0   \n",
       "803  19815        0             0             0             0.0          0.0   \n",
       "\n",
       "    tax_status  tax_class  post_author           post_date  ...  \\\n",
       "799        NaN        NaN          2.0 2018-02-08 12:58:52  ...   \n",
       "800        NaN        NaN          2.0 2018-02-08 13:49:41  ...   \n",
       "801        NaN        NaN          2.0 2018-02-08 14:08:36  ...   \n",
       "802        NaN        NaN          2.0 2018-02-09 14:01:05  ...   \n",
       "803        NaN        NaN          2.0 2018-02-12 09:04:37  ...   \n",
       "\n",
       "                                             post_name       post_modified  \\\n",
       "799        pierre-jean-villa-saint-joseph-preface-2018 2019-12-30 09:30:29   \n",
       "800          pierre-jean-villa-saint-joseph-tilde-2017 2019-12-21 09:00:17   \n",
       "801  pierre-jean-villa-croze-hermitage-accroche-coe... 2020-06-26 18:15:03   \n",
       "802                  pierre-jean-villa-igp-gamine-2018 2020-01-04 16:36:01   \n",
       "803          pierre-jean-villa-cote-rotie-carmina-2017 2020-01-04 16:36:10   \n",
       "\n",
       "      post_modified_gmt post_content_filtered post_parent  \\\n",
       "799 2019-12-30 08:30:29                   NaN         0.0   \n",
       "800 2019-12-21 08:00:17                   NaN         0.0   \n",
       "801 2020-06-26 16:15:03                   NaN         0.0   \n",
       "802 2020-01-04 15:36:01                   NaN         0.0   \n",
       "803 2020-01-04 15:36:10                   NaN         0.0   \n",
       "\n",
       "                                                  guid menu_order   post_type  \\\n",
       "799  https://www.bottle-neck.fr/wp-content/uploads/...        0.0  attachment   \n",
       "800  https://www.bottle-neck.fr/wp-content/uploads/...        0.0  attachment   \n",
       "801  https://www.bottle-neck.fr/wp-content/uploads/...        0.0  attachment   \n",
       "802  https://www.bottle-neck.fr/wp-content/uploads/...        0.0  attachment   \n",
       "803  https://www.bottle-neck.fr/wp-content/uploads/...        0.0  attachment   \n",
       "\n",
       "    post_mime_type comment_count  \n",
       "799     image/jpeg           0.0  \n",
       "800     image/jpeg           0.0  \n",
       "801     image/jpeg           0.0  \n",
       "802     image/jpeg           0.0  \n",
       "803     image/jpeg           0.0  \n",
       "\n",
       "[5 rows x 28 columns]"
      ]
     },
     "execution_count": 28,
     "metadata": {},
     "output_type": "execute_result"
    }
   ],
   "source": [
    "web_val_duplicated = web_withoutnull.loc[web_withoutnull['id_web'].duplicated(),:]\n",
    "web_val_duplicated.head()\n",
    "# création d'un df avec les id_web dupliqués"
   ]
  },
  {
   "cell_type": "code",
   "execution_count": 29,
   "id": "5f3f13e1",
   "metadata": {},
   "outputs": [
    {
     "name": "stdout",
     "output_type": "stream",
     "text": [
      "<class 'pandas.core.frame.DataFrame'>\n",
      "Int64Index: 714 entries, 799 to 1512\n",
      "Data columns (total 28 columns):\n",
      " #   Column                 Non-Null Count  Dtype         \n",
      "---  ------                 --------------  -----         \n",
      " 0   id_web                 714 non-null    object        \n",
      " 1   virtual                714 non-null    int64         \n",
      " 2   downloadable           714 non-null    int64         \n",
      " 3   rating_count           714 non-null    int64         \n",
      " 4   average_rating         714 non-null    float64       \n",
      " 5   total_sales            714 non-null    float64       \n",
      " 6   tax_status             0 non-null      object        \n",
      " 7   tax_class              0 non-null      float64       \n",
      " 8   post_author            714 non-null    float64       \n",
      " 9   post_date              714 non-null    datetime64[ns]\n",
      " 10  post_date_gmt          714 non-null    datetime64[ns]\n",
      " 11  post_content           0 non-null      float64       \n",
      " 12  post_title             714 non-null    object        \n",
      " 13  post_excerpt           0 non-null      object        \n",
      " 14  post_status            714 non-null    object        \n",
      " 15  comment_status         714 non-null    object        \n",
      " 16  ping_status            714 non-null    object        \n",
      " 17  post_password          0 non-null      float64       \n",
      " 18  post_name              714 non-null    object        \n",
      " 19  post_modified          714 non-null    datetime64[ns]\n",
      " 20  post_modified_gmt      714 non-null    datetime64[ns]\n",
      " 21  post_content_filtered  0 non-null      float64       \n",
      " 22  post_parent            714 non-null    float64       \n",
      " 23  guid                   714 non-null    object        \n",
      " 24  menu_order             714 non-null    float64       \n",
      " 25  post_type              714 non-null    object        \n",
      " 26  post_mime_type         714 non-null    object        \n",
      " 27  comment_count          714 non-null    float64       \n",
      "dtypes: datetime64[ns](4), float64(10), int64(3), object(11)\n",
      "memory usage: 161.8+ KB\n"
     ]
    }
   ],
   "source": [
    "web_val_duplicated.info()"
   ]
  },
  {
   "cell_type": "code",
   "execution_count": 30,
   "id": "5f561ee0",
   "metadata": {},
   "outputs": [
    {
     "data": {
      "text/html": [
       "<div>\n",
       "<style scoped>\n",
       "    .dataframe tbody tr th:only-of-type {\n",
       "        vertical-align: middle;\n",
       "    }\n",
       "\n",
       "    .dataframe tbody tr th {\n",
       "        vertical-align: top;\n",
       "    }\n",
       "\n",
       "    .dataframe thead th {\n",
       "        text-align: right;\n",
       "    }\n",
       "</style>\n",
       "<table border=\"1\" class=\"dataframe\">\n",
       "  <thead>\n",
       "    <tr style=\"text-align: right;\">\n",
       "      <th></th>\n",
       "      <th>id_web</th>\n",
       "      <th>virtual</th>\n",
       "      <th>downloadable</th>\n",
       "      <th>rating_count</th>\n",
       "      <th>average_rating</th>\n",
       "      <th>total_sales</th>\n",
       "      <th>tax_status</th>\n",
       "      <th>tax_class</th>\n",
       "      <th>post_author</th>\n",
       "      <th>post_date</th>\n",
       "      <th>...</th>\n",
       "      <th>post_name</th>\n",
       "      <th>post_modified</th>\n",
       "      <th>post_modified_gmt</th>\n",
       "      <th>post_content_filtered</th>\n",
       "      <th>post_parent</th>\n",
       "      <th>guid</th>\n",
       "      <th>menu_order</th>\n",
       "      <th>post_type</th>\n",
       "      <th>post_mime_type</th>\n",
       "      <th>comment_count</th>\n",
       "    </tr>\n",
       "  </thead>\n",
       "  <tbody>\n",
       "    <tr>\n",
       "      <th>799</th>\n",
       "      <td>15298</td>\n",
       "      <td>0</td>\n",
       "      <td>0</td>\n",
       "      <td>0</td>\n",
       "      <td>0.0</td>\n",
       "      <td>6.0</td>\n",
       "      <td>NaN</td>\n",
       "      <td>NaN</td>\n",
       "      <td>2.0</td>\n",
       "      <td>2018-02-08 12:58:52</td>\n",
       "      <td>...</td>\n",
       "      <td>pierre-jean-villa-saint-joseph-preface-2018</td>\n",
       "      <td>2019-12-30 09:30:29</td>\n",
       "      <td>2019-12-30 08:30:29</td>\n",
       "      <td>NaN</td>\n",
       "      <td>0.0</td>\n",
       "      <td>https://www.bottle-neck.fr/wp-content/uploads/...</td>\n",
       "      <td>0.0</td>\n",
       "      <td>attachment</td>\n",
       "      <td>image/jpeg</td>\n",
       "      <td>0.0</td>\n",
       "    </tr>\n",
       "    <tr>\n",
       "      <th>800</th>\n",
       "      <td>15296</td>\n",
       "      <td>0</td>\n",
       "      <td>0</td>\n",
       "      <td>0</td>\n",
       "      <td>0.0</td>\n",
       "      <td>0.0</td>\n",
       "      <td>NaN</td>\n",
       "      <td>NaN</td>\n",
       "      <td>2.0</td>\n",
       "      <td>2018-02-08 13:49:41</td>\n",
       "      <td>...</td>\n",
       "      <td>pierre-jean-villa-saint-joseph-tilde-2017</td>\n",
       "      <td>2019-12-21 09:00:17</td>\n",
       "      <td>2019-12-21 08:00:17</td>\n",
       "      <td>NaN</td>\n",
       "      <td>0.0</td>\n",
       "      <td>https://www.bottle-neck.fr/wp-content/uploads/...</td>\n",
       "      <td>0.0</td>\n",
       "      <td>attachment</td>\n",
       "      <td>image/jpeg</td>\n",
       "      <td>0.0</td>\n",
       "    </tr>\n",
       "    <tr>\n",
       "      <th>801</th>\n",
       "      <td>15300</td>\n",
       "      <td>0</td>\n",
       "      <td>0</td>\n",
       "      <td>0</td>\n",
       "      <td>0.0</td>\n",
       "      <td>0.0</td>\n",
       "      <td>NaN</td>\n",
       "      <td>NaN</td>\n",
       "      <td>2.0</td>\n",
       "      <td>2018-02-08 14:08:36</td>\n",
       "      <td>...</td>\n",
       "      <td>pierre-jean-villa-croze-hermitage-accroche-coe...</td>\n",
       "      <td>2020-06-26 18:15:03</td>\n",
       "      <td>2020-06-26 16:15:03</td>\n",
       "      <td>NaN</td>\n",
       "      <td>0.0</td>\n",
       "      <td>https://www.bottle-neck.fr/wp-content/uploads/...</td>\n",
       "      <td>0.0</td>\n",
       "      <td>attachment</td>\n",
       "      <td>image/jpeg</td>\n",
       "      <td>0.0</td>\n",
       "    </tr>\n",
       "    <tr>\n",
       "      <th>802</th>\n",
       "      <td>19814</td>\n",
       "      <td>0</td>\n",
       "      <td>0</td>\n",
       "      <td>0</td>\n",
       "      <td>0.0</td>\n",
       "      <td>3.0</td>\n",
       "      <td>NaN</td>\n",
       "      <td>NaN</td>\n",
       "      <td>2.0</td>\n",
       "      <td>2018-02-09 14:01:05</td>\n",
       "      <td>...</td>\n",
       "      <td>pierre-jean-villa-igp-gamine-2018</td>\n",
       "      <td>2020-01-04 16:36:01</td>\n",
       "      <td>2020-01-04 15:36:01</td>\n",
       "      <td>NaN</td>\n",
       "      <td>0.0</td>\n",
       "      <td>https://www.bottle-neck.fr/wp-content/uploads/...</td>\n",
       "      <td>0.0</td>\n",
       "      <td>attachment</td>\n",
       "      <td>image/jpeg</td>\n",
       "      <td>0.0</td>\n",
       "    </tr>\n",
       "    <tr>\n",
       "      <th>803</th>\n",
       "      <td>19815</td>\n",
       "      <td>0</td>\n",
       "      <td>0</td>\n",
       "      <td>0</td>\n",
       "      <td>0.0</td>\n",
       "      <td>0.0</td>\n",
       "      <td>NaN</td>\n",
       "      <td>NaN</td>\n",
       "      <td>2.0</td>\n",
       "      <td>2018-02-12 09:04:37</td>\n",
       "      <td>...</td>\n",
       "      <td>pierre-jean-villa-cote-rotie-carmina-2017</td>\n",
       "      <td>2020-01-04 16:36:10</td>\n",
       "      <td>2020-01-04 15:36:10</td>\n",
       "      <td>NaN</td>\n",
       "      <td>0.0</td>\n",
       "      <td>https://www.bottle-neck.fr/wp-content/uploads/...</td>\n",
       "      <td>0.0</td>\n",
       "      <td>attachment</td>\n",
       "      <td>image/jpeg</td>\n",
       "      <td>0.0</td>\n",
       "    </tr>\n",
       "  </tbody>\n",
       "</table>\n",
       "<p>5 rows × 28 columns</p>\n",
       "</div>"
      ],
      "text/plain": [
       "    id_web  virtual  downloadable  rating_count  average_rating  total_sales  \\\n",
       "799  15298        0             0             0             0.0          6.0   \n",
       "800  15296        0             0             0             0.0          0.0   \n",
       "801  15300        0             0             0             0.0          0.0   \n",
       "802  19814        0             0             0             0.0          3.0   \n",
       "803  19815        0             0             0             0.0          0.0   \n",
       "\n",
       "    tax_status  tax_class  post_author           post_date  ...  \\\n",
       "799        NaN        NaN          2.0 2018-02-08 12:58:52  ...   \n",
       "800        NaN        NaN          2.0 2018-02-08 13:49:41  ...   \n",
       "801        NaN        NaN          2.0 2018-02-08 14:08:36  ...   \n",
       "802        NaN        NaN          2.0 2018-02-09 14:01:05  ...   \n",
       "803        NaN        NaN          2.0 2018-02-12 09:04:37  ...   \n",
       "\n",
       "                                             post_name       post_modified  \\\n",
       "799        pierre-jean-villa-saint-joseph-preface-2018 2019-12-30 09:30:29   \n",
       "800          pierre-jean-villa-saint-joseph-tilde-2017 2019-12-21 09:00:17   \n",
       "801  pierre-jean-villa-croze-hermitage-accroche-coe... 2020-06-26 18:15:03   \n",
       "802                  pierre-jean-villa-igp-gamine-2018 2020-01-04 16:36:01   \n",
       "803          pierre-jean-villa-cote-rotie-carmina-2017 2020-01-04 16:36:10   \n",
       "\n",
       "      post_modified_gmt post_content_filtered post_parent  \\\n",
       "799 2019-12-30 08:30:29                   NaN         0.0   \n",
       "800 2019-12-21 08:00:17                   NaN         0.0   \n",
       "801 2020-06-26 16:15:03                   NaN         0.0   \n",
       "802 2020-01-04 15:36:01                   NaN         0.0   \n",
       "803 2020-01-04 15:36:10                   NaN         0.0   \n",
       "\n",
       "                                                  guid menu_order   post_type  \\\n",
       "799  https://www.bottle-neck.fr/wp-content/uploads/...        0.0  attachment   \n",
       "800  https://www.bottle-neck.fr/wp-content/uploads/...        0.0  attachment   \n",
       "801  https://www.bottle-neck.fr/wp-content/uploads/...        0.0  attachment   \n",
       "802  https://www.bottle-neck.fr/wp-content/uploads/...        0.0  attachment   \n",
       "803  https://www.bottle-neck.fr/wp-content/uploads/...        0.0  attachment   \n",
       "\n",
       "    post_mime_type comment_count  \n",
       "799     image/jpeg           0.0  \n",
       "800     image/jpeg           0.0  \n",
       "801     image/jpeg           0.0  \n",
       "802     image/jpeg           0.0  \n",
       "803     image/jpeg           0.0  \n",
       "\n",
       "[5 rows x 28 columns]"
      ]
     },
     "execution_count": 30,
     "metadata": {},
     "output_type": "execute_result"
    }
   ],
   "source": [
    "web_val_duplicated.loc[web_val_duplicated['total_sales'].notnull(),:].head()"
   ]
  },
  {
   "cell_type": "code",
   "execution_count": 31,
   "id": "bea7d0d5",
   "metadata": {},
   "outputs": [
    {
     "data": {
      "text/html": [
       "<div>\n",
       "<style scoped>\n",
       "    .dataframe tbody tr th:only-of-type {\n",
       "        vertical-align: middle;\n",
       "    }\n",
       "\n",
       "    .dataframe tbody tr th {\n",
       "        vertical-align: top;\n",
       "    }\n",
       "\n",
       "    .dataframe thead th {\n",
       "        text-align: right;\n",
       "    }\n",
       "</style>\n",
       "<table border=\"1\" class=\"dataframe\">\n",
       "  <thead>\n",
       "    <tr style=\"text-align: right;\">\n",
       "      <th></th>\n",
       "      <th>id_web</th>\n",
       "      <th>virtual</th>\n",
       "      <th>downloadable</th>\n",
       "      <th>rating_count</th>\n",
       "      <th>average_rating</th>\n",
       "      <th>total_sales</th>\n",
       "      <th>tax_status</th>\n",
       "      <th>tax_class</th>\n",
       "      <th>post_author</th>\n",
       "      <th>post_date</th>\n",
       "      <th>...</th>\n",
       "      <th>post_name</th>\n",
       "      <th>post_modified</th>\n",
       "      <th>post_modified_gmt</th>\n",
       "      <th>post_content_filtered</th>\n",
       "      <th>post_parent</th>\n",
       "      <th>guid</th>\n",
       "      <th>menu_order</th>\n",
       "      <th>post_type</th>\n",
       "      <th>post_mime_type</th>\n",
       "      <th>comment_count</th>\n",
       "    </tr>\n",
       "  </thead>\n",
       "  <tbody>\n",
       "    <tr>\n",
       "      <th>1</th>\n",
       "      <td>15298</td>\n",
       "      <td>0</td>\n",
       "      <td>0</td>\n",
       "      <td>0</td>\n",
       "      <td>0.0</td>\n",
       "      <td>6.0</td>\n",
       "      <td>taxable</td>\n",
       "      <td>NaN</td>\n",
       "      <td>2.0</td>\n",
       "      <td>2018-02-08 12:58:52</td>\n",
       "      <td>...</td>\n",
       "      <td>pierre-jean-villa-saint-joseph-preface-2018</td>\n",
       "      <td>2019-12-30 09:30:29</td>\n",
       "      <td>2019-12-30 08:30:29</td>\n",
       "      <td>NaN</td>\n",
       "      <td>0.0</td>\n",
       "      <td>https://www.bottle-neck.fr/?post_type=product&amp;...</td>\n",
       "      <td>0.0</td>\n",
       "      <td>product</td>\n",
       "      <td>NaN</td>\n",
       "      <td>0.0</td>\n",
       "    </tr>\n",
       "    <tr>\n",
       "      <th>799</th>\n",
       "      <td>15298</td>\n",
       "      <td>0</td>\n",
       "      <td>0</td>\n",
       "      <td>0</td>\n",
       "      <td>0.0</td>\n",
       "      <td>6.0</td>\n",
       "      <td>NaN</td>\n",
       "      <td>NaN</td>\n",
       "      <td>2.0</td>\n",
       "      <td>2018-02-08 12:58:52</td>\n",
       "      <td>...</td>\n",
       "      <td>pierre-jean-villa-saint-joseph-preface-2018</td>\n",
       "      <td>2019-12-30 09:30:29</td>\n",
       "      <td>2019-12-30 08:30:29</td>\n",
       "      <td>NaN</td>\n",
       "      <td>0.0</td>\n",
       "      <td>https://www.bottle-neck.fr/wp-content/uploads/...</td>\n",
       "      <td>0.0</td>\n",
       "      <td>attachment</td>\n",
       "      <td>image/jpeg</td>\n",
       "      <td>0.0</td>\n",
       "    </tr>\n",
       "  </tbody>\n",
       "</table>\n",
       "<p>2 rows × 28 columns</p>\n",
       "</div>"
      ],
      "text/plain": [
       "    id_web  virtual  downloadable  rating_count  average_rating  total_sales  \\\n",
       "1    15298        0             0             0             0.0          6.0   \n",
       "799  15298        0             0             0             0.0          6.0   \n",
       "\n",
       "    tax_status  tax_class  post_author           post_date  ...  \\\n",
       "1      taxable        NaN          2.0 2018-02-08 12:58:52  ...   \n",
       "799        NaN        NaN          2.0 2018-02-08 12:58:52  ...   \n",
       "\n",
       "                                       post_name       post_modified  \\\n",
       "1    pierre-jean-villa-saint-joseph-preface-2018 2019-12-30 09:30:29   \n",
       "799  pierre-jean-villa-saint-joseph-preface-2018 2019-12-30 09:30:29   \n",
       "\n",
       "      post_modified_gmt post_content_filtered post_parent  \\\n",
       "1   2019-12-30 08:30:29                   NaN         0.0   \n",
       "799 2019-12-30 08:30:29                   NaN         0.0   \n",
       "\n",
       "                                                  guid menu_order   post_type  \\\n",
       "1    https://www.bottle-neck.fr/?post_type=product&...        0.0     product   \n",
       "799  https://www.bottle-neck.fr/wp-content/uploads/...        0.0  attachment   \n",
       "\n",
       "    post_mime_type comment_count  \n",
       "1              NaN           0.0  \n",
       "799     image/jpeg           0.0  \n",
       "\n",
       "[2 rows x 28 columns]"
      ]
     },
     "execution_count": 31,
     "metadata": {},
     "output_type": "execute_result"
    }
   ],
   "source": [
    "web_withoutnull.loc[web_withoutnull['id_web'] == 15298]"
   ]
  },
  {
   "cell_type": "code",
   "execution_count": 32,
   "id": "cb52384f",
   "metadata": {},
   "outputs": [
    {
     "data": {
      "text/plain": [
       "array(['product', nan, 'attachment'], dtype=object)"
      ]
     },
     "execution_count": 32,
     "metadata": {},
     "output_type": "execute_result"
    }
   ],
   "source": [
    "web['post_type'].unique()"
   ]
  },
  {
   "cell_type": "markdown",
   "id": "b72474bd",
   "metadata": {},
   "source": [
    "714 'id_web' sont dupliqués car ils correspondent à la description photo du produit.\n",
    "Nous supprimons les valeurs correspondant aux images."
   ]
  },
  {
   "cell_type": "markdown",
   "id": "ca4477c0",
   "metadata": {},
   "source": [
    "### Supprimer les valeurs dupliquées correspondant aux images"
   ]
  },
  {
   "cell_type": "code",
   "execution_count": 33,
   "id": "279610eb",
   "metadata": {},
   "outputs": [],
   "source": [
    "web_without_everything = web_withoutnull[web_withoutnull['post_type'] == 'product']"
   ]
  },
  {
   "cell_type": "markdown",
   "id": "0268f6d4",
   "metadata": {},
   "source": [
    "### Utilisation de la fonction unicite_cle pour vérifier si la clé id_web est unique"
   ]
  },
  {
   "cell_type": "code",
   "execution_count": 34,
   "id": "7f8bb64d",
   "metadata": {},
   "outputs": [
    {
     "name": "stdout",
     "output_type": "stream",
     "text": [
      "La clé est unique.\n"
     ]
    }
   ],
   "source": [
    "x = web_without_everything.id_web\n",
    "\n",
    "unicite_cle(x)"
   ]
  },
  {
   "cell_type": "code",
   "execution_count": 35,
   "id": "3b59e8b6",
   "metadata": {},
   "outputs": [
    {
     "data": {
      "text/plain": [
       "(714, 28)"
      ]
     },
     "execution_count": 35,
     "metadata": {},
     "output_type": "execute_result"
    }
   ],
   "source": [
    "web_without_everything.shape"
   ]
  },
  {
   "cell_type": "code",
   "execution_count": 36,
   "id": "b46cc30e",
   "metadata": {},
   "outputs": [],
   "source": [
    "web_clean = web_without_everything"
   ]
  },
  {
   "cell_type": "markdown",
   "id": "909e5804",
   "metadata": {},
   "source": [
    "## DF LIAISON\n"
   ]
  },
  {
   "cell_type": "markdown",
   "id": "4087ccdb",
   "metadata": {},
   "source": [
    "### Afficher l'en-tête avec df.head()"
   ]
  },
  {
   "cell_type": "code",
   "execution_count": 37,
   "id": "ead07af2",
   "metadata": {},
   "outputs": [
    {
     "data": {
      "text/html": [
       "<div>\n",
       "<style scoped>\n",
       "    .dataframe tbody tr th:only-of-type {\n",
       "        vertical-align: middle;\n",
       "    }\n",
       "\n",
       "    .dataframe tbody tr th {\n",
       "        vertical-align: top;\n",
       "    }\n",
       "\n",
       "    .dataframe thead th {\n",
       "        text-align: right;\n",
       "    }\n",
       "</style>\n",
       "<table border=\"1\" class=\"dataframe\">\n",
       "  <thead>\n",
       "    <tr style=\"text-align: right;\">\n",
       "      <th></th>\n",
       "      <th>product_id</th>\n",
       "      <th>id_web</th>\n",
       "    </tr>\n",
       "  </thead>\n",
       "  <tbody>\n",
       "    <tr>\n",
       "      <th>0</th>\n",
       "      <td>3847</td>\n",
       "      <td>15298</td>\n",
       "    </tr>\n",
       "    <tr>\n",
       "      <th>1</th>\n",
       "      <td>3849</td>\n",
       "      <td>15296</td>\n",
       "    </tr>\n",
       "    <tr>\n",
       "      <th>2</th>\n",
       "      <td>3850</td>\n",
       "      <td>15300</td>\n",
       "    </tr>\n",
       "    <tr>\n",
       "      <th>3</th>\n",
       "      <td>4032</td>\n",
       "      <td>19814</td>\n",
       "    </tr>\n",
       "    <tr>\n",
       "      <th>4</th>\n",
       "      <td>4039</td>\n",
       "      <td>19815</td>\n",
       "    </tr>\n",
       "  </tbody>\n",
       "</table>\n",
       "</div>"
      ],
      "text/plain": [
       "   product_id id_web\n",
       "0        3847  15298\n",
       "1        3849  15296\n",
       "2        3850  15300\n",
       "3        4032  19814\n",
       "4        4039  19815"
      ]
     },
     "execution_count": 37,
     "metadata": {},
     "output_type": "execute_result"
    }
   ],
   "source": [
    "liaison.head()"
   ]
  },
  {
   "cell_type": "markdown",
   "id": "13d50b7c",
   "metadata": {},
   "source": [
    "### Afficher toutes les informations avec df.info()"
   ]
  },
  {
   "cell_type": "code",
   "execution_count": 38,
   "id": "b414b1ef",
   "metadata": {},
   "outputs": [
    {
     "name": "stdout",
     "output_type": "stream",
     "text": [
      "<class 'pandas.core.frame.DataFrame'>\n",
      "RangeIndex: 825 entries, 0 to 824\n",
      "Data columns (total 2 columns):\n",
      " #   Column      Non-Null Count  Dtype \n",
      "---  ------      --------------  ----- \n",
      " 0   product_id  825 non-null    int64 \n",
      " 1   id_web      734 non-null    object\n",
      "dtypes: int64(1), object(1)\n",
      "memory usage: 13.0+ KB\n"
     ]
    }
   ],
   "source": [
    "liaison.info()"
   ]
  },
  {
   "cell_type": "markdown",
   "id": "766a8060",
   "metadata": {},
   "source": [
    "### Utilisation de la fonction num_missing pour détecter les valeurs manquantes"
   ]
  },
  {
   "cell_type": "code",
   "execution_count": 39,
   "id": "3b995554",
   "metadata": {},
   "outputs": [
    {
     "name": "stdout",
     "output_type": "stream",
     "text": [
      "product_id     0\n",
      "id_web        91\n",
      "dtype: int64\n"
     ]
    }
   ],
   "source": [
    "print(liaison.apply(num_missing, axis = 0))"
   ]
  },
  {
   "cell_type": "markdown",
   "id": "2ac82afe",
   "metadata": {},
   "source": [
    "#### Afficher les valeurs manquantes"
   ]
  },
  {
   "cell_type": "code",
   "execution_count": 40,
   "id": "499fe958",
   "metadata": {},
   "outputs": [
    {
     "data": {
      "text/html": [
       "<div>\n",
       "<style scoped>\n",
       "    .dataframe tbody tr th:only-of-type {\n",
       "        vertical-align: middle;\n",
       "    }\n",
       "\n",
       "    .dataframe tbody tr th {\n",
       "        vertical-align: top;\n",
       "    }\n",
       "\n",
       "    .dataframe thead th {\n",
       "        text-align: right;\n",
       "    }\n",
       "</style>\n",
       "<table border=\"1\" class=\"dataframe\">\n",
       "  <thead>\n",
       "    <tr style=\"text-align: right;\">\n",
       "      <th></th>\n",
       "      <th>product_id</th>\n",
       "      <th>id_web</th>\n",
       "    </tr>\n",
       "  </thead>\n",
       "  <tbody>\n",
       "    <tr>\n",
       "      <th>19</th>\n",
       "      <td>4055</td>\n",
       "      <td>NaN</td>\n",
       "    </tr>\n",
       "    <tr>\n",
       "      <th>49</th>\n",
       "      <td>4090</td>\n",
       "      <td>NaN</td>\n",
       "    </tr>\n",
       "    <tr>\n",
       "      <th>50</th>\n",
       "      <td>4092</td>\n",
       "      <td>NaN</td>\n",
       "    </tr>\n",
       "    <tr>\n",
       "      <th>119</th>\n",
       "      <td>4195</td>\n",
       "      <td>NaN</td>\n",
       "    </tr>\n",
       "    <tr>\n",
       "      <th>131</th>\n",
       "      <td>4209</td>\n",
       "      <td>NaN</td>\n",
       "    </tr>\n",
       "    <tr>\n",
       "      <th>...</th>\n",
       "      <td>...</td>\n",
       "      <td>...</td>\n",
       "    </tr>\n",
       "    <tr>\n",
       "      <th>817</th>\n",
       "      <td>7196</td>\n",
       "      <td>NaN</td>\n",
       "    </tr>\n",
       "    <tr>\n",
       "      <th>818</th>\n",
       "      <td>7200</td>\n",
       "      <td>NaN</td>\n",
       "    </tr>\n",
       "    <tr>\n",
       "      <th>819</th>\n",
       "      <td>7201</td>\n",
       "      <td>NaN</td>\n",
       "    </tr>\n",
       "    <tr>\n",
       "      <th>820</th>\n",
       "      <td>7203</td>\n",
       "      <td>NaN</td>\n",
       "    </tr>\n",
       "    <tr>\n",
       "      <th>821</th>\n",
       "      <td>7204</td>\n",
       "      <td>NaN</td>\n",
       "    </tr>\n",
       "  </tbody>\n",
       "</table>\n",
       "<p>91 rows × 2 columns</p>\n",
       "</div>"
      ],
      "text/plain": [
       "     product_id id_web\n",
       "19         4055    NaN\n",
       "49         4090    NaN\n",
       "50         4092    NaN\n",
       "119        4195    NaN\n",
       "131        4209    NaN\n",
       "..          ...    ...\n",
       "817        7196    NaN\n",
       "818        7200    NaN\n",
       "819        7201    NaN\n",
       "820        7203    NaN\n",
       "821        7204    NaN\n",
       "\n",
       "[91 rows x 2 columns]"
      ]
     },
     "execution_count": 40,
     "metadata": {},
     "output_type": "execute_result"
    }
   ],
   "source": [
    "liaison.loc[liaison['id_web'].isnull()]"
   ]
  },
  {
   "cell_type": "markdown",
   "id": "039f81fa",
   "metadata": {},
   "source": [
    "### Utilisation de la fonction nb_occurences pour détecter les valeurs répétées"
   ]
  },
  {
   "cell_type": "code",
   "execution_count": 41,
   "id": "d51e48a2",
   "metadata": {},
   "outputs": [
    {
     "name": "stdout",
     "output_type": "stream",
     "text": [
      "product_id     0\n",
      "id_web        90\n",
      "dtype: int64\n"
     ]
    }
   ],
   "source": [
    "print(liaison.apply(nb_occurences))"
   ]
  },
  {
   "cell_type": "code",
   "execution_count": 42,
   "id": "50f68d58",
   "metadata": {},
   "outputs": [],
   "source": [
    "# Les valeurs dupliquées correspondent aux NaN.\n",
    "# Nous les conservons."
   ]
  },
  {
   "cell_type": "code",
   "execution_count": 43,
   "id": "98c37384",
   "metadata": {},
   "outputs": [
    {
     "name": "stdout",
     "output_type": "stream",
     "text": [
      "La clé est unique.\n"
     ]
    }
   ],
   "source": [
    "x = liaison.product_id\n",
    "\n",
    "unicite_cle(x)"
   ]
  },
  {
   "cell_type": "markdown",
   "id": "83d1fb5f",
   "metadata": {},
   "source": [
    "# JOINDRE LES FICHIERS\n"
   ]
  },
  {
   "cell_type": "markdown",
   "id": "8c75e27e",
   "metadata": {},
   "source": [
    "La liste des product_id est exhaustive dans le fichier LIAISON, mais pas les références côté Web"
   ]
  },
  {
   "cell_type": "markdown",
   "id": "0c48a1b0",
   "metadata": {},
   "source": [
    "## Première jointure entre LIAISON et ERP : merge_1"
   ]
  },
  {
   "cell_type": "markdown",
   "id": "4e4ed9ac",
   "metadata": {},
   "source": [
    "### Test de toutes les jointures afin de déterminer celle qui correspond le plus"
   ]
  },
  {
   "cell_type": "markdown",
   "id": "5c4d18a1",
   "metadata": {},
   "source": [
    "> OUTER"
   ]
  },
  {
   "cell_type": "code",
   "execution_count": 44,
   "id": "188c1f8f",
   "metadata": {},
   "outputs": [
    {
     "data": {
      "text/plain": [
       "both          825\n",
       "left_only       0\n",
       "right_only      0\n",
       "Name: _merge, dtype: int64"
      ]
     },
     "execution_count": 44,
     "metadata": {},
     "output_type": "execute_result"
    }
   ],
   "source": [
    "merge_outer = pd.merge(liaison, erp, how ='outer', on = 'product_id', indicator = True)\n",
    "merge_outer['_merge'].value_counts()"
   ]
  },
  {
   "cell_type": "markdown",
   "id": "b478149d",
   "metadata": {},
   "source": [
    "> INNER"
   ]
  },
  {
   "cell_type": "code",
   "execution_count": 45,
   "id": "e0300c3a",
   "metadata": {},
   "outputs": [
    {
     "data": {
      "text/plain": [
       "both          825\n",
       "left_only       0\n",
       "right_only      0\n",
       "Name: _merge, dtype: int64"
      ]
     },
     "execution_count": 45,
     "metadata": {},
     "output_type": "execute_result"
    }
   ],
   "source": [
    "merge_inner = pd.merge(liaison, erp, how ='inner', on = 'product_id', indicator = True)\n",
    "merge_inner['_merge'].value_counts()"
   ]
  },
  {
   "cell_type": "markdown",
   "id": "01a49231",
   "metadata": {},
   "source": [
    "> RIGHT"
   ]
  },
  {
   "cell_type": "code",
   "execution_count": 46,
   "id": "242ec2d6",
   "metadata": {},
   "outputs": [
    {
     "data": {
      "text/plain": [
       "both          825\n",
       "left_only       0\n",
       "right_only      0\n",
       "Name: _merge, dtype: int64"
      ]
     },
     "execution_count": 46,
     "metadata": {},
     "output_type": "execute_result"
    }
   ],
   "source": [
    "merge_right = pd.merge(liaison, erp, how ='right', on = 'product_id', indicator = True)\n",
    "merge_right['_merge'].value_counts()"
   ]
  },
  {
   "cell_type": "markdown",
   "id": "610b0129",
   "metadata": {},
   "source": [
    "> LEFT"
   ]
  },
  {
   "cell_type": "code",
   "execution_count": 47,
   "id": "b42aba34",
   "metadata": {},
   "outputs": [
    {
     "data": {
      "text/plain": [
       "both          825\n",
       "left_only       0\n",
       "right_only      0\n",
       "Name: _merge, dtype: int64"
      ]
     },
     "execution_count": 47,
     "metadata": {},
     "output_type": "execute_result"
    }
   ],
   "source": [
    "merge_left = pd.merge(liaison, erp, how = 'left', on = 'product_id', indicator = True)\n",
    "merge_left['_merge'].value_counts()"
   ]
  },
  {
   "cell_type": "code",
   "execution_count": 120,
   "id": "8ad44337",
   "metadata": {},
   "outputs": [],
   "source": [
    "merge_1 = pd.merge(liaison, erp, how = 'inner', on = 'product_id', indicator = True)"
   ]
  },
  {
   "cell_type": "code",
   "execution_count": 121,
   "id": "97e706e8",
   "metadata": {},
   "outputs": [
    {
     "name": "stdout",
     "output_type": "stream",
     "text": [
      "<class 'pandas.core.frame.DataFrame'>\n",
      "Int64Index: 825 entries, 0 to 824\n",
      "Data columns (total 7 columns):\n",
      " #   Column          Non-Null Count  Dtype   \n",
      "---  ------          --------------  -----   \n",
      " 0   product_id      825 non-null    int64   \n",
      " 1   id_web          734 non-null    object  \n",
      " 2   onsale_web      825 non-null    int64   \n",
      " 3   price           825 non-null    float64 \n",
      " 4   stock_quantity  825 non-null    int64   \n",
      " 5   stock_status    825 non-null    object  \n",
      " 6   _merge          825 non-null    category\n",
      "dtypes: category(1), float64(1), int64(3), object(2)\n",
      "memory usage: 46.1+ KB\n"
     ]
    }
   ],
   "source": [
    "merge_1.info()"
   ]
  },
  {
   "cell_type": "code",
   "execution_count": 122,
   "id": "ee90fbbb",
   "metadata": {},
   "outputs": [
    {
     "data": {
      "text/html": [
       "<div>\n",
       "<style scoped>\n",
       "    .dataframe tbody tr th:only-of-type {\n",
       "        vertical-align: middle;\n",
       "    }\n",
       "\n",
       "    .dataframe tbody tr th {\n",
       "        vertical-align: top;\n",
       "    }\n",
       "\n",
       "    .dataframe thead th {\n",
       "        text-align: right;\n",
       "    }\n",
       "</style>\n",
       "<table border=\"1\" class=\"dataframe\">\n",
       "  <thead>\n",
       "    <tr style=\"text-align: right;\">\n",
       "      <th></th>\n",
       "      <th>product_id</th>\n",
       "      <th>id_web</th>\n",
       "      <th>onsale_web</th>\n",
       "      <th>price</th>\n",
       "      <th>stock_quantity</th>\n",
       "      <th>stock_status</th>\n",
       "      <th>_merge</th>\n",
       "    </tr>\n",
       "  </thead>\n",
       "  <tbody>\n",
       "    <tr>\n",
       "      <th>0</th>\n",
       "      <td>3847</td>\n",
       "      <td>15298</td>\n",
       "      <td>1</td>\n",
       "      <td>24.2</td>\n",
       "      <td>0</td>\n",
       "      <td>outofstock</td>\n",
       "      <td>both</td>\n",
       "    </tr>\n",
       "    <tr>\n",
       "      <th>1</th>\n",
       "      <td>3849</td>\n",
       "      <td>15296</td>\n",
       "      <td>1</td>\n",
       "      <td>34.3</td>\n",
       "      <td>0</td>\n",
       "      <td>outofstock</td>\n",
       "      <td>both</td>\n",
       "    </tr>\n",
       "    <tr>\n",
       "      <th>2</th>\n",
       "      <td>3850</td>\n",
       "      <td>15300</td>\n",
       "      <td>1</td>\n",
       "      <td>20.8</td>\n",
       "      <td>0</td>\n",
       "      <td>outofstock</td>\n",
       "      <td>both</td>\n",
       "    </tr>\n",
       "    <tr>\n",
       "      <th>3</th>\n",
       "      <td>4032</td>\n",
       "      <td>19814</td>\n",
       "      <td>1</td>\n",
       "      <td>14.1</td>\n",
       "      <td>0</td>\n",
       "      <td>outofstock</td>\n",
       "      <td>both</td>\n",
       "    </tr>\n",
       "    <tr>\n",
       "      <th>4</th>\n",
       "      <td>4039</td>\n",
       "      <td>19815</td>\n",
       "      <td>1</td>\n",
       "      <td>46.0</td>\n",
       "      <td>0</td>\n",
       "      <td>outofstock</td>\n",
       "      <td>both</td>\n",
       "    </tr>\n",
       "  </tbody>\n",
       "</table>\n",
       "</div>"
      ],
      "text/plain": [
       "   product_id id_web  onsale_web  price  stock_quantity stock_status _merge\n",
       "0        3847  15298           1   24.2               0   outofstock   both\n",
       "1        3849  15296           1   34.3               0   outofstock   both\n",
       "2        3850  15300           1   20.8               0   outofstock   both\n",
       "3        4032  19814           1   14.1               0   outofstock   both\n",
       "4        4039  19815           1   46.0               0   outofstock   both"
      ]
     },
     "execution_count": 122,
     "metadata": {},
     "output_type": "execute_result"
    }
   ],
   "source": [
    "merge_1.head()"
   ]
  },
  {
   "cell_type": "code",
   "execution_count": 123,
   "id": "b17e6321",
   "metadata": {},
   "outputs": [
    {
     "name": "stdout",
     "output_type": "stream",
     "text": [
      "product_id         0\n",
      "id_web            91\n",
      "onsale_web         0\n",
      "price              0\n",
      "stock_quantity     0\n",
      "stock_status       0\n",
      "_merge             0\n",
      "dtype: int64\n"
     ]
    }
   ],
   "source": [
    "print(merge_1.apply(num_missing, axis= 0))"
   ]
  },
  {
   "cell_type": "code",
   "execution_count": 124,
   "id": "15ef72e5",
   "metadata": {},
   "outputs": [
    {
     "name": "stdout",
     "output_type": "stream",
     "text": [
      "product_id          0\n",
      "id_web             90\n",
      "onsale_web        823\n",
      "price             444\n",
      "stock_quantity    697\n",
      "stock_status      823\n",
      "_merge            824\n",
      "dtype: int64\n"
     ]
    }
   ],
   "source": [
    "print(merge_1.apply(nb_occurences, axis = 0))"
   ]
  },
  {
   "cell_type": "code",
   "execution_count": 125,
   "id": "7bc435ec",
   "metadata": {},
   "outputs": [
    {
     "name": "stdout",
     "output_type": "stream",
     "text": [
      "La clé est unique.\n"
     ]
    }
   ],
   "source": [
    "x = merge_1['product_id']\n",
    "unicite_cle(x)"
   ]
  },
  {
   "cell_type": "markdown",
   "id": "1e211e29",
   "metadata": {},
   "source": [
    "## Deuxième jointure entre merge_1 et web_clean\n"
   ]
  },
  {
   "cell_type": "markdown",
   "id": "640a6755",
   "metadata": {},
   "source": [
    "### Test de toutes les jointures afin de déterminer celle qui correspond le plus"
   ]
  },
  {
   "cell_type": "code",
   "execution_count": 148,
   "id": "187db931",
   "metadata": {},
   "outputs": [
    {
     "data": {
      "text/html": [
       "<div>\n",
       "<style scoped>\n",
       "    .dataframe tbody tr th:only-of-type {\n",
       "        vertical-align: middle;\n",
       "    }\n",
       "\n",
       "    .dataframe tbody tr th {\n",
       "        vertical-align: top;\n",
       "    }\n",
       "\n",
       "    .dataframe thead th {\n",
       "        text-align: right;\n",
       "    }\n",
       "</style>\n",
       "<table border=\"1\" class=\"dataframe\">\n",
       "  <thead>\n",
       "    <tr style=\"text-align: right;\">\n",
       "      <th></th>\n",
       "      <th>product_id</th>\n",
       "      <th>id_web</th>\n",
       "      <th>onsale_web</th>\n",
       "      <th>price</th>\n",
       "      <th>stock_quantity</th>\n",
       "      <th>stock_status</th>\n",
       "    </tr>\n",
       "  </thead>\n",
       "  <tbody>\n",
       "    <tr>\n",
       "      <th>0</th>\n",
       "      <td>3847</td>\n",
       "      <td>15298</td>\n",
       "      <td>1</td>\n",
       "      <td>24.2</td>\n",
       "      <td>0</td>\n",
       "      <td>outofstock</td>\n",
       "    </tr>\n",
       "    <tr>\n",
       "      <th>1</th>\n",
       "      <td>3849</td>\n",
       "      <td>15296</td>\n",
       "      <td>1</td>\n",
       "      <td>34.3</td>\n",
       "      <td>0</td>\n",
       "      <td>outofstock</td>\n",
       "    </tr>\n",
       "    <tr>\n",
       "      <th>2</th>\n",
       "      <td>3850</td>\n",
       "      <td>15300</td>\n",
       "      <td>1</td>\n",
       "      <td>20.8</td>\n",
       "      <td>0</td>\n",
       "      <td>outofstock</td>\n",
       "    </tr>\n",
       "    <tr>\n",
       "      <th>3</th>\n",
       "      <td>4032</td>\n",
       "      <td>19814</td>\n",
       "      <td>1</td>\n",
       "      <td>14.1</td>\n",
       "      <td>0</td>\n",
       "      <td>outofstock</td>\n",
       "    </tr>\n",
       "    <tr>\n",
       "      <th>4</th>\n",
       "      <td>4039</td>\n",
       "      <td>19815</td>\n",
       "      <td>1</td>\n",
       "      <td>46.0</td>\n",
       "      <td>0</td>\n",
       "      <td>outofstock</td>\n",
       "    </tr>\n",
       "  </tbody>\n",
       "</table>\n",
       "</div>"
      ],
      "text/plain": [
       "   product_id id_web  onsale_web  price  stock_quantity stock_status\n",
       "0        3847  15298           1   24.2               0   outofstock\n",
       "1        3849  15296           1   34.3               0   outofstock\n",
       "2        3850  15300           1   20.8               0   outofstock\n",
       "3        4032  19814           1   14.1               0   outofstock\n",
       "4        4039  19815           1   46.0               0   outofstock"
      ]
     },
     "execution_count": 148,
     "metadata": {},
     "output_type": "execute_result"
    }
   ],
   "source": [
    "merge_1.head()"
   ]
  },
  {
   "cell_type": "markdown",
   "id": "e61d3c2a",
   "metadata": {},
   "source": [
    "> OUTER"
   ]
  },
  {
   "cell_type": "code",
   "execution_count": 149,
   "id": "7949b426",
   "metadata": {},
   "outputs": [
    {
     "data": {
      "text/plain": [
       "both          714\n",
       "left_only     111\n",
       "right_only      0\n",
       "Name: _merge, dtype: int64"
      ]
     },
     "execution_count": 149,
     "metadata": {},
     "output_type": "execute_result"
    }
   ],
   "source": [
    "df_final_outer = pd.merge(merge_1, web_clean, how = 'outer', on = 'id_web', indicator = True)\n",
    "df_final_outer['_merge'].value_counts()"
   ]
  },
  {
   "cell_type": "markdown",
   "id": "23a72829",
   "metadata": {},
   "source": [
    "> INNER"
   ]
  },
  {
   "cell_type": "code",
   "execution_count": 150,
   "id": "b18d25a5",
   "metadata": {},
   "outputs": [
    {
     "data": {
      "text/plain": [
       "both          714\n",
       "left_only     111\n",
       "right_only      0\n",
       "Name: _merge, dtype: int64"
      ]
     },
     "execution_count": 150,
     "metadata": {},
     "output_type": "execute_result"
    }
   ],
   "source": [
    "df_final_inner = pd.merge(merge_1, web_clean, how = 'left', on = 'id_web', indicator = True)\n",
    "df_final_inner['_merge'].value_counts()"
   ]
  },
  {
   "cell_type": "markdown",
   "id": "eb90f447",
   "metadata": {},
   "source": [
    "> LEFT"
   ]
  },
  {
   "cell_type": "code",
   "execution_count": 151,
   "id": "de40a561",
   "metadata": {},
   "outputs": [
    {
     "data": {
      "text/plain": [
       "both          714\n",
       "left_only     111\n",
       "right_only      0\n",
       "Name: _merge, dtype: int64"
      ]
     },
     "execution_count": 151,
     "metadata": {},
     "output_type": "execute_result"
    }
   ],
   "source": [
    "df_final_left = pd.merge(merge_1, web_clean, how = 'left', on = 'id_web', indicator = True)\n",
    "df_final_left['_merge'].value_counts()"
   ]
  },
  {
   "cell_type": "markdown",
   "id": "f57d87f0",
   "metadata": {},
   "source": [
    "### Pourquoi sur les 825 lignes, seulement 714  correspondent ?\n",
    "> Analysons les 111 lignes qui ne correspondent pas."
   ]
  },
  {
   "cell_type": "code",
   "execution_count": 152,
   "id": "9256b485",
   "metadata": {},
   "outputs": [
    {
     "data": {
      "text/html": [
       "<div>\n",
       "<style scoped>\n",
       "    .dataframe tbody tr th:only-of-type {\n",
       "        vertical-align: middle;\n",
       "    }\n",
       "\n",
       "    .dataframe tbody tr th {\n",
       "        vertical-align: top;\n",
       "    }\n",
       "\n",
       "    .dataframe thead th {\n",
       "        text-align: right;\n",
       "    }\n",
       "</style>\n",
       "<table border=\"1\" class=\"dataframe\">\n",
       "  <thead>\n",
       "    <tr style=\"text-align: right;\">\n",
       "      <th></th>\n",
       "      <th>product_id</th>\n",
       "      <th>id_web</th>\n",
       "      <th>onsale_web</th>\n",
       "      <th>price</th>\n",
       "      <th>stock_quantity</th>\n",
       "      <th>stock_status</th>\n",
       "      <th>virtual</th>\n",
       "      <th>downloadable</th>\n",
       "      <th>rating_count</th>\n",
       "      <th>average_rating</th>\n",
       "      <th>...</th>\n",
       "      <th>post_modified</th>\n",
       "      <th>post_modified_gmt</th>\n",
       "      <th>post_content_filtered</th>\n",
       "      <th>post_parent</th>\n",
       "      <th>guid</th>\n",
       "      <th>menu_order</th>\n",
       "      <th>post_type</th>\n",
       "      <th>post_mime_type</th>\n",
       "      <th>comment_count</th>\n",
       "      <th>_merge</th>\n",
       "    </tr>\n",
       "  </thead>\n",
       "  <tbody>\n",
       "    <tr>\n",
       "      <th>19</th>\n",
       "      <td>4055</td>\n",
       "      <td>NaN</td>\n",
       "      <td>0</td>\n",
       "      <td>86.1</td>\n",
       "      <td>0</td>\n",
       "      <td>outofstock</td>\n",
       "      <td>NaN</td>\n",
       "      <td>NaN</td>\n",
       "      <td>NaN</td>\n",
       "      <td>NaN</td>\n",
       "      <td>...</td>\n",
       "      <td>NaT</td>\n",
       "      <td>NaT</td>\n",
       "      <td>NaN</td>\n",
       "      <td>NaN</td>\n",
       "      <td>NaN</td>\n",
       "      <td>NaN</td>\n",
       "      <td>NaN</td>\n",
       "      <td>NaN</td>\n",
       "      <td>NaN</td>\n",
       "      <td>left_only</td>\n",
       "    </tr>\n",
       "    <tr>\n",
       "      <th>49</th>\n",
       "      <td>4090</td>\n",
       "      <td>NaN</td>\n",
       "      <td>0</td>\n",
       "      <td>73.0</td>\n",
       "      <td>0</td>\n",
       "      <td>outofstock</td>\n",
       "      <td>NaN</td>\n",
       "      <td>NaN</td>\n",
       "      <td>NaN</td>\n",
       "      <td>NaN</td>\n",
       "      <td>...</td>\n",
       "      <td>NaT</td>\n",
       "      <td>NaT</td>\n",
       "      <td>NaN</td>\n",
       "      <td>NaN</td>\n",
       "      <td>NaN</td>\n",
       "      <td>NaN</td>\n",
       "      <td>NaN</td>\n",
       "      <td>NaN</td>\n",
       "      <td>NaN</td>\n",
       "      <td>left_only</td>\n",
       "    </tr>\n",
       "    <tr>\n",
       "      <th>50</th>\n",
       "      <td>4092</td>\n",
       "      <td>NaN</td>\n",
       "      <td>0</td>\n",
       "      <td>47.0</td>\n",
       "      <td>0</td>\n",
       "      <td>outofstock</td>\n",
       "      <td>NaN</td>\n",
       "      <td>NaN</td>\n",
       "      <td>NaN</td>\n",
       "      <td>NaN</td>\n",
       "      <td>...</td>\n",
       "      <td>NaT</td>\n",
       "      <td>NaT</td>\n",
       "      <td>NaN</td>\n",
       "      <td>NaN</td>\n",
       "      <td>NaN</td>\n",
       "      <td>NaN</td>\n",
       "      <td>NaN</td>\n",
       "      <td>NaN</td>\n",
       "      <td>NaN</td>\n",
       "      <td>left_only</td>\n",
       "    </tr>\n",
       "    <tr>\n",
       "      <th>119</th>\n",
       "      <td>4195</td>\n",
       "      <td>NaN</td>\n",
       "      <td>0</td>\n",
       "      <td>14.1</td>\n",
       "      <td>0</td>\n",
       "      <td>outofstock</td>\n",
       "      <td>NaN</td>\n",
       "      <td>NaN</td>\n",
       "      <td>NaN</td>\n",
       "      <td>NaN</td>\n",
       "      <td>...</td>\n",
       "      <td>NaT</td>\n",
       "      <td>NaT</td>\n",
       "      <td>NaN</td>\n",
       "      <td>NaN</td>\n",
       "      <td>NaN</td>\n",
       "      <td>NaN</td>\n",
       "      <td>NaN</td>\n",
       "      <td>NaN</td>\n",
       "      <td>NaN</td>\n",
       "      <td>left_only</td>\n",
       "    </tr>\n",
       "    <tr>\n",
       "      <th>131</th>\n",
       "      <td>4209</td>\n",
       "      <td>NaN</td>\n",
       "      <td>0</td>\n",
       "      <td>73.5</td>\n",
       "      <td>0</td>\n",
       "      <td>outofstock</td>\n",
       "      <td>NaN</td>\n",
       "      <td>NaN</td>\n",
       "      <td>NaN</td>\n",
       "      <td>NaN</td>\n",
       "      <td>...</td>\n",
       "      <td>NaT</td>\n",
       "      <td>NaT</td>\n",
       "      <td>NaN</td>\n",
       "      <td>NaN</td>\n",
       "      <td>NaN</td>\n",
       "      <td>NaN</td>\n",
       "      <td>NaN</td>\n",
       "      <td>NaN</td>\n",
       "      <td>NaN</td>\n",
       "      <td>left_only</td>\n",
       "    </tr>\n",
       "    <tr>\n",
       "      <th>...</th>\n",
       "      <td>...</td>\n",
       "      <td>...</td>\n",
       "      <td>...</td>\n",
       "      <td>...</td>\n",
       "      <td>...</td>\n",
       "      <td>...</td>\n",
       "      <td>...</td>\n",
       "      <td>...</td>\n",
       "      <td>...</td>\n",
       "      <td>...</td>\n",
       "      <td>...</td>\n",
       "      <td>...</td>\n",
       "      <td>...</td>\n",
       "      <td>...</td>\n",
       "      <td>...</td>\n",
       "      <td>...</td>\n",
       "      <td>...</td>\n",
       "      <td>...</td>\n",
       "      <td>...</td>\n",
       "      <td>...</td>\n",
       "      <td>...</td>\n",
       "    </tr>\n",
       "    <tr>\n",
       "      <th>818</th>\n",
       "      <td>7200</td>\n",
       "      <td>NaN</td>\n",
       "      <td>0</td>\n",
       "      <td>31.0</td>\n",
       "      <td>6</td>\n",
       "      <td>instock</td>\n",
       "      <td>NaN</td>\n",
       "      <td>NaN</td>\n",
       "      <td>NaN</td>\n",
       "      <td>NaN</td>\n",
       "      <td>...</td>\n",
       "      <td>NaT</td>\n",
       "      <td>NaT</td>\n",
       "      <td>NaN</td>\n",
       "      <td>NaN</td>\n",
       "      <td>NaN</td>\n",
       "      <td>NaN</td>\n",
       "      <td>NaN</td>\n",
       "      <td>NaN</td>\n",
       "      <td>NaN</td>\n",
       "      <td>left_only</td>\n",
       "    </tr>\n",
       "    <tr>\n",
       "      <th>819</th>\n",
       "      <td>7201</td>\n",
       "      <td>NaN</td>\n",
       "      <td>0</td>\n",
       "      <td>31.0</td>\n",
       "      <td>18</td>\n",
       "      <td>instock</td>\n",
       "      <td>NaN</td>\n",
       "      <td>NaN</td>\n",
       "      <td>NaN</td>\n",
       "      <td>NaN</td>\n",
       "      <td>...</td>\n",
       "      <td>NaT</td>\n",
       "      <td>NaT</td>\n",
       "      <td>NaN</td>\n",
       "      <td>NaN</td>\n",
       "      <td>NaN</td>\n",
       "      <td>NaN</td>\n",
       "      <td>NaN</td>\n",
       "      <td>NaN</td>\n",
       "      <td>NaN</td>\n",
       "      <td>left_only</td>\n",
       "    </tr>\n",
       "    <tr>\n",
       "      <th>820</th>\n",
       "      <td>7203</td>\n",
       "      <td>NaN</td>\n",
       "      <td>0</td>\n",
       "      <td>45.0</td>\n",
       "      <td>30</td>\n",
       "      <td>instock</td>\n",
       "      <td>NaN</td>\n",
       "      <td>NaN</td>\n",
       "      <td>NaN</td>\n",
       "      <td>NaN</td>\n",
       "      <td>...</td>\n",
       "      <td>NaT</td>\n",
       "      <td>NaT</td>\n",
       "      <td>NaN</td>\n",
       "      <td>NaN</td>\n",
       "      <td>NaN</td>\n",
       "      <td>NaN</td>\n",
       "      <td>NaN</td>\n",
       "      <td>NaN</td>\n",
       "      <td>NaN</td>\n",
       "      <td>left_only</td>\n",
       "    </tr>\n",
       "    <tr>\n",
       "      <th>821</th>\n",
       "      <td>7204</td>\n",
       "      <td>NaN</td>\n",
       "      <td>0</td>\n",
       "      <td>45.0</td>\n",
       "      <td>9</td>\n",
       "      <td>instock</td>\n",
       "      <td>NaN</td>\n",
       "      <td>NaN</td>\n",
       "      <td>NaN</td>\n",
       "      <td>NaN</td>\n",
       "      <td>...</td>\n",
       "      <td>NaT</td>\n",
       "      <td>NaT</td>\n",
       "      <td>NaN</td>\n",
       "      <td>NaN</td>\n",
       "      <td>NaN</td>\n",
       "      <td>NaN</td>\n",
       "      <td>NaN</td>\n",
       "      <td>NaN</td>\n",
       "      <td>NaN</td>\n",
       "      <td>left_only</td>\n",
       "    </tr>\n",
       "    <tr>\n",
       "      <th>823</th>\n",
       "      <td>7329</td>\n",
       "      <td>14680-1</td>\n",
       "      <td>0</td>\n",
       "      <td>26.5</td>\n",
       "      <td>14</td>\n",
       "      <td>instock</td>\n",
       "      <td>NaN</td>\n",
       "      <td>NaN</td>\n",
       "      <td>NaN</td>\n",
       "      <td>NaN</td>\n",
       "      <td>...</td>\n",
       "      <td>NaT</td>\n",
       "      <td>NaT</td>\n",
       "      <td>NaN</td>\n",
       "      <td>NaN</td>\n",
       "      <td>NaN</td>\n",
       "      <td>NaN</td>\n",
       "      <td>NaN</td>\n",
       "      <td>NaN</td>\n",
       "      <td>NaN</td>\n",
       "      <td>left_only</td>\n",
       "    </tr>\n",
       "  </tbody>\n",
       "</table>\n",
       "<p>111 rows × 34 columns</p>\n",
       "</div>"
      ],
      "text/plain": [
       "     product_id   id_web  onsale_web  price  stock_quantity stock_status  \\\n",
       "19         4055      NaN           0   86.1               0   outofstock   \n",
       "49         4090      NaN           0   73.0               0   outofstock   \n",
       "50         4092      NaN           0   47.0               0   outofstock   \n",
       "119        4195      NaN           0   14.1               0   outofstock   \n",
       "131        4209      NaN           0   73.5               0   outofstock   \n",
       "..          ...      ...         ...    ...             ...          ...   \n",
       "818        7200      NaN           0   31.0               6      instock   \n",
       "819        7201      NaN           0   31.0              18      instock   \n",
       "820        7203      NaN           0   45.0              30      instock   \n",
       "821        7204      NaN           0   45.0               9      instock   \n",
       "823        7329  14680-1           0   26.5              14      instock   \n",
       "\n",
       "     virtual  downloadable  rating_count  average_rating  ...  post_modified  \\\n",
       "19       NaN           NaN           NaN             NaN  ...            NaT   \n",
       "49       NaN           NaN           NaN             NaN  ...            NaT   \n",
       "50       NaN           NaN           NaN             NaN  ...            NaT   \n",
       "119      NaN           NaN           NaN             NaN  ...            NaT   \n",
       "131      NaN           NaN           NaN             NaN  ...            NaT   \n",
       "..       ...           ...           ...             ...  ...            ...   \n",
       "818      NaN           NaN           NaN             NaN  ...            NaT   \n",
       "819      NaN           NaN           NaN             NaN  ...            NaT   \n",
       "820      NaN           NaN           NaN             NaN  ...            NaT   \n",
       "821      NaN           NaN           NaN             NaN  ...            NaT   \n",
       "823      NaN           NaN           NaN             NaN  ...            NaT   \n",
       "\n",
       "    post_modified_gmt  post_content_filtered  post_parent guid menu_order  \\\n",
       "19                NaT                    NaN          NaN  NaN        NaN   \n",
       "49                NaT                    NaN          NaN  NaN        NaN   \n",
       "50                NaT                    NaN          NaN  NaN        NaN   \n",
       "119               NaT                    NaN          NaN  NaN        NaN   \n",
       "131               NaT                    NaN          NaN  NaN        NaN   \n",
       "..                ...                    ...          ...  ...        ...   \n",
       "818               NaT                    NaN          NaN  NaN        NaN   \n",
       "819               NaT                    NaN          NaN  NaN        NaN   \n",
       "820               NaT                    NaN          NaN  NaN        NaN   \n",
       "821               NaT                    NaN          NaN  NaN        NaN   \n",
       "823               NaT                    NaN          NaN  NaN        NaN   \n",
       "\n",
       "     post_type post_mime_type comment_count     _merge  \n",
       "19         NaN            NaN           NaN  left_only  \n",
       "49         NaN            NaN           NaN  left_only  \n",
       "50         NaN            NaN           NaN  left_only  \n",
       "119        NaN            NaN           NaN  left_only  \n",
       "131        NaN            NaN           NaN  left_only  \n",
       "..         ...            ...           ...        ...  \n",
       "818        NaN            NaN           NaN  left_only  \n",
       "819        NaN            NaN           NaN  left_only  \n",
       "820        NaN            NaN           NaN  left_only  \n",
       "821        NaN            NaN           NaN  left_only  \n",
       "823        NaN            NaN           NaN  left_only  \n",
       "\n",
       "[111 rows x 34 columns]"
      ]
     },
     "execution_count": 152,
     "metadata": {},
     "output_type": "execute_result"
    }
   ],
   "source": [
    "# Création d'un df avec les 111 valeurs afin de les analyser\n",
    "left_only  = df_final_left[df_final_left['_merge']=='left_only']\n",
    "left_only"
   ]
  },
  {
   "cell_type": "code",
   "execution_count": 153,
   "id": "2bc4ffa1",
   "metadata": {},
   "outputs": [
    {
     "data": {
      "text/html": [
       "<div>\n",
       "<style scoped>\n",
       "    .dataframe tbody tr th:only-of-type {\n",
       "        vertical-align: middle;\n",
       "    }\n",
       "\n",
       "    .dataframe tbody tr th {\n",
       "        vertical-align: top;\n",
       "    }\n",
       "\n",
       "    .dataframe thead th {\n",
       "        text-align: right;\n",
       "    }\n",
       "</style>\n",
       "<table border=\"1\" class=\"dataframe\">\n",
       "  <thead>\n",
       "    <tr style=\"text-align: right;\">\n",
       "      <th></th>\n",
       "      <th>product_id</th>\n",
       "      <th>id_web</th>\n",
       "      <th>onsale_web</th>\n",
       "      <th>price</th>\n",
       "      <th>stock_quantity</th>\n",
       "      <th>stock_status</th>\n",
       "      <th>virtual</th>\n",
       "      <th>downloadable</th>\n",
       "      <th>rating_count</th>\n",
       "      <th>average_rating</th>\n",
       "      <th>...</th>\n",
       "      <th>post_modified</th>\n",
       "      <th>post_modified_gmt</th>\n",
       "      <th>post_content_filtered</th>\n",
       "      <th>post_parent</th>\n",
       "      <th>guid</th>\n",
       "      <th>menu_order</th>\n",
       "      <th>post_type</th>\n",
       "      <th>post_mime_type</th>\n",
       "      <th>comment_count</th>\n",
       "      <th>_merge</th>\n",
       "    </tr>\n",
       "  </thead>\n",
       "  <tbody>\n",
       "    <tr>\n",
       "      <th>193</th>\n",
       "      <td>4289</td>\n",
       "      <td>13771</td>\n",
       "      <td>0</td>\n",
       "      <td>22.8</td>\n",
       "      <td>0</td>\n",
       "      <td>outofstock</td>\n",
       "      <td>NaN</td>\n",
       "      <td>NaN</td>\n",
       "      <td>NaN</td>\n",
       "      <td>NaN</td>\n",
       "      <td>...</td>\n",
       "      <td>NaT</td>\n",
       "      <td>NaT</td>\n",
       "      <td>NaN</td>\n",
       "      <td>NaN</td>\n",
       "      <td>NaN</td>\n",
       "      <td>NaN</td>\n",
       "      <td>NaN</td>\n",
       "      <td>NaN</td>\n",
       "      <td>NaN</td>\n",
       "      <td>left_only</td>\n",
       "    </tr>\n",
       "    <tr>\n",
       "      <th>236</th>\n",
       "      <td>4568</td>\n",
       "      <td>15065</td>\n",
       "      <td>0</td>\n",
       "      <td>21.5</td>\n",
       "      <td>0</td>\n",
       "      <td>outofstock</td>\n",
       "      <td>NaN</td>\n",
       "      <td>NaN</td>\n",
       "      <td>NaN</td>\n",
       "      <td>NaN</td>\n",
       "      <td>...</td>\n",
       "      <td>NaT</td>\n",
       "      <td>NaT</td>\n",
       "      <td>NaN</td>\n",
       "      <td>NaN</td>\n",
       "      <td>NaN</td>\n",
       "      <td>NaN</td>\n",
       "      <td>NaN</td>\n",
       "      <td>NaN</td>\n",
       "      <td>NaN</td>\n",
       "      <td>left_only</td>\n",
       "    </tr>\n",
       "    <tr>\n",
       "      <th>241</th>\n",
       "      <td>4584</td>\n",
       "      <td>14785</td>\n",
       "      <td>0</td>\n",
       "      <td>32.3</td>\n",
       "      <td>0</td>\n",
       "      <td>outofstock</td>\n",
       "      <td>NaN</td>\n",
       "      <td>NaN</td>\n",
       "      <td>NaN</td>\n",
       "      <td>NaN</td>\n",
       "      <td>...</td>\n",
       "      <td>NaT</td>\n",
       "      <td>NaT</td>\n",
       "      <td>NaN</td>\n",
       "      <td>NaN</td>\n",
       "      <td>NaN</td>\n",
       "      <td>NaN</td>\n",
       "      <td>NaN</td>\n",
       "      <td>NaN</td>\n",
       "      <td>NaN</td>\n",
       "      <td>left_only</td>\n",
       "    </tr>\n",
       "    <tr>\n",
       "      <th>355</th>\n",
       "      <td>4741</td>\n",
       "      <td>12601</td>\n",
       "      <td>0</td>\n",
       "      <td>12.4</td>\n",
       "      <td>0</td>\n",
       "      <td>outofstock</td>\n",
       "      <td>NaN</td>\n",
       "      <td>NaN</td>\n",
       "      <td>NaN</td>\n",
       "      <td>NaN</td>\n",
       "      <td>...</td>\n",
       "      <td>NaT</td>\n",
       "      <td>NaT</td>\n",
       "      <td>NaN</td>\n",
       "      <td>NaN</td>\n",
       "      <td>NaN</td>\n",
       "      <td>NaN</td>\n",
       "      <td>NaN</td>\n",
       "      <td>NaN</td>\n",
       "      <td>NaN</td>\n",
       "      <td>left_only</td>\n",
       "    </tr>\n",
       "    <tr>\n",
       "      <th>391</th>\n",
       "      <td>4864</td>\n",
       "      <td>15154</td>\n",
       "      <td>0</td>\n",
       "      <td>8.3</td>\n",
       "      <td>0</td>\n",
       "      <td>outofstock</td>\n",
       "      <td>NaN</td>\n",
       "      <td>NaN</td>\n",
       "      <td>NaN</td>\n",
       "      <td>NaN</td>\n",
       "      <td>...</td>\n",
       "      <td>NaT</td>\n",
       "      <td>NaT</td>\n",
       "      <td>NaN</td>\n",
       "      <td>NaN</td>\n",
       "      <td>NaN</td>\n",
       "      <td>NaN</td>\n",
       "      <td>NaN</td>\n",
       "      <td>NaN</td>\n",
       "      <td>NaN</td>\n",
       "      <td>left_only</td>\n",
       "    </tr>\n",
       "    <tr>\n",
       "      <th>394</th>\n",
       "      <td>4869</td>\n",
       "      <td>14360</td>\n",
       "      <td>0</td>\n",
       "      <td>17.2</td>\n",
       "      <td>0</td>\n",
       "      <td>outofstock</td>\n",
       "      <td>NaN</td>\n",
       "      <td>NaN</td>\n",
       "      <td>NaN</td>\n",
       "      <td>NaN</td>\n",
       "      <td>...</td>\n",
       "      <td>NaT</td>\n",
       "      <td>NaT</td>\n",
       "      <td>NaN</td>\n",
       "      <td>NaN</td>\n",
       "      <td>NaN</td>\n",
       "      <td>NaN</td>\n",
       "      <td>NaN</td>\n",
       "      <td>NaN</td>\n",
       "      <td>NaN</td>\n",
       "      <td>left_only</td>\n",
       "    </tr>\n",
       "    <tr>\n",
       "      <th>424</th>\n",
       "      <td>4921</td>\n",
       "      <td>15608</td>\n",
       "      <td>0</td>\n",
       "      <td>13.8</td>\n",
       "      <td>0</td>\n",
       "      <td>outofstock</td>\n",
       "      <td>NaN</td>\n",
       "      <td>NaN</td>\n",
       "      <td>NaN</td>\n",
       "      <td>NaN</td>\n",
       "      <td>...</td>\n",
       "      <td>NaT</td>\n",
       "      <td>NaT</td>\n",
       "      <td>NaN</td>\n",
       "      <td>NaN</td>\n",
       "      <td>NaN</td>\n",
       "      <td>NaN</td>\n",
       "      <td>NaN</td>\n",
       "      <td>NaN</td>\n",
       "      <td>NaN</td>\n",
       "      <td>left_only</td>\n",
       "    </tr>\n",
       "    <tr>\n",
       "      <th>425</th>\n",
       "      <td>4922</td>\n",
       "      <td>15586</td>\n",
       "      <td>0</td>\n",
       "      <td>21.5</td>\n",
       "      <td>0</td>\n",
       "      <td>outofstock</td>\n",
       "      <td>NaN</td>\n",
       "      <td>NaN</td>\n",
       "      <td>NaN</td>\n",
       "      <td>NaN</td>\n",
       "      <td>...</td>\n",
       "      <td>NaT</td>\n",
       "      <td>NaT</td>\n",
       "      <td>NaN</td>\n",
       "      <td>NaN</td>\n",
       "      <td>NaN</td>\n",
       "      <td>NaN</td>\n",
       "      <td>NaN</td>\n",
       "      <td>NaN</td>\n",
       "      <td>NaN</td>\n",
       "      <td>left_only</td>\n",
       "    </tr>\n",
       "    <tr>\n",
       "      <th>470</th>\n",
       "      <td>5018</td>\n",
       "      <td>15272</td>\n",
       "      <td>0</td>\n",
       "      <td>15.4</td>\n",
       "      <td>0</td>\n",
       "      <td>outofstock</td>\n",
       "      <td>NaN</td>\n",
       "      <td>NaN</td>\n",
       "      <td>NaN</td>\n",
       "      <td>NaN</td>\n",
       "      <td>...</td>\n",
       "      <td>NaT</td>\n",
       "      <td>NaT</td>\n",
       "      <td>NaN</td>\n",
       "      <td>NaN</td>\n",
       "      <td>NaN</td>\n",
       "      <td>NaN</td>\n",
       "      <td>NaN</td>\n",
       "      <td>NaN</td>\n",
       "      <td>NaN</td>\n",
       "      <td>left_only</td>\n",
       "    </tr>\n",
       "    <tr>\n",
       "      <th>473</th>\n",
       "      <td>5021</td>\n",
       "      <td>15630</td>\n",
       "      <td>0</td>\n",
       "      <td>17.1</td>\n",
       "      <td>0</td>\n",
       "      <td>outofstock</td>\n",
       "      <td>NaN</td>\n",
       "      <td>NaN</td>\n",
       "      <td>NaN</td>\n",
       "      <td>NaN</td>\n",
       "      <td>...</td>\n",
       "      <td>NaT</td>\n",
       "      <td>NaT</td>\n",
       "      <td>NaN</td>\n",
       "      <td>NaN</td>\n",
       "      <td>NaN</td>\n",
       "      <td>NaN</td>\n",
       "      <td>NaN</td>\n",
       "      <td>NaN</td>\n",
       "      <td>NaN</td>\n",
       "      <td>left_only</td>\n",
       "    </tr>\n",
       "    <tr>\n",
       "      <th>523</th>\n",
       "      <td>5505</td>\n",
       "      <td>14648</td>\n",
       "      <td>0</td>\n",
       "      <td>10.1</td>\n",
       "      <td>0</td>\n",
       "      <td>outofstock</td>\n",
       "      <td>NaN</td>\n",
       "      <td>NaN</td>\n",
       "      <td>NaN</td>\n",
       "      <td>NaN</td>\n",
       "      <td>...</td>\n",
       "      <td>NaT</td>\n",
       "      <td>NaT</td>\n",
       "      <td>NaN</td>\n",
       "      <td>NaN</td>\n",
       "      <td>NaN</td>\n",
       "      <td>NaN</td>\n",
       "      <td>NaN</td>\n",
       "      <td>NaN</td>\n",
       "      <td>NaN</td>\n",
       "      <td>left_only</td>\n",
       "    </tr>\n",
       "    <tr>\n",
       "      <th>540</th>\n",
       "      <td>5559</td>\n",
       "      <td>14715</td>\n",
       "      <td>0</td>\n",
       "      <td>27.9</td>\n",
       "      <td>3</td>\n",
       "      <td>instock</td>\n",
       "      <td>NaN</td>\n",
       "      <td>NaN</td>\n",
       "      <td>NaN</td>\n",
       "      <td>NaN</td>\n",
       "      <td>...</td>\n",
       "      <td>NaT</td>\n",
       "      <td>NaT</td>\n",
       "      <td>NaN</td>\n",
       "      <td>NaN</td>\n",
       "      <td>NaN</td>\n",
       "      <td>NaN</td>\n",
       "      <td>NaN</td>\n",
       "      <td>NaN</td>\n",
       "      <td>NaN</td>\n",
       "      <td>left_only</td>\n",
       "    </tr>\n",
       "    <tr>\n",
       "      <th>548</th>\n",
       "      <td>5570</td>\n",
       "      <td>14730</td>\n",
       "      <td>0</td>\n",
       "      <td>22.5</td>\n",
       "      <td>0</td>\n",
       "      <td>outofstock</td>\n",
       "      <td>NaN</td>\n",
       "      <td>NaN</td>\n",
       "      <td>NaN</td>\n",
       "      <td>NaN</td>\n",
       "      <td>...</td>\n",
       "      <td>NaT</td>\n",
       "      <td>NaT</td>\n",
       "      <td>NaN</td>\n",
       "      <td>NaN</td>\n",
       "      <td>NaN</td>\n",
       "      <td>NaN</td>\n",
       "      <td>NaN</td>\n",
       "      <td>NaN</td>\n",
       "      <td>NaN</td>\n",
       "      <td>left_only</td>\n",
       "    </tr>\n",
       "    <tr>\n",
       "      <th>613</th>\n",
       "      <td>5800</td>\n",
       "      <td>14689</td>\n",
       "      <td>0</td>\n",
       "      <td>32.3</td>\n",
       "      <td>0</td>\n",
       "      <td>outofstock</td>\n",
       "      <td>NaN</td>\n",
       "      <td>NaN</td>\n",
       "      <td>NaN</td>\n",
       "      <td>NaN</td>\n",
       "      <td>...</td>\n",
       "      <td>NaT</td>\n",
       "      <td>NaT</td>\n",
       "      <td>NaN</td>\n",
       "      <td>NaN</td>\n",
       "      <td>NaN</td>\n",
       "      <td>NaN</td>\n",
       "      <td>NaN</td>\n",
       "      <td>NaN</td>\n",
       "      <td>NaN</td>\n",
       "      <td>left_only</td>\n",
       "    </tr>\n",
       "    <tr>\n",
       "      <th>660</th>\n",
       "      <td>5953</td>\n",
       "      <td>14379</td>\n",
       "      <td>0</td>\n",
       "      <td>47.5</td>\n",
       "      <td>0</td>\n",
       "      <td>outofstock</td>\n",
       "      <td>NaN</td>\n",
       "      <td>NaN</td>\n",
       "      <td>NaN</td>\n",
       "      <td>NaN</td>\n",
       "      <td>...</td>\n",
       "      <td>NaT</td>\n",
       "      <td>NaT</td>\n",
       "      <td>NaN</td>\n",
       "      <td>NaN</td>\n",
       "      <td>NaN</td>\n",
       "      <td>NaN</td>\n",
       "      <td>NaN</td>\n",
       "      <td>NaN</td>\n",
       "      <td>NaN</td>\n",
       "      <td>left_only</td>\n",
       "    </tr>\n",
       "    <tr>\n",
       "      <th>661</th>\n",
       "      <td>5954</td>\n",
       "      <td>15609</td>\n",
       "      <td>0</td>\n",
       "      <td>18.8</td>\n",
       "      <td>0</td>\n",
       "      <td>outofstock</td>\n",
       "      <td>NaN</td>\n",
       "      <td>NaN</td>\n",
       "      <td>NaN</td>\n",
       "      <td>NaN</td>\n",
       "      <td>...</td>\n",
       "      <td>NaT</td>\n",
       "      <td>NaT</td>\n",
       "      <td>NaN</td>\n",
       "      <td>NaN</td>\n",
       "      <td>NaN</td>\n",
       "      <td>NaN</td>\n",
       "      <td>NaN</td>\n",
       "      <td>NaN</td>\n",
       "      <td>NaN</td>\n",
       "      <td>left_only</td>\n",
       "    </tr>\n",
       "    <tr>\n",
       "      <th>662</th>\n",
       "      <td>5955</td>\n",
       "      <td>14377</td>\n",
       "      <td>0</td>\n",
       "      <td>27.3</td>\n",
       "      <td>0</td>\n",
       "      <td>outofstock</td>\n",
       "      <td>NaN</td>\n",
       "      <td>NaN</td>\n",
       "      <td>NaN</td>\n",
       "      <td>NaN</td>\n",
       "      <td>...</td>\n",
       "      <td>NaT</td>\n",
       "      <td>NaT</td>\n",
       "      <td>NaN</td>\n",
       "      <td>NaN</td>\n",
       "      <td>NaN</td>\n",
       "      <td>NaN</td>\n",
       "      <td>NaN</td>\n",
       "      <td>NaN</td>\n",
       "      <td>NaN</td>\n",
       "      <td>left_only</td>\n",
       "    </tr>\n",
       "    <tr>\n",
       "      <th>664</th>\n",
       "      <td>5957</td>\n",
       "      <td>13577</td>\n",
       "      <td>0</td>\n",
       "      <td>39.0</td>\n",
       "      <td>0</td>\n",
       "      <td>outofstock</td>\n",
       "      <td>NaN</td>\n",
       "      <td>NaN</td>\n",
       "      <td>NaN</td>\n",
       "      <td>NaN</td>\n",
       "      <td>...</td>\n",
       "      <td>NaT</td>\n",
       "      <td>NaT</td>\n",
       "      <td>NaN</td>\n",
       "      <td>NaN</td>\n",
       "      <td>NaN</td>\n",
       "      <td>NaN</td>\n",
       "      <td>NaN</td>\n",
       "      <td>NaN</td>\n",
       "      <td>NaN</td>\n",
       "      <td>left_only</td>\n",
       "    </tr>\n",
       "    <tr>\n",
       "      <th>687</th>\n",
       "      <td>6100</td>\n",
       "      <td>15529</td>\n",
       "      <td>0</td>\n",
       "      <td>12.9</td>\n",
       "      <td>0</td>\n",
       "      <td>outofstock</td>\n",
       "      <td>NaN</td>\n",
       "      <td>NaN</td>\n",
       "      <td>NaN</td>\n",
       "      <td>NaN</td>\n",
       "      <td>...</td>\n",
       "      <td>NaT</td>\n",
       "      <td>NaT</td>\n",
       "      <td>NaN</td>\n",
       "      <td>NaN</td>\n",
       "      <td>NaN</td>\n",
       "      <td>NaN</td>\n",
       "      <td>NaN</td>\n",
       "      <td>NaN</td>\n",
       "      <td>NaN</td>\n",
       "      <td>left_only</td>\n",
       "    </tr>\n",
       "    <tr>\n",
       "      <th>823</th>\n",
       "      <td>7329</td>\n",
       "      <td>14680-1</td>\n",
       "      <td>0</td>\n",
       "      <td>26.5</td>\n",
       "      <td>14</td>\n",
       "      <td>instock</td>\n",
       "      <td>NaN</td>\n",
       "      <td>NaN</td>\n",
       "      <td>NaN</td>\n",
       "      <td>NaN</td>\n",
       "      <td>...</td>\n",
       "      <td>NaT</td>\n",
       "      <td>NaT</td>\n",
       "      <td>NaN</td>\n",
       "      <td>NaN</td>\n",
       "      <td>NaN</td>\n",
       "      <td>NaN</td>\n",
       "      <td>NaN</td>\n",
       "      <td>NaN</td>\n",
       "      <td>NaN</td>\n",
       "      <td>left_only</td>\n",
       "    </tr>\n",
       "  </tbody>\n",
       "</table>\n",
       "<p>20 rows × 34 columns</p>\n",
       "</div>"
      ],
      "text/plain": [
       "     product_id   id_web  onsale_web  price  stock_quantity stock_status  \\\n",
       "193        4289    13771           0   22.8               0   outofstock   \n",
       "236        4568    15065           0   21.5               0   outofstock   \n",
       "241        4584    14785           0   32.3               0   outofstock   \n",
       "355        4741    12601           0   12.4               0   outofstock   \n",
       "391        4864    15154           0    8.3               0   outofstock   \n",
       "394        4869    14360           0   17.2               0   outofstock   \n",
       "424        4921    15608           0   13.8               0   outofstock   \n",
       "425        4922    15586           0   21.5               0   outofstock   \n",
       "470        5018    15272           0   15.4               0   outofstock   \n",
       "473        5021    15630           0   17.1               0   outofstock   \n",
       "523        5505    14648           0   10.1               0   outofstock   \n",
       "540        5559    14715           0   27.9               3      instock   \n",
       "548        5570    14730           0   22.5               0   outofstock   \n",
       "613        5800    14689           0   32.3               0   outofstock   \n",
       "660        5953    14379           0   47.5               0   outofstock   \n",
       "661        5954    15609           0   18.8               0   outofstock   \n",
       "662        5955    14377           0   27.3               0   outofstock   \n",
       "664        5957    13577           0   39.0               0   outofstock   \n",
       "687        6100    15529           0   12.9               0   outofstock   \n",
       "823        7329  14680-1           0   26.5              14      instock   \n",
       "\n",
       "     virtual  downloadable  rating_count  average_rating  ...  post_modified  \\\n",
       "193      NaN           NaN           NaN             NaN  ...            NaT   \n",
       "236      NaN           NaN           NaN             NaN  ...            NaT   \n",
       "241      NaN           NaN           NaN             NaN  ...            NaT   \n",
       "355      NaN           NaN           NaN             NaN  ...            NaT   \n",
       "391      NaN           NaN           NaN             NaN  ...            NaT   \n",
       "394      NaN           NaN           NaN             NaN  ...            NaT   \n",
       "424      NaN           NaN           NaN             NaN  ...            NaT   \n",
       "425      NaN           NaN           NaN             NaN  ...            NaT   \n",
       "470      NaN           NaN           NaN             NaN  ...            NaT   \n",
       "473      NaN           NaN           NaN             NaN  ...            NaT   \n",
       "523      NaN           NaN           NaN             NaN  ...            NaT   \n",
       "540      NaN           NaN           NaN             NaN  ...            NaT   \n",
       "548      NaN           NaN           NaN             NaN  ...            NaT   \n",
       "613      NaN           NaN           NaN             NaN  ...            NaT   \n",
       "660      NaN           NaN           NaN             NaN  ...            NaT   \n",
       "661      NaN           NaN           NaN             NaN  ...            NaT   \n",
       "662      NaN           NaN           NaN             NaN  ...            NaT   \n",
       "664      NaN           NaN           NaN             NaN  ...            NaT   \n",
       "687      NaN           NaN           NaN             NaN  ...            NaT   \n",
       "823      NaN           NaN           NaN             NaN  ...            NaT   \n",
       "\n",
       "    post_modified_gmt  post_content_filtered  post_parent guid menu_order  \\\n",
       "193               NaT                    NaN          NaN  NaN        NaN   \n",
       "236               NaT                    NaN          NaN  NaN        NaN   \n",
       "241               NaT                    NaN          NaN  NaN        NaN   \n",
       "355               NaT                    NaN          NaN  NaN        NaN   \n",
       "391               NaT                    NaN          NaN  NaN        NaN   \n",
       "394               NaT                    NaN          NaN  NaN        NaN   \n",
       "424               NaT                    NaN          NaN  NaN        NaN   \n",
       "425               NaT                    NaN          NaN  NaN        NaN   \n",
       "470               NaT                    NaN          NaN  NaN        NaN   \n",
       "473               NaT                    NaN          NaN  NaN        NaN   \n",
       "523               NaT                    NaN          NaN  NaN        NaN   \n",
       "540               NaT                    NaN          NaN  NaN        NaN   \n",
       "548               NaT                    NaN          NaN  NaN        NaN   \n",
       "613               NaT                    NaN          NaN  NaN        NaN   \n",
       "660               NaT                    NaN          NaN  NaN        NaN   \n",
       "661               NaT                    NaN          NaN  NaN        NaN   \n",
       "662               NaT                    NaN          NaN  NaN        NaN   \n",
       "664               NaT                    NaN          NaN  NaN        NaN   \n",
       "687               NaT                    NaN          NaN  NaN        NaN   \n",
       "823               NaT                    NaN          NaN  NaN        NaN   \n",
       "\n",
       "     post_type post_mime_type comment_count     _merge  \n",
       "193        NaN            NaN           NaN  left_only  \n",
       "236        NaN            NaN           NaN  left_only  \n",
       "241        NaN            NaN           NaN  left_only  \n",
       "355        NaN            NaN           NaN  left_only  \n",
       "391        NaN            NaN           NaN  left_only  \n",
       "394        NaN            NaN           NaN  left_only  \n",
       "424        NaN            NaN           NaN  left_only  \n",
       "425        NaN            NaN           NaN  left_only  \n",
       "470        NaN            NaN           NaN  left_only  \n",
       "473        NaN            NaN           NaN  left_only  \n",
       "523        NaN            NaN           NaN  left_only  \n",
       "540        NaN            NaN           NaN  left_only  \n",
       "548        NaN            NaN           NaN  left_only  \n",
       "613        NaN            NaN           NaN  left_only  \n",
       "660        NaN            NaN           NaN  left_only  \n",
       "661        NaN            NaN           NaN  left_only  \n",
       "662        NaN            NaN           NaN  left_only  \n",
       "664        NaN            NaN           NaN  left_only  \n",
       "687        NaN            NaN           NaN  left_only  \n",
       "823        NaN            NaN           NaN  left_only  \n",
       "\n",
       "[20 rows x 34 columns]"
      ]
     },
     "execution_count": 153,
     "metadata": {},
     "output_type": "execute_result"
    }
   ],
   "source": [
    "# Sur les 111 valeurs, nous trouvons des NaN dans la colonne id_web. D'où la non-correspondance. Mais y a t-il que des NaN ?\n",
    "left_only[left_only['id_web'].notnull()]"
   ]
  },
  {
   "cell_type": "markdown",
   "id": "9ca742c7",
   "metadata": {},
   "source": [
    "En réalisant une jointure ***outer***, ***inner*** ou ***left***, nous constatons que les 825 lignes ne correspondent pas entre les df. \n",
    "Seules 714 lignes correspondent et 111 lignes correspondent uniquement à gauche.\n",
    "\n",
    "A quoi correspondent ces 111 données ?\n",
    "\n",
    "Sur ces 111 données, 91 données ont un id_web null, elles ne peuvent donc pas corréler avec les valeurs de l'autre df.\n",
    "\n",
    "Les 20 autres données ont un id_web mais ne correpondent pas au product_id.\n",
    "\n",
    "Que faire :\n",
    "\n",
    "> - Comme précedemment, se rapprocher des collègues en charge du référencement et obtenir si possible les informations nécessaires.\n",
    "> - Si pas d'informations à apporter au df, réaliser la jointure à droite qui prendra en compte uniquement les 714 valeurs qui correpondent dans les 2 df."
   ]
  },
  {
   "cell_type": "markdown",
   "id": "ff7de497",
   "metadata": {},
   "source": [
    "> RIGHT"
   ]
  },
  {
   "cell_type": "code",
   "execution_count": 154,
   "id": "c1520b9e",
   "metadata": {},
   "outputs": [
    {
     "data": {
      "text/plain": [
       "both          714\n",
       "left_only       0\n",
       "right_only      0\n",
       "Name: _merge, dtype: int64"
      ]
     },
     "execution_count": 154,
     "metadata": {},
     "output_type": "execute_result"
    }
   ],
   "source": [
    "df_final_right = pd.merge(merge_1, web_clean, how = 'right', on = 'id_web', indicator = True)\n",
    "df_final_right['_merge'].value_counts()"
   ]
  },
  {
   "cell_type": "code",
   "execution_count": 155,
   "id": "2a13584b",
   "metadata": {},
   "outputs": [
    {
     "data": {
      "text/plain": [
       "(714, 34)"
      ]
     },
     "execution_count": 155,
     "metadata": {},
     "output_type": "execute_result"
    }
   ],
   "source": [
    "df_final = pd.merge(merge_1, web_clean, how = 'right', on = 'id_web', indicator = True)\n",
    "df_final.shape"
   ]
  },
  {
   "cell_type": "code",
   "execution_count": 156,
   "id": "4a4f5417",
   "metadata": {},
   "outputs": [
    {
     "name": "stdout",
     "output_type": "stream",
     "text": [
      "<class 'pandas.core.frame.DataFrame'>\n",
      "Int64Index: 714 entries, 0 to 713\n",
      "Data columns (total 34 columns):\n",
      " #   Column                 Non-Null Count  Dtype         \n",
      "---  ------                 --------------  -----         \n",
      " 0   product_id             714 non-null    int64         \n",
      " 1   id_web                 714 non-null    object        \n",
      " 2   onsale_web             714 non-null    int64         \n",
      " 3   price                  714 non-null    float64       \n",
      " 4   stock_quantity         714 non-null    int64         \n",
      " 5   stock_status           714 non-null    object        \n",
      " 6   virtual                714 non-null    int64         \n",
      " 7   downloadable           714 non-null    int64         \n",
      " 8   rating_count           714 non-null    int64         \n",
      " 9   average_rating         714 non-null    float64       \n",
      " 10  total_sales            714 non-null    float64       \n",
      " 11  tax_status             714 non-null    object        \n",
      " 12  tax_class              0 non-null      float64       \n",
      " 13  post_author            714 non-null    float64       \n",
      " 14  post_date              714 non-null    datetime64[ns]\n",
      " 15  post_date_gmt          714 non-null    datetime64[ns]\n",
      " 16  post_content           0 non-null      float64       \n",
      " 17  post_title             714 non-null    object        \n",
      " 18  post_excerpt           714 non-null    object        \n",
      " 19  post_status            714 non-null    object        \n",
      " 20  comment_status         714 non-null    object        \n",
      " 21  ping_status            714 non-null    object        \n",
      " 22  post_password          0 non-null      float64       \n",
      " 23  post_name              714 non-null    object        \n",
      " 24  post_modified          714 non-null    datetime64[ns]\n",
      " 25  post_modified_gmt      714 non-null    datetime64[ns]\n",
      " 26  post_content_filtered  0 non-null      float64       \n",
      " 27  post_parent            714 non-null    float64       \n",
      " 28  guid                   714 non-null    object        \n",
      " 29  menu_order             714 non-null    float64       \n",
      " 30  post_type              714 non-null    object        \n",
      " 31  post_mime_type         0 non-null      object        \n",
      " 32  comment_count          714 non-null    float64       \n",
      " 33  _merge                 714 non-null    category      \n",
      "dtypes: category(1), datetime64[ns](4), float64(11), int64(6), object(12)\n",
      "memory usage: 190.5+ KB\n"
     ]
    }
   ],
   "source": [
    "df_final.info()"
   ]
  },
  {
   "cell_type": "code",
   "execution_count": 157,
   "id": "f5355bf9",
   "metadata": {},
   "outputs": [
    {
     "name": "stdout",
     "output_type": "stream",
     "text": [
      "product_id                 0\n",
      "id_web                     0\n",
      "onsale_web                 0\n",
      "price                      0\n",
      "stock_quantity             0\n",
      "stock_status               0\n",
      "virtual                    0\n",
      "downloadable               0\n",
      "rating_count               0\n",
      "average_rating             0\n",
      "total_sales                0\n",
      "tax_status                 0\n",
      "tax_class                714\n",
      "post_author                0\n",
      "post_date                  0\n",
      "post_date_gmt              0\n",
      "post_content             714\n",
      "post_title                 0\n",
      "post_excerpt               0\n",
      "post_status                0\n",
      "comment_status             0\n",
      "ping_status                0\n",
      "post_password            714\n",
      "post_name                  0\n",
      "post_modified              0\n",
      "post_modified_gmt          0\n",
      "post_content_filtered    714\n",
      "post_parent                0\n",
      "guid                       0\n",
      "menu_order                 0\n",
      "post_type                  0\n",
      "post_mime_type           714\n",
      "comment_count              0\n",
      "_merge                     0\n",
      "dtype: int64\n"
     ]
    }
   ],
   "source": [
    "print(df_final.apply(num_missing))"
   ]
  },
  {
   "cell_type": "code",
   "execution_count": 158,
   "id": "9c259722",
   "metadata": {},
   "outputs": [
    {
     "name": "stdout",
     "output_type": "stream",
     "text": [
      "product_id                 0\n",
      "id_web                     0\n",
      "onsale_web               713\n",
      "price                    352\n",
      "stock_quantity           588\n",
      "stock_status             712\n",
      "virtual                  713\n",
      "downloadable             713\n",
      "rating_count             713\n",
      "average_rating           713\n",
      "total_sales              673\n",
      "tax_status               713\n",
      "tax_class                713\n",
      "post_author              712\n",
      "post_date                  0\n",
      "post_date_gmt              0\n",
      "post_content             713\n",
      "post_title                 3\n",
      "post_excerpt              37\n",
      "post_status              713\n",
      "comment_status           713\n",
      "ping_status              713\n",
      "post_password            713\n",
      "post_name                  0\n",
      "post_modified            127\n",
      "post_modified_gmt        127\n",
      "post_content_filtered    713\n",
      "post_parent              713\n",
      "guid                       0\n",
      "menu_order               713\n",
      "post_type                713\n",
      "post_mime_type           713\n",
      "comment_count            713\n",
      "_merge                   713\n",
      "dtype: int64\n"
     ]
    }
   ],
   "source": [
    "print(df_final.apply(nb_occurences))"
   ]
  },
  {
   "cell_type": "code",
   "execution_count": 159,
   "id": "ccac6f85",
   "metadata": {},
   "outputs": [
    {
     "name": "stdout",
     "output_type": "stream",
     "text": [
      "La clé est unique.\n"
     ]
    }
   ],
   "source": [
    "x = df_final.product_id\n",
    "unicite_cle(x)"
   ]
  },
  {
   "cell_type": "code",
   "execution_count": 160,
   "id": "1393a0e2",
   "metadata": {},
   "outputs": [
    {
     "name": "stdout",
     "output_type": "stream",
     "text": [
      "La clé est unique.\n"
     ]
    }
   ],
   "source": [
    "x = df_final.id_web\n",
    "unicite_cle(x)"
   ]
  },
  {
   "cell_type": "markdown",
   "id": "ab2e964a",
   "metadata": {},
   "source": [
    "# CALCUL DU CA PAR PRODUIT ET TOTAL\n"
   ]
  },
  {
   "cell_type": "code",
   "execution_count": 161,
   "id": "6586709b",
   "metadata": {},
   "outputs": [
    {
     "data": {
      "text/html": [
       "<div>\n",
       "<style scoped>\n",
       "    .dataframe tbody tr th:only-of-type {\n",
       "        vertical-align: middle;\n",
       "    }\n",
       "\n",
       "    .dataframe tbody tr th {\n",
       "        vertical-align: top;\n",
       "    }\n",
       "\n",
       "    .dataframe thead th {\n",
       "        text-align: right;\n",
       "    }\n",
       "</style>\n",
       "<table border=\"1\" class=\"dataframe\">\n",
       "  <thead>\n",
       "    <tr style=\"text-align: right;\">\n",
       "      <th></th>\n",
       "      <th>product_id</th>\n",
       "      <th>id_web</th>\n",
       "      <th>onsale_web</th>\n",
       "      <th>price</th>\n",
       "      <th>total_sales</th>\n",
       "    </tr>\n",
       "  </thead>\n",
       "  <tbody>\n",
       "    <tr>\n",
       "      <th>0</th>\n",
       "      <td>4954</td>\n",
       "      <td>bon-cadeau-25-euros</td>\n",
       "      <td>1</td>\n",
       "      <td>25.0</td>\n",
       "      <td>10.0</td>\n",
       "    </tr>\n",
       "    <tr>\n",
       "      <th>1</th>\n",
       "      <td>3847</td>\n",
       "      <td>15298</td>\n",
       "      <td>1</td>\n",
       "      <td>24.2</td>\n",
       "      <td>6.0</td>\n",
       "    </tr>\n",
       "    <tr>\n",
       "      <th>2</th>\n",
       "      <td>3849</td>\n",
       "      <td>15296</td>\n",
       "      <td>1</td>\n",
       "      <td>34.3</td>\n",
       "      <td>0.0</td>\n",
       "    </tr>\n",
       "    <tr>\n",
       "      <th>3</th>\n",
       "      <td>3850</td>\n",
       "      <td>15300</td>\n",
       "      <td>1</td>\n",
       "      <td>20.8</td>\n",
       "      <td>0.0</td>\n",
       "    </tr>\n",
       "    <tr>\n",
       "      <th>4</th>\n",
       "      <td>4032</td>\n",
       "      <td>19814</td>\n",
       "      <td>1</td>\n",
       "      <td>14.1</td>\n",
       "      <td>3.0</td>\n",
       "    </tr>\n",
       "  </tbody>\n",
       "</table>\n",
       "</div>"
      ],
      "text/plain": [
       "   product_id               id_web  onsale_web  price  total_sales\n",
       "0        4954  bon-cadeau-25-euros           1   25.0         10.0\n",
       "1        3847                15298           1   24.2          6.0\n",
       "2        3849                15296           1   34.3          0.0\n",
       "3        3850                15300           1   20.8          0.0\n",
       "4        4032                19814           1   14.1          3.0"
      ]
     },
     "execution_count": 161,
     "metadata": {},
     "output_type": "execute_result"
    }
   ],
   "source": [
    "df_ca = df_final[['product_id', 'id_web','onsale_web', 'price' ,'total_sales' ]]\n",
    "df_ca.head()"
   ]
  },
  {
   "cell_type": "markdown",
   "id": "ddd14f4a",
   "metadata": {},
   "source": [
    "### CA par produit"
   ]
  },
  {
   "cell_type": "code",
   "execution_count": 69,
   "id": "1e232442",
   "metadata": {},
   "outputs": [
    {
     "name": "stderr",
     "output_type": "stream",
     "text": [
      "C:\\Users\\BDS CREATIONS\\anaconda3\\lib\\site-packages\\pandas\\core\\indexing.py:1817: SettingWithCopyWarning: \n",
      "A value is trying to be set on a copy of a slice from a DataFrame.\n",
      "Try using .loc[row_indexer,col_indexer] = value instead\n",
      "\n",
      "See the caveats in the documentation: https://pandas.pydata.org/pandas-docs/stable/user_guide/indexing.html#returning-a-view-versus-a-copy\n",
      "  self._setitem_single_column(loc, value, pi)\n"
     ]
    },
    {
     "data": {
      "text/html": [
       "<div>\n",
       "<style scoped>\n",
       "    .dataframe tbody tr th:only-of-type {\n",
       "        vertical-align: middle;\n",
       "    }\n",
       "\n",
       "    .dataframe tbody tr th {\n",
       "        vertical-align: top;\n",
       "    }\n",
       "\n",
       "    .dataframe thead th {\n",
       "        text-align: right;\n",
       "    }\n",
       "</style>\n",
       "<table border=\"1\" class=\"dataframe\">\n",
       "  <thead>\n",
       "    <tr style=\"text-align: right;\">\n",
       "      <th></th>\n",
       "      <th>product_id</th>\n",
       "      <th>id_web</th>\n",
       "      <th>onsale_web</th>\n",
       "      <th>price</th>\n",
       "      <th>total_sales</th>\n",
       "      <th>ca_produit</th>\n",
       "    </tr>\n",
       "  </thead>\n",
       "  <tbody>\n",
       "    <tr>\n",
       "      <th>0</th>\n",
       "      <td>4954</td>\n",
       "      <td>bon-cadeau-25-euros</td>\n",
       "      <td>1</td>\n",
       "      <td>25.0</td>\n",
       "      <td>10.0</td>\n",
       "      <td>250.0</td>\n",
       "    </tr>\n",
       "    <tr>\n",
       "      <th>1</th>\n",
       "      <td>3847</td>\n",
       "      <td>15298</td>\n",
       "      <td>1</td>\n",
       "      <td>24.2</td>\n",
       "      <td>6.0</td>\n",
       "      <td>145.2</td>\n",
       "    </tr>\n",
       "    <tr>\n",
       "      <th>2</th>\n",
       "      <td>3849</td>\n",
       "      <td>15296</td>\n",
       "      <td>1</td>\n",
       "      <td>34.3</td>\n",
       "      <td>0.0</td>\n",
       "      <td>0.0</td>\n",
       "    </tr>\n",
       "    <tr>\n",
       "      <th>3</th>\n",
       "      <td>3850</td>\n",
       "      <td>15300</td>\n",
       "      <td>1</td>\n",
       "      <td>20.8</td>\n",
       "      <td>0.0</td>\n",
       "      <td>0.0</td>\n",
       "    </tr>\n",
       "    <tr>\n",
       "      <th>4</th>\n",
       "      <td>4032</td>\n",
       "      <td>19814</td>\n",
       "      <td>1</td>\n",
       "      <td>14.1</td>\n",
       "      <td>3.0</td>\n",
       "      <td>42.3</td>\n",
       "    </tr>\n",
       "    <tr>\n",
       "      <th>...</th>\n",
       "      <td>...</td>\n",
       "      <td>...</td>\n",
       "      <td>...</td>\n",
       "      <td>...</td>\n",
       "      <td>...</td>\n",
       "      <td>...</td>\n",
       "    </tr>\n",
       "    <tr>\n",
       "      <th>709</th>\n",
       "      <td>6930</td>\n",
       "      <td>16135</td>\n",
       "      <td>1</td>\n",
       "      <td>8.4</td>\n",
       "      <td>5.0</td>\n",
       "      <td>42.0</td>\n",
       "    </tr>\n",
       "    <tr>\n",
       "      <th>710</th>\n",
       "      <td>7023</td>\n",
       "      <td>15891</td>\n",
       "      <td>1</td>\n",
       "      <td>27.5</td>\n",
       "      <td>0.0</td>\n",
       "      <td>0.0</td>\n",
       "    </tr>\n",
       "    <tr>\n",
       "      <th>711</th>\n",
       "      <td>7025</td>\n",
       "      <td>15887</td>\n",
       "      <td>1</td>\n",
       "      <td>69.0</td>\n",
       "      <td>0.0</td>\n",
       "      <td>0.0</td>\n",
       "    </tr>\n",
       "    <tr>\n",
       "      <th>712</th>\n",
       "      <td>7247</td>\n",
       "      <td>13127-1</td>\n",
       "      <td>1</td>\n",
       "      <td>54.8</td>\n",
       "      <td>0.0</td>\n",
       "      <td>0.0</td>\n",
       "    </tr>\n",
       "    <tr>\n",
       "      <th>713</th>\n",
       "      <td>7338</td>\n",
       "      <td>16230</td>\n",
       "      <td>1</td>\n",
       "      <td>16.3</td>\n",
       "      <td>0.0</td>\n",
       "      <td>0.0</td>\n",
       "    </tr>\n",
       "  </tbody>\n",
       "</table>\n",
       "<p>714 rows × 6 columns</p>\n",
       "</div>"
      ],
      "text/plain": [
       "     product_id               id_web  onsale_web  price  total_sales  \\\n",
       "0          4954  bon-cadeau-25-euros           1   25.0         10.0   \n",
       "1          3847                15298           1   24.2          6.0   \n",
       "2          3849                15296           1   34.3          0.0   \n",
       "3          3850                15300           1   20.8          0.0   \n",
       "4          4032                19814           1   14.1          3.0   \n",
       "..          ...                  ...         ...    ...          ...   \n",
       "709        6930                16135           1    8.4          5.0   \n",
       "710        7023                15891           1   27.5          0.0   \n",
       "711        7025                15887           1   69.0          0.0   \n",
       "712        7247              13127-1           1   54.8          0.0   \n",
       "713        7338                16230           1   16.3          0.0   \n",
       "\n",
       "     ca_produit  \n",
       "0         250.0  \n",
       "1         145.2  \n",
       "2           0.0  \n",
       "3           0.0  \n",
       "4          42.3  \n",
       "..          ...  \n",
       "709        42.0  \n",
       "710         0.0  \n",
       "711         0.0  \n",
       "712         0.0  \n",
       "713         0.0  \n",
       "\n",
       "[714 rows x 6 columns]"
      ]
     },
     "execution_count": 69,
     "metadata": {},
     "output_type": "execute_result"
    }
   ],
   "source": [
    "# WAY 1\n",
    "\n",
    "for r, row in df_final.iterrows() : \n",
    "    df_ca.loc[r, 'ca_produit'] = (row['total_sales']*row['price'])\n",
    "df_ca"
   ]
  },
  {
   "cell_type": "code",
   "execution_count": 70,
   "id": "5c6c7106",
   "metadata": {},
   "outputs": [
    {
     "name": "stderr",
     "output_type": "stream",
     "text": [
      "C:\\Users\\BDSCRE~1\\AppData\\Local\\Temp/ipykernel_12772/3195074523.py:3: SettingWithCopyWarning: \n",
      "A value is trying to be set on a copy of a slice from a DataFrame.\n",
      "Try using .loc[row_indexer,col_indexer] = value instead\n",
      "\n",
      "See the caveats in the documentation: https://pandas.pydata.org/pandas-docs/stable/user_guide/indexing.html#returning-a-view-versus-a-copy\n",
      "  df_ca['ca_par_produit'] = df_ca['total_sales']*df_ca['price']\n"
     ]
    },
    {
     "data": {
      "text/html": [
       "<div>\n",
       "<style scoped>\n",
       "    .dataframe tbody tr th:only-of-type {\n",
       "        vertical-align: middle;\n",
       "    }\n",
       "\n",
       "    .dataframe tbody tr th {\n",
       "        vertical-align: top;\n",
       "    }\n",
       "\n",
       "    .dataframe thead th {\n",
       "        text-align: right;\n",
       "    }\n",
       "</style>\n",
       "<table border=\"1\" class=\"dataframe\">\n",
       "  <thead>\n",
       "    <tr style=\"text-align: right;\">\n",
       "      <th></th>\n",
       "      <th>product_id</th>\n",
       "      <th>id_web</th>\n",
       "      <th>onsale_web</th>\n",
       "      <th>price</th>\n",
       "      <th>total_sales</th>\n",
       "      <th>ca_produit</th>\n",
       "      <th>ca_par_produit</th>\n",
       "    </tr>\n",
       "  </thead>\n",
       "  <tbody>\n",
       "    <tr>\n",
       "      <th>0</th>\n",
       "      <td>4954</td>\n",
       "      <td>bon-cadeau-25-euros</td>\n",
       "      <td>1</td>\n",
       "      <td>25.0</td>\n",
       "      <td>10.0</td>\n",
       "      <td>250.0</td>\n",
       "      <td>250.0</td>\n",
       "    </tr>\n",
       "    <tr>\n",
       "      <th>1</th>\n",
       "      <td>3847</td>\n",
       "      <td>15298</td>\n",
       "      <td>1</td>\n",
       "      <td>24.2</td>\n",
       "      <td>6.0</td>\n",
       "      <td>145.2</td>\n",
       "      <td>145.2</td>\n",
       "    </tr>\n",
       "    <tr>\n",
       "      <th>2</th>\n",
       "      <td>3849</td>\n",
       "      <td>15296</td>\n",
       "      <td>1</td>\n",
       "      <td>34.3</td>\n",
       "      <td>0.0</td>\n",
       "      <td>0.0</td>\n",
       "      <td>0.0</td>\n",
       "    </tr>\n",
       "    <tr>\n",
       "      <th>3</th>\n",
       "      <td>3850</td>\n",
       "      <td>15300</td>\n",
       "      <td>1</td>\n",
       "      <td>20.8</td>\n",
       "      <td>0.0</td>\n",
       "      <td>0.0</td>\n",
       "      <td>0.0</td>\n",
       "    </tr>\n",
       "    <tr>\n",
       "      <th>4</th>\n",
       "      <td>4032</td>\n",
       "      <td>19814</td>\n",
       "      <td>1</td>\n",
       "      <td>14.1</td>\n",
       "      <td>3.0</td>\n",
       "      <td>42.3</td>\n",
       "      <td>42.3</td>\n",
       "    </tr>\n",
       "    <tr>\n",
       "      <th>...</th>\n",
       "      <td>...</td>\n",
       "      <td>...</td>\n",
       "      <td>...</td>\n",
       "      <td>...</td>\n",
       "      <td>...</td>\n",
       "      <td>...</td>\n",
       "      <td>...</td>\n",
       "    </tr>\n",
       "    <tr>\n",
       "      <th>709</th>\n",
       "      <td>6930</td>\n",
       "      <td>16135</td>\n",
       "      <td>1</td>\n",
       "      <td>8.4</td>\n",
       "      <td>5.0</td>\n",
       "      <td>42.0</td>\n",
       "      <td>42.0</td>\n",
       "    </tr>\n",
       "    <tr>\n",
       "      <th>710</th>\n",
       "      <td>7023</td>\n",
       "      <td>15891</td>\n",
       "      <td>1</td>\n",
       "      <td>27.5</td>\n",
       "      <td>0.0</td>\n",
       "      <td>0.0</td>\n",
       "      <td>0.0</td>\n",
       "    </tr>\n",
       "    <tr>\n",
       "      <th>711</th>\n",
       "      <td>7025</td>\n",
       "      <td>15887</td>\n",
       "      <td>1</td>\n",
       "      <td>69.0</td>\n",
       "      <td>0.0</td>\n",
       "      <td>0.0</td>\n",
       "      <td>0.0</td>\n",
       "    </tr>\n",
       "    <tr>\n",
       "      <th>712</th>\n",
       "      <td>7247</td>\n",
       "      <td>13127-1</td>\n",
       "      <td>1</td>\n",
       "      <td>54.8</td>\n",
       "      <td>0.0</td>\n",
       "      <td>0.0</td>\n",
       "      <td>0.0</td>\n",
       "    </tr>\n",
       "    <tr>\n",
       "      <th>713</th>\n",
       "      <td>7338</td>\n",
       "      <td>16230</td>\n",
       "      <td>1</td>\n",
       "      <td>16.3</td>\n",
       "      <td>0.0</td>\n",
       "      <td>0.0</td>\n",
       "      <td>0.0</td>\n",
       "    </tr>\n",
       "  </tbody>\n",
       "</table>\n",
       "<p>714 rows × 7 columns</p>\n",
       "</div>"
      ],
      "text/plain": [
       "     product_id               id_web  onsale_web  price  total_sales  \\\n",
       "0          4954  bon-cadeau-25-euros           1   25.0         10.0   \n",
       "1          3847                15298           1   24.2          6.0   \n",
       "2          3849                15296           1   34.3          0.0   \n",
       "3          3850                15300           1   20.8          0.0   \n",
       "4          4032                19814           1   14.1          3.0   \n",
       "..          ...                  ...         ...    ...          ...   \n",
       "709        6930                16135           1    8.4          5.0   \n",
       "710        7023                15891           1   27.5          0.0   \n",
       "711        7025                15887           1   69.0          0.0   \n",
       "712        7247              13127-1           1   54.8          0.0   \n",
       "713        7338                16230           1   16.3          0.0   \n",
       "\n",
       "     ca_produit  ca_par_produit  \n",
       "0         250.0           250.0  \n",
       "1         145.2           145.2  \n",
       "2           0.0             0.0  \n",
       "3           0.0             0.0  \n",
       "4          42.3            42.3  \n",
       "..          ...             ...  \n",
       "709        42.0            42.0  \n",
       "710         0.0             0.0  \n",
       "711         0.0             0.0  \n",
       "712         0.0             0.0  \n",
       "713         0.0             0.0  \n",
       "\n",
       "[714 rows x 7 columns]"
      ]
     },
     "execution_count": 70,
     "metadata": {},
     "output_type": "execute_result"
    }
   ],
   "source": [
    "# WAY 2 \n",
    "\n",
    "df_ca['ca_par_produit'] = df_ca['total_sales']*df_ca['price']\n",
    "df_ca"
   ]
  },
  {
   "cell_type": "markdown",
   "id": "8dc46b01",
   "metadata": {},
   "source": [
    "### CA TOTAL"
   ]
  },
  {
   "cell_type": "code",
   "execution_count": 71,
   "id": "8e25ad14",
   "metadata": {},
   "outputs": [
    {
     "data": {
      "text/plain": [
       "70568.6"
      ]
     },
     "execution_count": 71,
     "metadata": {},
     "output_type": "execute_result"
    }
   ],
   "source": [
    "total_ca = df_ca['ca_produit'].sum()\n",
    "total_ca"
   ]
  },
  {
   "cell_type": "markdown",
   "id": "544ba00b",
   "metadata": {},
   "source": [
    "Le chiffre d'affaires total est de ***70568.60 €***."
   ]
  },
  {
   "cell_type": "markdown",
   "id": "c1432b89",
   "metadata": {},
   "source": [
    "# MESURES DE TENDANCES CENTRALE"
   ]
  },
  {
   "cell_type": "markdown",
   "id": "bd1fc5de",
   "metadata": {},
   "source": [
    "## Le mode\n",
    "\n",
    "Un mode est une valeur ou un élément qui apparaît avec la fréquence la plus élevée."
   ]
  },
  {
   "cell_type": "code",
   "execution_count": 128,
   "id": "51268948",
   "metadata": {},
   "outputs": [
    {
     "data": {
      "text/plain": [
       "0    19.0\n",
       "dtype: float64"
      ]
     },
     "execution_count": 128,
     "metadata": {},
     "output_type": "execute_result"
    }
   ],
   "source": [
    "df_final['price'].mode()"
   ]
  },
  {
   "cell_type": "markdown",
   "id": "73a99828",
   "metadata": {},
   "source": [
    "Dans le champs 'price', la valeur la plus fréquente est 19€. "
   ]
  },
  {
   "cell_type": "markdown",
   "id": "00c6edb4",
   "metadata": {},
   "source": [
    "## La moyenne "
   ]
  },
  {
   "cell_type": "code",
   "execution_count": 129,
   "id": "ec403078",
   "metadata": {},
   "outputs": [
    {
     "name": "stdout",
     "output_type": "stream",
     "text": [
      "Une bouteille coûte en moyenne 32.49 euros\n"
     ]
    }
   ],
   "source": [
    "prix_moyen = round(df_final['price'].mean(),2)\n",
    "print('Une bouteille coûte en moyenne', (prix_moyen), 'euros')"
   ]
  },
  {
   "cell_type": "markdown",
   "id": "4d439629",
   "metadata": {},
   "source": [
    "## La médiane"
   ]
  },
  {
   "cell_type": "code",
   "execution_count": 74,
   "id": "e532952d",
   "metadata": {},
   "outputs": [
    {
     "name": "stdout",
     "output_type": "stream",
     "text": [
      "50% des prix des bouteilles sont inférieurs à  23.55 € et les autres 50% sont supérieurs à  23.55 €.\n"
     ]
    }
   ],
   "source": [
    "prix_median = df_final['price'].median()\n",
    "print ( '50% des prix des bouteilles sont inférieurs à ', (prix_median),'€ et les autres 50% sont supérieurs à ',\n",
    "       (prix_median),'€.')"
   ]
  },
  {
   "cell_type": "code",
   "execution_count": 75,
   "id": "47fe6b40",
   "metadata": {},
   "outputs": [],
   "source": [
    "## La médiane n'est pas sensible aux valeurs extrêmes contrairement à la moyenne."
   ]
  },
  {
   "cell_type": "code",
   "execution_count": 76,
   "id": "15e9dc18",
   "metadata": {},
   "outputs": [
    {
     "name": "stderr",
     "output_type": "stream",
     "text": [
      "C:\\Users\\BDS CREATIONS\\anaconda3\\lib\\site-packages\\seaborn\\distributions.py:2619: FutureWarning: `distplot` is a deprecated function and will be removed in a future version. Please adapt your code to use either `displot` (a figure-level function with similar flexibility) or `histplot` (an axes-level function for histograms).\n",
      "  warnings.warn(msg, FutureWarning)\n"
     ]
    },
    {
     "data": {
      "image/png": "[encoded data removed]",
      "text/plain": [
       "<Figure size 432x288 with 1 Axes>"
      ]
     },
     "metadata": {
      "needs_background": "light"
     },
     "output_type": "display_data"
    }
   ],
   "source": [
    "ax = sns.distplot(df_final['price'], kde=False, color='lightskyblue')\n",
    "plt.title(\"Distribution des données\", fontsize=20, y=1.012)\n",
    "plt.xlabel(\"price\", labelpad=15)\n",
    "plt.ylabel(\"frequency\", labelpad=15)\n",
    "names = [\"median\", \"mean\"]\n",
    "colors = ['darkmagenta', 'darkorange']\n",
    "measurements = [prix_median, prix_moyen]\n",
    "for measurement, name, color in zip(measurements, names, colors):\n",
    "    plt.axvline(x=measurement, linestyle='--', linewidth=2.5, label='{0} at {1}'.format(name, measurement), c=color)\n",
    "plt.legend();"
   ]
  },
  {
   "cell_type": "code",
   "execution_count": 77,
   "id": "184335b4",
   "metadata": {},
   "outputs": [
    {
     "data": {
      "text/plain": [
       "[<matplotlib.lines.Line2D at 0x1837d4dbfa0>]"
      ]
     },
     "execution_count": 77,
     "metadata": {},
     "output_type": "execute_result"
    },
    {
     "data": {
      "image/png": "[encoded data removed]",
      "text/plain": [
       "<Figure size 432x288 with 1 Axes>"
      ]
     },
     "metadata": {
      "needs_background": "light"
     },
     "output_type": "display_data"
    }
   ],
   "source": [
    "from scipy.stats import norm\n",
    "\n",
    "plt.hist(df_final.price, bins=20, rwidth=0.8, density = True)\n",
    "plt.xlabel('price')\n",
    "plt.ylabel('count')\n",
    "\n",
    "rng = np.arange(df_final.price.min(), df_final.price.max(), 0.1)\n",
    "plt.plot(rng,norm.pdf(rng, df_final.price.mean(), df_final.price.std()))"
   ]
  },
  {
   "cell_type": "markdown",
   "id": "1a9fb1b7",
   "metadata": {},
   "source": [
    "# MESURES DE DISPERSION"
   ]
  },
  {
   "cell_type": "markdown",
   "id": "4394d6b2",
   "metadata": {},
   "source": [
    "## La variance empirique corrigée\n",
    "\n",
    "La variance est la somme des différences à la moyenne au carré, divisée par l'effectif total."
   ]
  },
  {
   "cell_type": "code",
   "execution_count": 78,
   "id": "9e851cb9",
   "metadata": {},
   "outputs": [
    {
     "data": {
      "text/plain": [
       "772.342067748669"
      ]
     },
     "execution_count": 78,
     "metadata": {},
     "output_type": "execute_result"
    }
   ],
   "source": [
    "df_final.price.var(ddof=0)"
   ]
  },
  {
   "cell_type": "markdown",
   "id": "eaa86dab",
   "metadata": {},
   "source": [
    "- Plus la variance est élevée, plus les données dont dispersées, ce qui est le cas ici. \n",
    "- La variance (σ2) représente une quantité élevée au carré, ses unités sont également élevées au carré. C'est pourquoi la variance est difficile à utiliser dans la pratique. \n",
    "- Il est généralement plus facile d'interpréter l'écart type, car il utilise les mêmes unités que les données. "
   ]
  },
  {
   "cell_type": "markdown",
   "id": "8160e080",
   "metadata": {},
   "source": [
    "## L'écart-type\n",
    "\n",
    "- L'écart-type correspond à la racine carrée de la variance. \n",
    "- L'écart-type est dans la même unité de mesure que les données.\n",
    "- L'écart type est la mesure de la dispersion des données par rapport à la moyenne.\n"
   ]
  },
  {
   "cell_type": "code",
   "execution_count": 79,
   "id": "8c7a1010",
   "metadata": {},
   "outputs": [
    {
     "data": {
      "text/plain": [
       "27.810524922323722"
      ]
     },
     "execution_count": 79,
     "metadata": {},
     "output_type": "execute_result"
    }
   ],
   "source": [
    "df_final.price.std()"
   ]
  },
  {
   "cell_type": "markdown",
   "id": "33b52a13",
   "metadata": {},
   "source": [
    "## Coefficient de variation \n"
   ]
  },
  {
   "cell_type": "markdown",
   "id": "9bca5b5c",
   "metadata": {},
   "source": [
    "- L'écart moyen absolu est similaire à la variance, à la différence que le calcul fait intervenir la valeur absolue plutôt que le passage au carré.\n",
    "- Le coefficient de variation est une mesure de la répartition qui décrit la variation des données par rapport à la moyenne."
   ]
  },
  {
   "cell_type": "code",
   "execution_count": 80,
   "id": "e0fe25a7",
   "metadata": {},
   "outputs": [
    {
     "data": {
      "text/plain": [
       "27.791042941002935"
      ]
     },
     "execution_count": 80,
     "metadata": {},
     "output_type": "execute_result"
    }
   ],
   "source": [
    "df_final.price.std(ddof=0)"
   ]
  },
  {
   "cell_type": "markdown",
   "id": "23dd175e",
   "metadata": {},
   "source": [
    "# DETECTION DES OUTLIERS\n"
   ]
  },
  {
   "cell_type": "code",
   "execution_count": 81,
   "id": "ef87db3d",
   "metadata": {},
   "outputs": [
    {
     "data": {
      "text/html": [
       "<div>\n",
       "<style scoped>\n",
       "    .dataframe tbody tr th:only-of-type {\n",
       "        vertical-align: middle;\n",
       "    }\n",
       "\n",
       "    .dataframe tbody tr th {\n",
       "        vertical-align: top;\n",
       "    }\n",
       "\n",
       "    .dataframe thead th {\n",
       "        text-align: right;\n",
       "    }\n",
       "</style>\n",
       "<table border=\"1\" class=\"dataframe\">\n",
       "  <thead>\n",
       "    <tr style=\"text-align: right;\">\n",
       "      <th></th>\n",
       "      <th>product_id</th>\n",
       "      <th>onsale_web</th>\n",
       "      <th>price</th>\n",
       "      <th>stock_quantity</th>\n",
       "      <th>virtual</th>\n",
       "      <th>downloadable</th>\n",
       "      <th>rating_count</th>\n",
       "      <th>average_rating</th>\n",
       "      <th>total_sales</th>\n",
       "      <th>tax_class</th>\n",
       "      <th>post_author</th>\n",
       "      <th>post_content</th>\n",
       "      <th>post_password</th>\n",
       "      <th>post_content_filtered</th>\n",
       "      <th>post_parent</th>\n",
       "      <th>menu_order</th>\n",
       "      <th>comment_count</th>\n",
       "    </tr>\n",
       "  </thead>\n",
       "  <tbody>\n",
       "    <tr>\n",
       "      <th>count</th>\n",
       "      <td>714.000000</td>\n",
       "      <td>714.0</td>\n",
       "      <td>714.000000</td>\n",
       "      <td>714.000000</td>\n",
       "      <td>714.0</td>\n",
       "      <td>714.0</td>\n",
       "      <td>714.0</td>\n",
       "      <td>714.0</td>\n",
       "      <td>714.000000</td>\n",
       "      <td>0.0</td>\n",
       "      <td>714.000000</td>\n",
       "      <td>0.0</td>\n",
       "      <td>0.0</td>\n",
       "      <td>0.0</td>\n",
       "      <td>714.0</td>\n",
       "      <td>714.0</td>\n",
       "      <td>714.0</td>\n",
       "    </tr>\n",
       "    <tr>\n",
       "      <th>mean</th>\n",
       "      <td>5032.557423</td>\n",
       "      <td>1.0</td>\n",
       "      <td>32.493137</td>\n",
       "      <td>28.746499</td>\n",
       "      <td>0.0</td>\n",
       "      <td>0.0</td>\n",
       "      <td>0.0</td>\n",
       "      <td>0.0</td>\n",
       "      <td>4.012605</td>\n",
       "      <td>NaN</td>\n",
       "      <td>1.998599</td>\n",
       "      <td>NaN</td>\n",
       "      <td>NaN</td>\n",
       "      <td>NaN</td>\n",
       "      <td>0.0</td>\n",
       "      <td>0.0</td>\n",
       "      <td>0.0</td>\n",
       "    </tr>\n",
       "    <tr>\n",
       "      <th>std</th>\n",
       "      <td>790.510878</td>\n",
       "      <td>0.0</td>\n",
       "      <td>27.810525</td>\n",
       "      <td>48.012608</td>\n",
       "      <td>0.0</td>\n",
       "      <td>0.0</td>\n",
       "      <td>0.0</td>\n",
       "      <td>0.0</td>\n",
       "      <td>8.518183</td>\n",
       "      <td>NaN</td>\n",
       "      <td>0.037424</td>\n",
       "      <td>NaN</td>\n",
       "      <td>NaN</td>\n",
       "      <td>NaN</td>\n",
       "      <td>0.0</td>\n",
       "      <td>0.0</td>\n",
       "      <td>0.0</td>\n",
       "    </tr>\n",
       "    <tr>\n",
       "      <th>min</th>\n",
       "      <td>3847.000000</td>\n",
       "      <td>1.0</td>\n",
       "      <td>5.200000</td>\n",
       "      <td>0.000000</td>\n",
       "      <td>0.0</td>\n",
       "      <td>0.0</td>\n",
       "      <td>0.0</td>\n",
       "      <td>0.0</td>\n",
       "      <td>0.000000</td>\n",
       "      <td>NaN</td>\n",
       "      <td>1.000000</td>\n",
       "      <td>NaN</td>\n",
       "      <td>NaN</td>\n",
       "      <td>NaN</td>\n",
       "      <td>0.0</td>\n",
       "      <td>0.0</td>\n",
       "      <td>0.0</td>\n",
       "    </tr>\n",
       "    <tr>\n",
       "      <th>25%</th>\n",
       "      <td>4280.250000</td>\n",
       "      <td>1.0</td>\n",
       "      <td>14.100000</td>\n",
       "      <td>2.000000</td>\n",
       "      <td>0.0</td>\n",
       "      <td>0.0</td>\n",
       "      <td>0.0</td>\n",
       "      <td>0.0</td>\n",
       "      <td>0.000000</td>\n",
       "      <td>NaN</td>\n",
       "      <td>2.000000</td>\n",
       "      <td>NaN</td>\n",
       "      <td>NaN</td>\n",
       "      <td>NaN</td>\n",
       "      <td>0.0</td>\n",
       "      <td>0.0</td>\n",
       "      <td>0.0</td>\n",
       "    </tr>\n",
       "    <tr>\n",
       "      <th>50%</th>\n",
       "      <td>4796.000000</td>\n",
       "      <td>1.0</td>\n",
       "      <td>23.550000</td>\n",
       "      <td>12.000000</td>\n",
       "      <td>0.0</td>\n",
       "      <td>0.0</td>\n",
       "      <td>0.0</td>\n",
       "      <td>0.0</td>\n",
       "      <td>1.000000</td>\n",
       "      <td>NaN</td>\n",
       "      <td>2.000000</td>\n",
       "      <td>NaN</td>\n",
       "      <td>NaN</td>\n",
       "      <td>NaN</td>\n",
       "      <td>0.0</td>\n",
       "      <td>0.0</td>\n",
       "      <td>0.0</td>\n",
       "    </tr>\n",
       "    <tr>\n",
       "      <th>75%</th>\n",
       "      <td>5710.500000</td>\n",
       "      <td>1.0</td>\n",
       "      <td>42.175000</td>\n",
       "      <td>35.000000</td>\n",
       "      <td>0.0</td>\n",
       "      <td>0.0</td>\n",
       "      <td>0.0</td>\n",
       "      <td>0.0</td>\n",
       "      <td>4.000000</td>\n",
       "      <td>NaN</td>\n",
       "      <td>2.000000</td>\n",
       "      <td>NaN</td>\n",
       "      <td>NaN</td>\n",
       "      <td>NaN</td>\n",
       "      <td>0.0</td>\n",
       "      <td>0.0</td>\n",
       "      <td>0.0</td>\n",
       "    </tr>\n",
       "    <tr>\n",
       "      <th>max</th>\n",
       "      <td>7338.000000</td>\n",
       "      <td>1.0</td>\n",
       "      <td>225.000000</td>\n",
       "      <td>578.000000</td>\n",
       "      <td>0.0</td>\n",
       "      <td>0.0</td>\n",
       "      <td>0.0</td>\n",
       "      <td>0.0</td>\n",
       "      <td>96.000000</td>\n",
       "      <td>NaN</td>\n",
       "      <td>2.000000</td>\n",
       "      <td>NaN</td>\n",
       "      <td>NaN</td>\n",
       "      <td>NaN</td>\n",
       "      <td>0.0</td>\n",
       "      <td>0.0</td>\n",
       "      <td>0.0</td>\n",
       "    </tr>\n",
       "  </tbody>\n",
       "</table>\n",
       "</div>"
      ],
      "text/plain": [
       "        product_id  onsale_web       price  stock_quantity  virtual  \\\n",
       "count   714.000000       714.0  714.000000      714.000000    714.0   \n",
       "mean   5032.557423         1.0   32.493137       28.746499      0.0   \n",
       "std     790.510878         0.0   27.810525       48.012608      0.0   \n",
       "min    3847.000000         1.0    5.200000        0.000000      0.0   \n",
       "25%    4280.250000         1.0   14.100000        2.000000      0.0   \n",
       "50%    4796.000000         1.0   23.550000       12.000000      0.0   \n",
       "75%    5710.500000         1.0   42.175000       35.000000      0.0   \n",
       "max    7338.000000         1.0  225.000000      578.000000      0.0   \n",
       "\n",
       "       downloadable  rating_count  average_rating  total_sales  tax_class  \\\n",
       "count         714.0         714.0           714.0   714.000000        0.0   \n",
       "mean            0.0           0.0             0.0     4.012605        NaN   \n",
       "std             0.0           0.0             0.0     8.518183        NaN   \n",
       "min             0.0           0.0             0.0     0.000000        NaN   \n",
       "25%             0.0           0.0             0.0     0.000000        NaN   \n",
       "50%             0.0           0.0             0.0     1.000000        NaN   \n",
       "75%             0.0           0.0             0.0     4.000000        NaN   \n",
       "max             0.0           0.0             0.0    96.000000        NaN   \n",
       "\n",
       "       post_author  post_content  post_password  post_content_filtered  \\\n",
       "count   714.000000           0.0            0.0                    0.0   \n",
       "mean      1.998599           NaN            NaN                    NaN   \n",
       "std       0.037424           NaN            NaN                    NaN   \n",
       "min       1.000000           NaN            NaN                    NaN   \n",
       "25%       2.000000           NaN            NaN                    NaN   \n",
       "50%       2.000000           NaN            NaN                    NaN   \n",
       "75%       2.000000           NaN            NaN                    NaN   \n",
       "max       2.000000           NaN            NaN                    NaN   \n",
       "\n",
       "       post_parent  menu_order  comment_count  \n",
       "count        714.0       714.0          714.0  \n",
       "mean           0.0         0.0            0.0  \n",
       "std            0.0         0.0            0.0  \n",
       "min            0.0         0.0            0.0  \n",
       "25%            0.0         0.0            0.0  \n",
       "50%            0.0         0.0            0.0  \n",
       "75%            0.0         0.0            0.0  \n",
       "max            0.0         0.0            0.0  "
      ]
     },
     "execution_count": 81,
     "metadata": {},
     "output_type": "execute_result"
    }
   ],
   "source": [
    "df_final.describe()"
   ]
  },
  {
   "cell_type": "markdown",
   "id": "fd320e30",
   "metadata": {},
   "source": [
    "## Méthode 1 : L'écart interquartile\n",
    "\n",
    ">L'écart interquartile est la différence entre le 3e quartile et le 1er quartile :\n",
    "IQ=Q3−Q1\n",
    "\n",
    "1/4 des valeurs se trouvent en dessous de **Q1** et 3/4 au-dessus ;\n",
    "\n",
    "2/4 se trouvent en dessous de **Q2** , et 2/4 au-dessus ( ***Q2 est la médiane*** ) ;\n",
    "\n",
    "3/4 se trouvent en dessous de **Q3** , et 1/4 au-dessus.\n",
    "\n",
    " Le Quartile **Q_1** correspond au quantile **Q_0.25** et le quartile **Q_3** correspond au quantile **Q_0.75**.\n",
    " \n",
    " Le Quantile **Q_0.5** correspond à  **la médiane**"
   ]
  },
  {
   "cell_type": "markdown",
   "id": "d94a05a3",
   "metadata": {},
   "source": [
    "### Calcul de Q1"
   ]
  },
  {
   "cell_type": "code",
   "execution_count": 87,
   "id": "9ffc3489",
   "metadata": {},
   "outputs": [
    {
     "name": "stdout",
     "output_type": "stream",
     "text": [
      "Quartile Q1 vaut :  14\n"
     ]
    }
   ],
   "source": [
    "# On calcule le quantile 0,25 qui est le quartile Q1\n",
    "Q1 = round(np.percentile(df_final['price'], 25))\n",
    "print(\"Quartile Q1 vaut : \", Q1)"
   ]
  },
  {
   "cell_type": "markdown",
   "id": "3a7a5bbd",
   "metadata": {},
   "source": [
    "### Calcul de Q3"
   ]
  },
  {
   "cell_type": "code",
   "execution_count": 88,
   "id": "0c3bd840",
   "metadata": {},
   "outputs": [
    {
     "name": "stdout",
     "output_type": "stream",
     "text": [
      "Quartile Q3 vaut :  42\n"
     ]
    }
   ],
   "source": [
    "# On calcule le quantile 0,75 qui est le quartile Q3\n",
    "Q3 = round(np.percentile(df_final['price'], 75))\n",
    "print(\"Quartile Q3 vaut : \", Q3)"
   ]
  },
  {
   "cell_type": "markdown",
   "id": "2dfb85e2",
   "metadata": {},
   "source": [
    "### Calcul de Q1 et Q3 > plus efficace"
   ]
  },
  {
   "cell_type": "code",
   "execution_count": 89,
   "id": "e522bc40",
   "metadata": {},
   "outputs": [
    {
     "name": "stdout",
     "output_type": "stream",
     "text": [
      "Le quartile 1 vaut  14 .\n",
      "Le quartile 3 vaut 42 .\n"
     ]
    }
   ],
   "source": [
    "# Calcul de q1 et q3\n",
    "quartile_1, quartile_3 = np.percentile(df_final.price,[25,75])\n",
    "print('Le quartile 1 vaut ', round(quartile_1),'.')\n",
    "print('Le quartile 3 vaut', round(quartile_3),'.')"
   ]
  },
  {
   "cell_type": "markdown",
   "id": "2e2591c8",
   "metadata": {},
   "source": [
    "### Calcul de l'écart interquartile"
   ]
  },
  {
   "cell_type": "code",
   "execution_count": 90,
   "id": "c482d939",
   "metadata": {},
   "outputs": [
    {
     "name": "stdout",
     "output_type": "stream",
     "text": [
      "Lécart interquartile est de 28\n"
     ]
    }
   ],
   "source": [
    "#L ecart interquartile est Q3 - Q1\n",
    "IQ = Q3-Q1\n",
    "print('Lécart interquartile est de', (IQ))"
   ]
  },
  {
   "cell_type": "markdown",
   "id": "25d5921f",
   "metadata": {},
   "source": [
    "### Déterminer les valeurs seuils"
   ]
  },
  {
   "cell_type": "markdown",
   "id": "f49a8dd0",
   "metadata": {},
   "source": [
    ">Un point de données est tracé comme une valeur aberrante si sa valeur est inférieure à Q1-1,5(Q3-Q1) ou supérieure à Q3+ 1,5(Q3-Q1)."
   ]
  },
  {
   "cell_type": "code",
   "execution_count": 92,
   "id": "331b4be5",
   "metadata": {},
   "outputs": [
    {
     "name": "stdout",
     "output_type": "stream",
     "text": [
      "Le seuil au dela duquel les valeurs sont considérées comme aberrantes et/ou extrêmes est 84.0 .\n",
      "Le seuil en dessous duquel les valeurs sont considérées comme aberrantes et/ou extrêmes est  -28.0 .\n"
     ]
    }
   ],
   "source": [
    "upper_bound_val = Q3 +(1.5*IQ)\n",
    "lower_bound_val = Q1 -(1.5*IQ)\n",
    "print('Le seuil au dela duquel les valeurs sont considérées comme aberrantes et/ou extrêmes est', upper_bound_val,'.')\n",
    "print('Le seuil en dessous duquel les valeurs sont considérées comme aberrantes et/ou extrêmes est ',lower_bound_val,'.')"
   ]
  },
  {
   "cell_type": "code",
   "execution_count": 93,
   "id": "555f3723",
   "metadata": {},
   "outputs": [],
   "source": [
    "liste_outliers = df_final[(df_final.price>upper_bound_val) | (df_final.price<lower_bound_val)]"
   ]
  },
  {
   "cell_type": "code",
   "execution_count": 94,
   "id": "a8b2fd89",
   "metadata": {},
   "outputs": [
    {
     "name": "stdout",
     "output_type": "stream",
     "text": [
      "Selon la méthode des interquartiles, nous détectons 32 valeurs aberrantes et/ou extrêmes.\n"
     ]
    }
   ],
   "source": [
    "print('Selon la méthode des interquartiles, nous détectons', len(liste_outliers), 'valeurs aberrantes et/ou extrêmes.')"
   ]
  },
  {
   "cell_type": "markdown",
   "id": "27896300",
   "metadata": {},
   "source": [
    "## Methode 2 : Boxplot ou Boîte à moustaches\n",
    "Une représentation graphique intéressante pour représenter la dispersion d'une variable quantitative est la boîte à moustaches, ou boxplot. Cette dernière se construit à partir des différents quartiles.\n",
    "\n",
    "> Les outliers correspondent à toutes les valeurs qui se situent en dehors des barrières. Les valeurs extérieures correspondent aux valeurs se situant entre les barrières intérieures et extérieures. Les valeurs lointaines se situent en dehors de la barrière extérieure.\n"
   ]
  },
  {
   "cell_type": "code",
   "execution_count": 95,
   "id": "405c7b35",
   "metadata": {},
   "outputs": [
    {
     "data": {
      "image/png": "[encoded data removed]",
      "text/plain": [
       "<Figure size 1080x432 with 1 Axes>"
      ]
     },
     "metadata": {
      "needs_background": "light"
     },
     "output_type": "display_data"
    }
   ],
   "source": [
    "plt.figure(figsize=(15,6))\n",
    "df_final.boxplot(column=\"price\", vert=False)\n",
    "plt.show()"
   ]
  },
  {
   "cell_type": "markdown",
   "id": "3977d2d8",
   "metadata": {},
   "source": [
    "## Méthode 3 : Z score\n",
    "\n",
    "> Un z score  (également appelé score standard) nous donne une idée de la distance qui sépare un point de données de la moyenne. \n",
    "Mais plus techniquement, il s'agit d'une mesure du nombre d'écarts types en dessous ou au-dessus de la population.\n",
    "\n",
    "- Pour utiliser un score z, il faut connaître la moyenne μ et l’écart-type de la population σ.\n",
    "- Les z scores vont de -3 écarts-types (qui tomberaient à l'extrême gauche de la courbe de distribution normale) à +3 écarts-types (qui tomberaient à l'extrême droite de la courbe de distribution normale).\n",
    "\n",
    "L'équation du z score est : \n",
    "\n",
    "z = (x – μ)/σ soit z = (x - moyenne)/écart-type"
   ]
  },
  {
   "cell_type": "code",
   "execution_count": 130,
   "id": "5993e221",
   "metadata": {},
   "outputs": [],
   "source": [
    "outliers_zscore = []\n",
    "def detect_outliers(x) : \n",
    "    \n",
    "    threshold=2\n",
    "    mean = np.mean(x)\n",
    "    std = np.std(x)\n",
    "    \n",
    "    for i in x :\n",
    "        z_score = (i-mean)/std\n",
    "        if np.abs(z_score)>threshold:\n",
    "            outliers_zscore.append(i)\n",
    "    return outliers_zscore"
   ]
  },
  {
   "cell_type": "code",
   "execution_count": 131,
   "id": "3af6de5f",
   "metadata": {},
   "outputs": [
    {
     "data": {
      "text/plain": [
       "[100.0,\n",
       " 88.4,\n",
       " 225.0,\n",
       " 126.5,\n",
       " 176.0,\n",
       " 108.5,\n",
       " 157.0,\n",
       " 104.0,\n",
       " 109.6,\n",
       " 102.3,\n",
       " 137.0,\n",
       " 217.5,\n",
       " 105.0,\n",
       " 105.0,\n",
       " 112.0,\n",
       " 92.0,\n",
       " 124.8,\n",
       " 175.0,\n",
       " 191.3,\n",
       " 93.0,\n",
       " 122.0,\n",
       " 114.0,\n",
       " 135.0,\n",
       " 105.6,\n",
       " 116.4,\n",
       " 115.0,\n",
       " 121.0,\n",
       " 99.0,\n",
       " 115.0,\n",
       " 121.0]"
      ]
     },
     "execution_count": 131,
     "metadata": {},
     "output_type": "execute_result"
    }
   ],
   "source": [
    "list_outliers_zscore = detect_outliers(df_final.price)\n",
    "list_outliers_zscore"
   ]
  },
  {
   "cell_type": "code",
   "execution_count": 132,
   "id": "39b00dfd",
   "metadata": {},
   "outputs": [
    {
     "name": "stdout",
     "output_type": "stream",
     "text": [
      "Avec la méthode du Z score, nous détectons 30 valeurs aberrantes et/ou extrêmes.\n"
     ]
    }
   ],
   "source": [
    "print('Avec la méthode du Z score, nous détectons', len(list_outliers_zscore), 'valeurs aberrantes et/ou extrêmes.')"
   ]
  },
  {
   "cell_type": "markdown",
   "id": "7c7413d7",
   "metadata": {},
   "source": [
    "## Méthode 4 : Scatter plot ou nuage de points"
   ]
  },
  {
   "cell_type": "code",
   "execution_count": 96,
   "id": "228d5fce",
   "metadata": {},
   "outputs": [
    {
     "data": {
      "image/png": "[encoded data removed]",
      "text/plain": [
       "<Figure size 432x288 with 1 Axes>"
      ]
     },
     "metadata": {
      "needs_background": "light"
     },
     "output_type": "display_data"
    }
   ],
   "source": [
    "plt.scatter(df_final.total_sales, df_final.price)\n",
    "plt.xlabel('Total sales')\n",
    "plt.ylabel('Price')\n",
    "plt.title('Detect Outliers with scatter plot', fontsize = 14);"
   ]
  },
  {
   "cell_type": "markdown",
   "id": "336a46cd",
   "metadata": {},
   "source": [
    "## Liste des outliers\n",
    "\n",
    "Les outliers correspondent à toutes les valeurs qui se situent en dehors des barrières. Les valeurs extérieures correspondent aux valeurs se situant entre les barrières intérieures et extérieures. Les valeurs lointaines se situent en dehors de la barrière extérieure."
   ]
  },
  {
   "cell_type": "code",
   "execution_count": 133,
   "id": "0c640c84",
   "metadata": {},
   "outputs": [
    {
     "data": {
      "text/html": [
       "<div>\n",
       "<style scoped>\n",
       "    .dataframe tbody tr th:only-of-type {\n",
       "        vertical-align: middle;\n",
       "    }\n",
       "\n",
       "    .dataframe tbody tr th {\n",
       "        vertical-align: top;\n",
       "    }\n",
       "\n",
       "    .dataframe thead th {\n",
       "        text-align: right;\n",
       "    }\n",
       "</style>\n",
       "<table border=\"1\" class=\"dataframe\">\n",
       "  <thead>\n",
       "    <tr style=\"text-align: right;\">\n",
       "      <th></th>\n",
       "      <th>price</th>\n",
       "      <th>id_web</th>\n",
       "      <th>product_id</th>\n",
       "      <th>post_name</th>\n",
       "    </tr>\n",
       "  </thead>\n",
       "  <tbody>\n",
       "    <tr>\n",
       "      <th>200</th>\n",
       "      <td>225.0</td>\n",
       "      <td>15940</td>\n",
       "      <td>4352</td>\n",
       "      <td>champagne-egly-ouriet-grand-cru-millesime-2008</td>\n",
       "    </tr>\n",
       "    <tr>\n",
       "      <th>426</th>\n",
       "      <td>217.5</td>\n",
       "      <td>14581</td>\n",
       "      <td>5001</td>\n",
       "      <td>david-duband-charmes-chambertin-grand-cru-2014</td>\n",
       "    </tr>\n",
       "    <tr>\n",
       "      <th>587</th>\n",
       "      <td>191.3</td>\n",
       "      <td>14983</td>\n",
       "      <td>5892</td>\n",
       "      <td>coteaux-champenois-egly-ouriet-ambonnay-rouge-...</td>\n",
       "    </tr>\n",
       "    <tr>\n",
       "      <th>219</th>\n",
       "      <td>176.0</td>\n",
       "      <td>3510</td>\n",
       "      <td>4402</td>\n",
       "      <td>cognac-frapin-vip-xo</td>\n",
       "    </tr>\n",
       "    <tr>\n",
       "      <th>553</th>\n",
       "      <td>175.0</td>\n",
       "      <td>15185</td>\n",
       "      <td>5767</td>\n",
       "      <td>camille-giroud-clos-de-vougeot-2016</td>\n",
       "    </tr>\n",
       "    <tr>\n",
       "      <th>222</th>\n",
       "      <td>157.0</td>\n",
       "      <td>7819</td>\n",
       "      <td>4406</td>\n",
       "      <td>cognac-frapin-chateau-de-fontpinot-1989-20-ans</td>\n",
       "    </tr>\n",
       "    <tr>\n",
       "      <th>382</th>\n",
       "      <td>137.0</td>\n",
       "      <td>14220</td>\n",
       "      <td>4904</td>\n",
       "      <td>domaine-des-croix-corton-charlemagne-grand-cru...</td>\n",
       "    </tr>\n",
       "    <tr>\n",
       "      <th>642</th>\n",
       "      <td>135.0</td>\n",
       "      <td>14923</td>\n",
       "      <td>6126</td>\n",
       "      <td>champagne-gosset-celebris-vintage-2007</td>\n",
       "    </tr>\n",
       "    <tr>\n",
       "      <th>202</th>\n",
       "      <td>126.5</td>\n",
       "      <td>12589</td>\n",
       "      <td>4355</td>\n",
       "      <td>champagne-egly-ouriet-grand-cru-brut-blanc-de-...</td>\n",
       "    </tr>\n",
       "    <tr>\n",
       "      <th>511</th>\n",
       "      <td>124.8</td>\n",
       "      <td>14915</td>\n",
       "      <td>5612</td>\n",
       "      <td>domaine-weinbach-gewurztraminer-gc-furstentum-...</td>\n",
       "    </tr>\n",
       "    <tr>\n",
       "      <th>603</th>\n",
       "      <td>122.0</td>\n",
       "      <td>14775</td>\n",
       "      <td>5917</td>\n",
       "      <td>wemyss-malts-single-cask-scotch-whisky-choc-n-...</td>\n",
       "    </tr>\n",
       "    <tr>\n",
       "      <th>654</th>\n",
       "      <td>121.0</td>\n",
       "      <td>15072</td>\n",
       "      <td>6213</td>\n",
       "      <td>domaine-des-comtes-lafon-volnay-1er-cru-santen...</td>\n",
       "    </tr>\n",
       "    <tr>\n",
       "      <th>657</th>\n",
       "      <td>121.0</td>\n",
       "      <td>15070</td>\n",
       "      <td>6216</td>\n",
       "      <td>domaine-des-comtes-lafon-volnay-1er-cru-champa...</td>\n",
       "    </tr>\n",
       "    <tr>\n",
       "      <th>648</th>\n",
       "      <td>116.4</td>\n",
       "      <td>15126</td>\n",
       "      <td>6202</td>\n",
       "      <td>domaine-clerget-echezeaux-en-orveaux-2015</td>\n",
       "    </tr>\n",
       "    <tr>\n",
       "      <th>653</th>\n",
       "      <td>115.0</td>\n",
       "      <td>13996</td>\n",
       "      <td>6212</td>\n",
       "      <td>domaine-des-comtes-lafon-volnay-1er-cru-santen...</td>\n",
       "    </tr>\n",
       "    <tr>\n",
       "      <th>656</th>\n",
       "      <td>115.0</td>\n",
       "      <td>12790</td>\n",
       "      <td>6215</td>\n",
       "      <td>domaine-des-comtes-lafon-volnay-1er-cru-champa...</td>\n",
       "    </tr>\n",
       "    <tr>\n",
       "      <th>604</th>\n",
       "      <td>114.0</td>\n",
       "      <td>14773</td>\n",
       "      <td>5918</td>\n",
       "      <td>wemyss-malts-single-cask-scotch-whisky-chai-ca...</td>\n",
       "    </tr>\n",
       "    <tr>\n",
       "      <th>437</th>\n",
       "      <td>112.0</td>\n",
       "      <td>13914</td>\n",
       "      <td>5025</td>\n",
       "      <td>champagne-agrapart-fils-lavizoise-grand-cru-20...</td>\n",
       "    </tr>\n",
       "    <tr>\n",
       "      <th>228</th>\n",
       "      <td>109.6</td>\n",
       "      <td>12857</td>\n",
       "      <td>4582</td>\n",
       "      <td>chateau-de-puligny-montrachet-1cru-champ-canet...</td>\n",
       "    </tr>\n",
       "    <tr>\n",
       "      <th>220</th>\n",
       "      <td>108.5</td>\n",
       "      <td>3507</td>\n",
       "      <td>4404</td>\n",
       "      <td>cognac-frapin-fontpinot-xo</td>\n",
       "    </tr>\n",
       "    <tr>\n",
       "      <th>647</th>\n",
       "      <td>105.6</td>\n",
       "      <td>14596</td>\n",
       "      <td>6201</td>\n",
       "      <td>david-duband-chambolle-musigny-1er-cru-les-sen...</td>\n",
       "    </tr>\n",
       "    <tr>\n",
       "      <th>431</th>\n",
       "      <td>105.0</td>\n",
       "      <td>12791</td>\n",
       "      <td>5007</td>\n",
       "      <td>domaine-des-comtes-lafon-volnay-1er-cru-santen...</td>\n",
       "    </tr>\n",
       "    <tr>\n",
       "      <th>432</th>\n",
       "      <td>105.0</td>\n",
       "      <td>11602</td>\n",
       "      <td>5008</td>\n",
       "      <td>domaine-des-comtes-lafon-volnay-1er-cru-santen...</td>\n",
       "    </tr>\n",
       "    <tr>\n",
       "      <th>223</th>\n",
       "      <td>104.0</td>\n",
       "      <td>3509</td>\n",
       "      <td>4407</td>\n",
       "      <td>cognac-frapin-cigar-blend</td>\n",
       "    </tr>\n",
       "    <tr>\n",
       "      <th>381</th>\n",
       "      <td>102.3</td>\n",
       "      <td>14805</td>\n",
       "      <td>4903</td>\n",
       "      <td>domaine-des-croix-corton-grand-cru-les-greves-...</td>\n",
       "    </tr>\n",
       "    <tr>\n",
       "      <th>64</th>\n",
       "      <td>100.0</td>\n",
       "      <td>15382</td>\n",
       "      <td>4115</td>\n",
       "      <td>zind-humbrecht-riesling-gc-rangen-thann-clos-s...</td>\n",
       "    </tr>\n",
       "    <tr>\n",
       "      <th>655</th>\n",
       "      <td>99.0</td>\n",
       "      <td>11601</td>\n",
       "      <td>6214</td>\n",
       "      <td>domaine-des-comtes-lafon-volnay-1er-cru-champa...</td>\n",
       "    </tr>\n",
       "    <tr>\n",
       "      <th>602</th>\n",
       "      <td>93.0</td>\n",
       "      <td>14774</td>\n",
       "      <td>5916</td>\n",
       "      <td>wemyss-malts-single-cask-chocolate-moka-cake</td>\n",
       "    </tr>\n",
       "    <tr>\n",
       "      <th>502</th>\n",
       "      <td>92.0</td>\n",
       "      <td>19822</td>\n",
       "      <td>5565</td>\n",
       "      <td>tempier-bandol-cabassaou-2017</td>\n",
       "    </tr>\n",
       "    <tr>\n",
       "      <th>66</th>\n",
       "      <td>88.4</td>\n",
       "      <td>11668</td>\n",
       "      <td>4132</td>\n",
       "      <td>zind-humbrecht-pinot-gris-grand-cru-rangen-de-...</td>\n",
       "    </tr>\n",
       "    <tr>\n",
       "      <th>438</th>\n",
       "      <td>86.8</td>\n",
       "      <td>13913</td>\n",
       "      <td>5026</td>\n",
       "      <td>champagne-agrapart-fils-mineral-extra-brut-bla...</td>\n",
       "    </tr>\n",
       "    <tr>\n",
       "      <th>206</th>\n",
       "      <td>85.6</td>\n",
       "      <td>13853</td>\n",
       "      <td>4359</td>\n",
       "      <td>champagne-larmandier-bernier-grand-cru-vieille...</td>\n",
       "    </tr>\n",
       "  </tbody>\n",
       "</table>\n",
       "</div>"
      ],
      "text/plain": [
       "     price id_web  product_id  \\\n",
       "200  225.0  15940        4352   \n",
       "426  217.5  14581        5001   \n",
       "587  191.3  14983        5892   \n",
       "219  176.0   3510        4402   \n",
       "553  175.0  15185        5767   \n",
       "222  157.0   7819        4406   \n",
       "382  137.0  14220        4904   \n",
       "642  135.0  14923        6126   \n",
       "202  126.5  12589        4355   \n",
       "511  124.8  14915        5612   \n",
       "603  122.0  14775        5917   \n",
       "654  121.0  15072        6213   \n",
       "657  121.0  15070        6216   \n",
       "648  116.4  15126        6202   \n",
       "653  115.0  13996        6212   \n",
       "656  115.0  12790        6215   \n",
       "604  114.0  14773        5918   \n",
       "437  112.0  13914        5025   \n",
       "228  109.6  12857        4582   \n",
       "220  108.5   3507        4404   \n",
       "647  105.6  14596        6201   \n",
       "431  105.0  12791        5007   \n",
       "432  105.0  11602        5008   \n",
       "223  104.0   3509        4407   \n",
       "381  102.3  14805        4903   \n",
       "64   100.0  15382        4115   \n",
       "655   99.0  11601        6214   \n",
       "602   93.0  14774        5916   \n",
       "502   92.0  19822        5565   \n",
       "66    88.4  11668        4132   \n",
       "438   86.8  13913        5026   \n",
       "206   85.6  13853        4359   \n",
       "\n",
       "                                             post_name  \n",
       "200     champagne-egly-ouriet-grand-cru-millesime-2008  \n",
       "426     david-duband-charmes-chambertin-grand-cru-2014  \n",
       "587  coteaux-champenois-egly-ouriet-ambonnay-rouge-...  \n",
       "219                               cognac-frapin-vip-xo  \n",
       "553                camille-giroud-clos-de-vougeot-2016  \n",
       "222     cognac-frapin-chateau-de-fontpinot-1989-20-ans  \n",
       "382  domaine-des-croix-corton-charlemagne-grand-cru...  \n",
       "642             champagne-gosset-celebris-vintage-2007  \n",
       "202  champagne-egly-ouriet-grand-cru-brut-blanc-de-...  \n",
       "511  domaine-weinbach-gewurztraminer-gc-furstentum-...  \n",
       "603  wemyss-malts-single-cask-scotch-whisky-choc-n-...  \n",
       "654  domaine-des-comtes-lafon-volnay-1er-cru-santen...  \n",
       "657  domaine-des-comtes-lafon-volnay-1er-cru-champa...  \n",
       "648          domaine-clerget-echezeaux-en-orveaux-2015  \n",
       "653  domaine-des-comtes-lafon-volnay-1er-cru-santen...  \n",
       "656  domaine-des-comtes-lafon-volnay-1er-cru-champa...  \n",
       "604  wemyss-malts-single-cask-scotch-whisky-chai-ca...  \n",
       "437  champagne-agrapart-fils-lavizoise-grand-cru-20...  \n",
       "228  chateau-de-puligny-montrachet-1cru-champ-canet...  \n",
       "220                         cognac-frapin-fontpinot-xo  \n",
       "647  david-duband-chambolle-musigny-1er-cru-les-sen...  \n",
       "431  domaine-des-comtes-lafon-volnay-1er-cru-santen...  \n",
       "432  domaine-des-comtes-lafon-volnay-1er-cru-santen...  \n",
       "223                          cognac-frapin-cigar-blend  \n",
       "381  domaine-des-croix-corton-grand-cru-les-greves-...  \n",
       "64   zind-humbrecht-riesling-gc-rangen-thann-clos-s...  \n",
       "655  domaine-des-comtes-lafon-volnay-1er-cru-champa...  \n",
       "602       wemyss-malts-single-cask-chocolate-moka-cake  \n",
       "502                      tempier-bandol-cabassaou-2017  \n",
       "66   zind-humbrecht-pinot-gris-grand-cru-rangen-de-...  \n",
       "438  champagne-agrapart-fils-mineral-extra-brut-bla...  \n",
       "206  champagne-larmandier-bernier-grand-cru-vieille...  "
      ]
     },
     "execution_count": 133,
     "metadata": {},
     "output_type": "execute_result"
    }
   ],
   "source": [
    "outliers_iq = df_final[df_final.price >= Q3 +(1.5*IQ)][['price', 'id_web','product_id','post_name' ]].sort_values(by='price', ascending = False)\n",
    "outliers_iq"
   ]
  },
  {
   "cell_type": "markdown",
   "id": "1d123bdc",
   "metadata": {},
   "source": [
    "## REPRESENTATION GRAPHIQUE DES PRIX DES PRODUITS"
   ]
  },
  {
   "cell_type": "code",
   "execution_count": 98,
   "id": "b7b9d930",
   "metadata": {},
   "outputs": [
    {
     "data": {
      "text/plain": [
       "<function matplotlib.pyplot.show(close=None, block=None)>"
      ]
     },
     "execution_count": 98,
     "metadata": {},
     "output_type": "execute_result"
    },
    {
     "data": {
      "image/png": "[encoded data removed]",
      "text/plain": [
       "<Figure size 720x432 with 1 Axes>"
      ]
     },
     "metadata": {
      "needs_background": "light"
     },
     "output_type": "display_data"
    }
   ],
   "source": [
    "plt.figure(figsize=(10,6))\n",
    "df_final['price'].hist(bins=100)\n",
    "plt.xticks([10*i for i in range(24)])\n",
    "plt.show"
   ]
  },
  {
   "cell_type": "markdown",
   "id": "8f5ec69f",
   "metadata": {},
   "source": [
    "# LES MESURES DE FORME\n"
   ]
  },
  {
   "cell_type": "markdown",
   "id": "37c529d5",
   "metadata": {},
   "source": [
    "## Le Skewness et le Kurtosis empirique\n"
   ]
  },
  {
   "cell_type": "markdown",
   "id": "ca6e239b",
   "metadata": {},
   "source": [
    "### Le skewness\n",
    ">Le skewness est une mesure d'asymétrie. \n",
    "L’asymétrie est une méthode numérique statistique pour mesurer l’asymétrie de la distribution ou de l’ensemble de données. \n",
    "Il indique la position de la majorité des valeurs de données dans la distribution autour de la valeur moyenne.\n"
   ]
  },
  {
   "cell_type": "code",
   "execution_count": 100,
   "id": "02af1c89",
   "metadata": {},
   "outputs": [
    {
     "data": {
      "text/plain": [
       "2.5809012630033705"
      ]
     },
     "execution_count": 100,
     "metadata": {},
     "output_type": "execute_result"
    }
   ],
   "source": [
    "skew = df_final.price.skew()\n",
    "skew"
   ]
  },
  {
   "cell_type": "markdown",
   "id": "e43ea148",
   "metadata": {},
   "source": [
    " > Si le coefficient d’asymétrie est supérieur à 0, comme c'est le cas ici, alors le graphique est dit positivement\n",
    "    asymétrique avec la majorité des valeurs de données inférieures à la moyenne. La plupart des valeurs sont concentrées \n",
    "    sur le côté gauche du graphique."
   ]
  },
  {
   "cell_type": "markdown",
   "id": "ce28ba60",
   "metadata": {},
   "source": [
    "### Le Kurtosis\n",
    "> Kurtosis est une méthode numérique en statistique qui mesure la netteté du pic dans la distribution des données."
   ]
  },
  {
   "cell_type": "code",
   "execution_count": 102,
   "id": "09e7921d",
   "metadata": {},
   "outputs": [
    {
     "data": {
      "text/plain": [
       "10.088392064977292"
      ]
     },
     "execution_count": 102,
     "metadata": {},
     "output_type": "execute_result"
    }
   ],
   "source": [
    "kurtosis = df_final.price.kurtosis()\n",
    "kurtosis"
   ]
  },
  {
   "cell_type": "markdown",
   "id": "7dab1208",
   "metadata": {},
   "source": [
    "> Si le coefficient d’aplatissement est supérieur à 3, comme c'est le cas ici,  alors la distribution des données est leptokurtique et montre un pic net sur le graphique."
   ]
  },
  {
   "cell_type": "code",
   "execution_count": 103,
   "id": "4f4a3f17",
   "metadata": {},
   "outputs": [
    {
     "name": "stdout",
     "output_type": "stream",
     "text": [
      "Skewness: 2.580901\n",
      "Kurtosis: 10.088392\n"
     ]
    },
    {
     "name": "stderr",
     "output_type": "stream",
     "text": [
      "C:\\Users\\BDS CREATIONS\\anaconda3\\lib\\site-packages\\seaborn\\distributions.py:2619: FutureWarning: `distplot` is a deprecated function and will be removed in a future version. Please adapt your code to use either `displot` (a figure-level function with similar flexibility) or `histplot` (an axes-level function for histograms).\n",
      "  warnings.warn(msg, FutureWarning)\n"
     ]
    },
    {
     "data": {
      "image/png": "[encoded data removed]",
      "text/plain": [
       "<Figure size 504x504 with 1 Axes>"
      ]
     },
     "metadata": {
      "needs_background": "light"
     },
     "output_type": "display_data"
    }
   ],
   "source": [
    "plt.figure(figsize=(7, 7))\n",
    "sns.distplot( df_final['price'])\n",
    "print(\"Skewness: %f\" % df_final['price'].skew())\n",
    "print(\"Kurtosis: %f\" % df_final['price'].kurt())"
   ]
  },
  {
   "cell_type": "markdown",
   "id": "06ff31dc",
   "metadata": {},
   "source": [
    "Inclinaison positive : \n",
    "Le graphique est dit positivement asymétrique avec la majorité des valeurs de données inférieures à la moyenne.\n",
    "Ici on parle de distribution positive ou asymétrique à droite\n"
   ]
  },
  {
   "cell_type": "code",
   "execution_count": null,
   "id": "1bf9fef6",
   "metadata": {},
   "outputs": [],
   "source": []
  }
 ],
 "metadata": {
  "kernelspec": {
   "display_name": "Python 3 (ipykernel)",
   "language": "python",
   "name": "python3"
  },
  "language_info": {
   "codemirror_mode": {
    "name": "ipython",
    "version": 3
   },
   "file_extension": ".py",
   "mimetype": "text/x-python",
   "name": "python",
   "nbconvert_exporter": "python",
   "pygments_lexer": "ipython3",
   "version": "3.9.7"
  },
  "toc": {
   "base_numbering": 1,
   "nav_menu": {},
   "number_sections": true,
   "sideBar": true,
   "skip_h1_title": false,
   "title_cell": "Table of Contents",
   "title_sidebar": "Contents",
   "toc_cell": false,
   "toc_position": {
    "height": "calc(100% - 180px)",
    "left": "10px",
    "top": "150px",
    "width": "303.837px"
   },
   "toc_section_display": true,
   "toc_window_display": true
  }
 },
 "nbformat": 4,
 "nbformat_minor": 5
}
